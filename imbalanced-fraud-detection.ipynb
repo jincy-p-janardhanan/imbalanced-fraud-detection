{
  "cells": [
    {
      "cell_type": "markdown",
      "metadata": {
        "id": "view-in-github",
        "colab_type": "text"
      },
      "source": [
        "<a href=\"https://colab.research.google.com/github/jincy-p-janardhanan/imbalanced-fraud-detection/blob/main/imbalanced-fraud-detection.ipynb\" target=\"_parent\"><img src=\"https://colab.research.google.com/assets/colab-badge.svg\" alt=\"Open In Colab\"/></a>"
      ]
    },
    {
      "cell_type": "code",
      "source": [
        "from google.colab import drive\n",
        "drive.mount('/content/drive')"
      ],
      "metadata": {
        "colab": {
          "base_uri": "https://localhost:8080/"
        },
        "id": "QxTaRgs5o3F9",
        "outputId": "aa4b3ffa-66a6-4933-8819-b13a8063858b"
      },
      "id": "QxTaRgs5o3F9",
      "execution_count": 1,
      "outputs": [
        {
          "output_type": "stream",
          "name": "stdout",
          "text": [
            "Mounted at /content/drive\n"
          ]
        }
      ]
    },
    {
      "cell_type": "code",
      "source": [
        "# import gdown\n",
        "# url = 'https://drive.google.com/uc?export=download&confirm=6gh6&id=1VNpyNkGxHdskfdTNRSjjyNa5qC9u0JyV'\n",
        "# output = 'Fraud.csv'\n",
        "# gdown.download(url, output, quiet=False)\n",
        "# !cp /content/Fraud.csv /content/drive/MyDrive"
      ],
      "metadata": {
        "id": "Drk5M4HTjnX3"
      },
      "id": "Drk5M4HTjnX3",
      "execution_count": 2,
      "outputs": []
    },
    {
      "cell_type": "markdown",
      "id": "cff41eaf",
      "metadata": {
        "id": "cff41eaf"
      },
      "source": [
        "# Load data"
      ]
    },
    {
      "cell_type": "code",
      "execution_count": 3,
      "id": "c7f1c9da",
      "metadata": {
        "id": "c7f1c9da"
      },
      "outputs": [],
      "source": [
        "import pandas as pd"
      ]
    },
    {
      "cell_type": "code",
      "execution_count": 4,
      "id": "6d023655",
      "metadata": {
        "colab": {
          "base_uri": "https://localhost:8080/",
          "height": 206
        },
        "id": "6d023655",
        "outputId": "01e30119-de29-4dda-98d9-c0c6a067300f"
      },
      "outputs": [
        {
          "output_type": "execute_result",
          "data": {
            "text/plain": [
              "   step      type    amount     nameOrig  oldbalanceOrg  newbalanceOrig  \\\n",
              "0     1   PAYMENT   9839.64  C1231006815       170136.0       160296.36   \n",
              "1     1   PAYMENT   1864.28  C1666544295        21249.0        19384.72   \n",
              "2     1  TRANSFER    181.00  C1305486145          181.0            0.00   \n",
              "3     1  CASH_OUT    181.00   C840083671          181.0            0.00   \n",
              "4     1   PAYMENT  11668.14  C2048537720        41554.0        29885.86   \n",
              "\n",
              "      nameDest  oldbalanceDest  newbalanceDest  isFraud  isFlaggedFraud  \n",
              "0  M1979787155             0.0             0.0        0               0  \n",
              "1  M2044282225             0.0             0.0        0               0  \n",
              "2   C553264065             0.0             0.0        1               0  \n",
              "3    C38997010         21182.0             0.0        1               0  \n",
              "4  M1230701703             0.0             0.0        0               0  "
            ],
            "text/html": [
              "\n",
              "  <div id=\"df-dce4c79b-f1a4-4fcd-b5b2-2e66b1f2d9db\">\n",
              "    <div class=\"colab-df-container\">\n",
              "      <div>\n",
              "<style scoped>\n",
              "    .dataframe tbody tr th:only-of-type {\n",
              "        vertical-align: middle;\n",
              "    }\n",
              "\n",
              "    .dataframe tbody tr th {\n",
              "        vertical-align: top;\n",
              "    }\n",
              "\n",
              "    .dataframe thead th {\n",
              "        text-align: right;\n",
              "    }\n",
              "</style>\n",
              "<table border=\"1\" class=\"dataframe\">\n",
              "  <thead>\n",
              "    <tr style=\"text-align: right;\">\n",
              "      <th></th>\n",
              "      <th>step</th>\n",
              "      <th>type</th>\n",
              "      <th>amount</th>\n",
              "      <th>nameOrig</th>\n",
              "      <th>oldbalanceOrg</th>\n",
              "      <th>newbalanceOrig</th>\n",
              "      <th>nameDest</th>\n",
              "      <th>oldbalanceDest</th>\n",
              "      <th>newbalanceDest</th>\n",
              "      <th>isFraud</th>\n",
              "      <th>isFlaggedFraud</th>\n",
              "    </tr>\n",
              "  </thead>\n",
              "  <tbody>\n",
              "    <tr>\n",
              "      <th>0</th>\n",
              "      <td>1</td>\n",
              "      <td>PAYMENT</td>\n",
              "      <td>9839.64</td>\n",
              "      <td>C1231006815</td>\n",
              "      <td>170136.0</td>\n",
              "      <td>160296.36</td>\n",
              "      <td>M1979787155</td>\n",
              "      <td>0.0</td>\n",
              "      <td>0.0</td>\n",
              "      <td>0</td>\n",
              "      <td>0</td>\n",
              "    </tr>\n",
              "    <tr>\n",
              "      <th>1</th>\n",
              "      <td>1</td>\n",
              "      <td>PAYMENT</td>\n",
              "      <td>1864.28</td>\n",
              "      <td>C1666544295</td>\n",
              "      <td>21249.0</td>\n",
              "      <td>19384.72</td>\n",
              "      <td>M2044282225</td>\n",
              "      <td>0.0</td>\n",
              "      <td>0.0</td>\n",
              "      <td>0</td>\n",
              "      <td>0</td>\n",
              "    </tr>\n",
              "    <tr>\n",
              "      <th>2</th>\n",
              "      <td>1</td>\n",
              "      <td>TRANSFER</td>\n",
              "      <td>181.00</td>\n",
              "      <td>C1305486145</td>\n",
              "      <td>181.0</td>\n",
              "      <td>0.00</td>\n",
              "      <td>C553264065</td>\n",
              "      <td>0.0</td>\n",
              "      <td>0.0</td>\n",
              "      <td>1</td>\n",
              "      <td>0</td>\n",
              "    </tr>\n",
              "    <tr>\n",
              "      <th>3</th>\n",
              "      <td>1</td>\n",
              "      <td>CASH_OUT</td>\n",
              "      <td>181.00</td>\n",
              "      <td>C840083671</td>\n",
              "      <td>181.0</td>\n",
              "      <td>0.00</td>\n",
              "      <td>C38997010</td>\n",
              "      <td>21182.0</td>\n",
              "      <td>0.0</td>\n",
              "      <td>1</td>\n",
              "      <td>0</td>\n",
              "    </tr>\n",
              "    <tr>\n",
              "      <th>4</th>\n",
              "      <td>1</td>\n",
              "      <td>PAYMENT</td>\n",
              "      <td>11668.14</td>\n",
              "      <td>C2048537720</td>\n",
              "      <td>41554.0</td>\n",
              "      <td>29885.86</td>\n",
              "      <td>M1230701703</td>\n",
              "      <td>0.0</td>\n",
              "      <td>0.0</td>\n",
              "      <td>0</td>\n",
              "      <td>0</td>\n",
              "    </tr>\n",
              "  </tbody>\n",
              "</table>\n",
              "</div>\n",
              "      <button class=\"colab-df-convert\" onclick=\"convertToInteractive('df-dce4c79b-f1a4-4fcd-b5b2-2e66b1f2d9db')\"\n",
              "              title=\"Convert this dataframe to an interactive table.\"\n",
              "              style=\"display:none;\">\n",
              "        \n",
              "  <svg xmlns=\"http://www.w3.org/2000/svg\" height=\"24px\"viewBox=\"0 0 24 24\"\n",
              "       width=\"24px\">\n",
              "    <path d=\"M0 0h24v24H0V0z\" fill=\"none\"/>\n",
              "    <path d=\"M18.56 5.44l.94 2.06.94-2.06 2.06-.94-2.06-.94-.94-2.06-.94 2.06-2.06.94zm-11 1L8.5 8.5l.94-2.06 2.06-.94-2.06-.94L8.5 2.5l-.94 2.06-2.06.94zm10 10l.94 2.06.94-2.06 2.06-.94-2.06-.94-.94-2.06-.94 2.06-2.06.94z\"/><path d=\"M17.41 7.96l-1.37-1.37c-.4-.4-.92-.59-1.43-.59-.52 0-1.04.2-1.43.59L10.3 9.45l-7.72 7.72c-.78.78-.78 2.05 0 2.83L4 21.41c.39.39.9.59 1.41.59.51 0 1.02-.2 1.41-.59l7.78-7.78 2.81-2.81c.8-.78.8-2.07 0-2.86zM5.41 20L4 18.59l7.72-7.72 1.47 1.35L5.41 20z\"/>\n",
              "  </svg>\n",
              "      </button>\n",
              "      \n",
              "  <style>\n",
              "    .colab-df-container {\n",
              "      display:flex;\n",
              "      flex-wrap:wrap;\n",
              "      gap: 12px;\n",
              "    }\n",
              "\n",
              "    .colab-df-convert {\n",
              "      background-color: #E8F0FE;\n",
              "      border: none;\n",
              "      border-radius: 50%;\n",
              "      cursor: pointer;\n",
              "      display: none;\n",
              "      fill: #1967D2;\n",
              "      height: 32px;\n",
              "      padding: 0 0 0 0;\n",
              "      width: 32px;\n",
              "    }\n",
              "\n",
              "    .colab-df-convert:hover {\n",
              "      background-color: #E2EBFA;\n",
              "      box-shadow: 0px 1px 2px rgba(60, 64, 67, 0.3), 0px 1px 3px 1px rgba(60, 64, 67, 0.15);\n",
              "      fill: #174EA6;\n",
              "    }\n",
              "\n",
              "    [theme=dark] .colab-df-convert {\n",
              "      background-color: #3B4455;\n",
              "      fill: #D2E3FC;\n",
              "    }\n",
              "\n",
              "    [theme=dark] .colab-df-convert:hover {\n",
              "      background-color: #434B5C;\n",
              "      box-shadow: 0px 1px 3px 1px rgba(0, 0, 0, 0.15);\n",
              "      filter: drop-shadow(0px 1px 2px rgba(0, 0, 0, 0.3));\n",
              "      fill: #FFFFFF;\n",
              "    }\n",
              "  </style>\n",
              "\n",
              "      <script>\n",
              "        const buttonEl =\n",
              "          document.querySelector('#df-dce4c79b-f1a4-4fcd-b5b2-2e66b1f2d9db button.colab-df-convert');\n",
              "        buttonEl.style.display =\n",
              "          google.colab.kernel.accessAllowed ? 'block' : 'none';\n",
              "\n",
              "        async function convertToInteractive(key) {\n",
              "          const element = document.querySelector('#df-dce4c79b-f1a4-4fcd-b5b2-2e66b1f2d9db');\n",
              "          const dataTable =\n",
              "            await google.colab.kernel.invokeFunction('convertToInteractive',\n",
              "                                                     [key], {});\n",
              "          if (!dataTable) return;\n",
              "\n",
              "          const docLinkHtml = 'Like what you see? Visit the ' +\n",
              "            '<a target=\"_blank\" href=https://colab.research.google.com/notebooks/data_table.ipynb>data table notebook</a>'\n",
              "            + ' to learn more about interactive tables.';\n",
              "          element.innerHTML = '';\n",
              "          dataTable['output_type'] = 'display_data';\n",
              "          await google.colab.output.renderOutput(dataTable, element);\n",
              "          const docLink = document.createElement('div');\n",
              "          docLink.innerHTML = docLinkHtml;\n",
              "          element.appendChild(docLink);\n",
              "        }\n",
              "      </script>\n",
              "    </div>\n",
              "  </div>\n",
              "  "
            ]
          },
          "metadata": {},
          "execution_count": 4
        }
      ],
      "source": [
        "# df = pd.read_csv('Fraud.csv')\n",
        "df = pd.read_csv('/content/drive/MyDrive/Fraud.csv')\n",
        "df.head()"
      ]
    },
    {
      "cell_type": "markdown",
      "id": "44b1d394",
      "metadata": {
        "id": "44b1d394"
      },
      "source": [
        "# Data analysis"
      ]
    },
    {
      "cell_type": "markdown",
      "id": "ae2e7ca0",
      "metadata": {
        "id": "ae2e7ca0"
      },
      "source": [
        "size, columns and datatypes"
      ]
    },
    {
      "cell_type": "code",
      "execution_count": 5,
      "id": "1b8dbfbf",
      "metadata": {
        "colab": {
          "base_uri": "https://localhost:8080/"
        },
        "id": "1b8dbfbf",
        "outputId": "59a215a2-a791-4ca9-b9b9-c10dc96a0759"
      },
      "outputs": [
        {
          "output_type": "stream",
          "name": "stdout",
          "text": [
            "<class 'pandas.core.frame.DataFrame'>\n",
            "RangeIndex: 6362620 entries, 0 to 6362619\n",
            "Data columns (total 11 columns):\n",
            " #   Column          Dtype  \n",
            "---  ------          -----  \n",
            " 0   step            int64  \n",
            " 1   type            object \n",
            " 2   amount          float64\n",
            " 3   nameOrig        object \n",
            " 4   oldbalanceOrg   float64\n",
            " 5   newbalanceOrig  float64\n",
            " 6   nameDest        object \n",
            " 7   oldbalanceDest  float64\n",
            " 8   newbalanceDest  float64\n",
            " 9   isFraud         int64  \n",
            " 10  isFlaggedFraud  int64  \n",
            "dtypes: float64(5), int64(3), object(3)\n",
            "memory usage: 534.0+ MB\n"
          ]
        }
      ],
      "source": [
        "df.info()"
      ]
    },
    {
      "cell_type": "markdown",
      "id": "f69bbc20",
      "metadata": {
        "id": "f69bbc20"
      },
      "source": [
        "Null value-check"
      ]
    },
    {
      "cell_type": "code",
      "execution_count": 6,
      "id": "9d1e3354",
      "metadata": {
        "scrolled": true,
        "colab": {
          "base_uri": "https://localhost:8080/"
        },
        "id": "9d1e3354",
        "outputId": "aa82ecf5-2b04-436c-c92b-837ae3a45f31"
      },
      "outputs": [
        {
          "output_type": "execute_result",
          "data": {
            "text/plain": [
              "step              0\n",
              "type              0\n",
              "amount            0\n",
              "nameOrig          0\n",
              "oldbalanceOrg     0\n",
              "newbalanceOrig    0\n",
              "nameDest          0\n",
              "oldbalanceDest    0\n",
              "newbalanceDest    0\n",
              "isFraud           0\n",
              "isFlaggedFraud    0\n",
              "dtype: int64"
            ]
          },
          "metadata": {},
          "execution_count": 6
        }
      ],
      "source": [
        "df.isnull().sum()"
      ]
    },
    {
      "cell_type": "markdown",
      "id": "85c85bba",
      "metadata": {
        "id": "85c85bba"
      },
      "source": [
        "Identifying data stats"
      ]
    },
    {
      "cell_type": "code",
      "execution_count": 7,
      "id": "15f8b29a",
      "metadata": {
        "scrolled": false,
        "colab": {
          "base_uri": "https://localhost:8080/",
          "height": 300
        },
        "id": "15f8b29a",
        "outputId": "a14028fd-04be-40bc-a3ec-c02415213493"
      },
      "outputs": [
        {
          "output_type": "execute_result",
          "data": {
            "text/plain": [
              "               step        amount  oldbalanceOrg  newbalanceOrig  \\\n",
              "count  6.362620e+06  6.362620e+06   6.362620e+06    6.362620e+06   \n",
              "mean   2.433972e+02  1.798619e+05   8.338831e+05    8.551137e+05   \n",
              "std    1.423320e+02  6.038582e+05   2.888243e+06    2.924049e+06   \n",
              "min    1.000000e+00  0.000000e+00   0.000000e+00    0.000000e+00   \n",
              "25%    1.560000e+02  1.338957e+04   0.000000e+00    0.000000e+00   \n",
              "50%    2.390000e+02  7.487194e+04   1.420800e+04    0.000000e+00   \n",
              "75%    3.350000e+02  2.087215e+05   1.073152e+05    1.442584e+05   \n",
              "max    7.430000e+02  9.244552e+07   5.958504e+07    4.958504e+07   \n",
              "\n",
              "       oldbalanceDest  newbalanceDest       isFraud  isFlaggedFraud  \n",
              "count    6.362620e+06    6.362620e+06  6.362620e+06    6.362620e+06  \n",
              "mean     1.100702e+06    1.224996e+06  1.290820e-03    2.514687e-06  \n",
              "std      3.399180e+06    3.674129e+06  3.590480e-02    1.585775e-03  \n",
              "min      0.000000e+00    0.000000e+00  0.000000e+00    0.000000e+00  \n",
              "25%      0.000000e+00    0.000000e+00  0.000000e+00    0.000000e+00  \n",
              "50%      1.327057e+05    2.146614e+05  0.000000e+00    0.000000e+00  \n",
              "75%      9.430367e+05    1.111909e+06  0.000000e+00    0.000000e+00  \n",
              "max      3.560159e+08    3.561793e+08  1.000000e+00    1.000000e+00  "
            ],
            "text/html": [
              "\n",
              "  <div id=\"df-578569b0-68cc-4bc5-a52c-9472a2ac7333\">\n",
              "    <div class=\"colab-df-container\">\n",
              "      <div>\n",
              "<style scoped>\n",
              "    .dataframe tbody tr th:only-of-type {\n",
              "        vertical-align: middle;\n",
              "    }\n",
              "\n",
              "    .dataframe tbody tr th {\n",
              "        vertical-align: top;\n",
              "    }\n",
              "\n",
              "    .dataframe thead th {\n",
              "        text-align: right;\n",
              "    }\n",
              "</style>\n",
              "<table border=\"1\" class=\"dataframe\">\n",
              "  <thead>\n",
              "    <tr style=\"text-align: right;\">\n",
              "      <th></th>\n",
              "      <th>step</th>\n",
              "      <th>amount</th>\n",
              "      <th>oldbalanceOrg</th>\n",
              "      <th>newbalanceOrig</th>\n",
              "      <th>oldbalanceDest</th>\n",
              "      <th>newbalanceDest</th>\n",
              "      <th>isFraud</th>\n",
              "      <th>isFlaggedFraud</th>\n",
              "    </tr>\n",
              "  </thead>\n",
              "  <tbody>\n",
              "    <tr>\n",
              "      <th>count</th>\n",
              "      <td>6.362620e+06</td>\n",
              "      <td>6.362620e+06</td>\n",
              "      <td>6.362620e+06</td>\n",
              "      <td>6.362620e+06</td>\n",
              "      <td>6.362620e+06</td>\n",
              "      <td>6.362620e+06</td>\n",
              "      <td>6.362620e+06</td>\n",
              "      <td>6.362620e+06</td>\n",
              "    </tr>\n",
              "    <tr>\n",
              "      <th>mean</th>\n",
              "      <td>2.433972e+02</td>\n",
              "      <td>1.798619e+05</td>\n",
              "      <td>8.338831e+05</td>\n",
              "      <td>8.551137e+05</td>\n",
              "      <td>1.100702e+06</td>\n",
              "      <td>1.224996e+06</td>\n",
              "      <td>1.290820e-03</td>\n",
              "      <td>2.514687e-06</td>\n",
              "    </tr>\n",
              "    <tr>\n",
              "      <th>std</th>\n",
              "      <td>1.423320e+02</td>\n",
              "      <td>6.038582e+05</td>\n",
              "      <td>2.888243e+06</td>\n",
              "      <td>2.924049e+06</td>\n",
              "      <td>3.399180e+06</td>\n",
              "      <td>3.674129e+06</td>\n",
              "      <td>3.590480e-02</td>\n",
              "      <td>1.585775e-03</td>\n",
              "    </tr>\n",
              "    <tr>\n",
              "      <th>min</th>\n",
              "      <td>1.000000e+00</td>\n",
              "      <td>0.000000e+00</td>\n",
              "      <td>0.000000e+00</td>\n",
              "      <td>0.000000e+00</td>\n",
              "      <td>0.000000e+00</td>\n",
              "      <td>0.000000e+00</td>\n",
              "      <td>0.000000e+00</td>\n",
              "      <td>0.000000e+00</td>\n",
              "    </tr>\n",
              "    <tr>\n",
              "      <th>25%</th>\n",
              "      <td>1.560000e+02</td>\n",
              "      <td>1.338957e+04</td>\n",
              "      <td>0.000000e+00</td>\n",
              "      <td>0.000000e+00</td>\n",
              "      <td>0.000000e+00</td>\n",
              "      <td>0.000000e+00</td>\n",
              "      <td>0.000000e+00</td>\n",
              "      <td>0.000000e+00</td>\n",
              "    </tr>\n",
              "    <tr>\n",
              "      <th>50%</th>\n",
              "      <td>2.390000e+02</td>\n",
              "      <td>7.487194e+04</td>\n",
              "      <td>1.420800e+04</td>\n",
              "      <td>0.000000e+00</td>\n",
              "      <td>1.327057e+05</td>\n",
              "      <td>2.146614e+05</td>\n",
              "      <td>0.000000e+00</td>\n",
              "      <td>0.000000e+00</td>\n",
              "    </tr>\n",
              "    <tr>\n",
              "      <th>75%</th>\n",
              "      <td>3.350000e+02</td>\n",
              "      <td>2.087215e+05</td>\n",
              "      <td>1.073152e+05</td>\n",
              "      <td>1.442584e+05</td>\n",
              "      <td>9.430367e+05</td>\n",
              "      <td>1.111909e+06</td>\n",
              "      <td>0.000000e+00</td>\n",
              "      <td>0.000000e+00</td>\n",
              "    </tr>\n",
              "    <tr>\n",
              "      <th>max</th>\n",
              "      <td>7.430000e+02</td>\n",
              "      <td>9.244552e+07</td>\n",
              "      <td>5.958504e+07</td>\n",
              "      <td>4.958504e+07</td>\n",
              "      <td>3.560159e+08</td>\n",
              "      <td>3.561793e+08</td>\n",
              "      <td>1.000000e+00</td>\n",
              "      <td>1.000000e+00</td>\n",
              "    </tr>\n",
              "  </tbody>\n",
              "</table>\n",
              "</div>\n",
              "      <button class=\"colab-df-convert\" onclick=\"convertToInteractive('df-578569b0-68cc-4bc5-a52c-9472a2ac7333')\"\n",
              "              title=\"Convert this dataframe to an interactive table.\"\n",
              "              style=\"display:none;\">\n",
              "        \n",
              "  <svg xmlns=\"http://www.w3.org/2000/svg\" height=\"24px\"viewBox=\"0 0 24 24\"\n",
              "       width=\"24px\">\n",
              "    <path d=\"M0 0h24v24H0V0z\" fill=\"none\"/>\n",
              "    <path d=\"M18.56 5.44l.94 2.06.94-2.06 2.06-.94-2.06-.94-.94-2.06-.94 2.06-2.06.94zm-11 1L8.5 8.5l.94-2.06 2.06-.94-2.06-.94L8.5 2.5l-.94 2.06-2.06.94zm10 10l.94 2.06.94-2.06 2.06-.94-2.06-.94-.94-2.06-.94 2.06-2.06.94z\"/><path d=\"M17.41 7.96l-1.37-1.37c-.4-.4-.92-.59-1.43-.59-.52 0-1.04.2-1.43.59L10.3 9.45l-7.72 7.72c-.78.78-.78 2.05 0 2.83L4 21.41c.39.39.9.59 1.41.59.51 0 1.02-.2 1.41-.59l7.78-7.78 2.81-2.81c.8-.78.8-2.07 0-2.86zM5.41 20L4 18.59l7.72-7.72 1.47 1.35L5.41 20z\"/>\n",
              "  </svg>\n",
              "      </button>\n",
              "      \n",
              "  <style>\n",
              "    .colab-df-container {\n",
              "      display:flex;\n",
              "      flex-wrap:wrap;\n",
              "      gap: 12px;\n",
              "    }\n",
              "\n",
              "    .colab-df-convert {\n",
              "      background-color: #E8F0FE;\n",
              "      border: none;\n",
              "      border-radius: 50%;\n",
              "      cursor: pointer;\n",
              "      display: none;\n",
              "      fill: #1967D2;\n",
              "      height: 32px;\n",
              "      padding: 0 0 0 0;\n",
              "      width: 32px;\n",
              "    }\n",
              "\n",
              "    .colab-df-convert:hover {\n",
              "      background-color: #E2EBFA;\n",
              "      box-shadow: 0px 1px 2px rgba(60, 64, 67, 0.3), 0px 1px 3px 1px rgba(60, 64, 67, 0.15);\n",
              "      fill: #174EA6;\n",
              "    }\n",
              "\n",
              "    [theme=dark] .colab-df-convert {\n",
              "      background-color: #3B4455;\n",
              "      fill: #D2E3FC;\n",
              "    }\n",
              "\n",
              "    [theme=dark] .colab-df-convert:hover {\n",
              "      background-color: #434B5C;\n",
              "      box-shadow: 0px 1px 3px 1px rgba(0, 0, 0, 0.15);\n",
              "      filter: drop-shadow(0px 1px 2px rgba(0, 0, 0, 0.3));\n",
              "      fill: #FFFFFF;\n",
              "    }\n",
              "  </style>\n",
              "\n",
              "      <script>\n",
              "        const buttonEl =\n",
              "          document.querySelector('#df-578569b0-68cc-4bc5-a52c-9472a2ac7333 button.colab-df-convert');\n",
              "        buttonEl.style.display =\n",
              "          google.colab.kernel.accessAllowed ? 'block' : 'none';\n",
              "\n",
              "        async function convertToInteractive(key) {\n",
              "          const element = document.querySelector('#df-578569b0-68cc-4bc5-a52c-9472a2ac7333');\n",
              "          const dataTable =\n",
              "            await google.colab.kernel.invokeFunction('convertToInteractive',\n",
              "                                                     [key], {});\n",
              "          if (!dataTable) return;\n",
              "\n",
              "          const docLinkHtml = 'Like what you see? Visit the ' +\n",
              "            '<a target=\"_blank\" href=https://colab.research.google.com/notebooks/data_table.ipynb>data table notebook</a>'\n",
              "            + ' to learn more about interactive tables.';\n",
              "          element.innerHTML = '';\n",
              "          dataTable['output_type'] = 'display_data';\n",
              "          await google.colab.output.renderOutput(dataTable, element);\n",
              "          const docLink = document.createElement('div');\n",
              "          docLink.innerHTML = docLinkHtml;\n",
              "          element.appendChild(docLink);\n",
              "        }\n",
              "      </script>\n",
              "    </div>\n",
              "  </div>\n",
              "  "
            ]
          },
          "metadata": {},
          "execution_count": 7
        }
      ],
      "source": [
        "df.describe()"
      ]
    },
    {
      "cell_type": "markdown",
      "id": "57631017",
      "metadata": {
        "id": "57631017"
      },
      "source": [
        "## Fraud and flagged fraud"
      ]
    },
    {
      "cell_type": "code",
      "execution_count": 8,
      "id": "7a8f20ce",
      "metadata": {
        "scrolled": true,
        "colab": {
          "base_uri": "https://localhost:8080/"
        },
        "id": "7a8f20ce",
        "outputId": "478ea8ca-4319-4153-b285-aa2fd26ae30f"
      },
      "outputs": [
        {
          "output_type": "stream",
          "name": "stdout",
          "text": [
            "Number of fraudulent transactions \t: 8213\n",
            "Number of non-fraudulent transactions \t: 6354407\n",
            "\n",
            "Number of transactions flagged fraud \t: 16\n",
            "Number of transactions flagged non-fraud: 6362604\n"
          ]
        }
      ],
      "source": [
        "print('Number of fraudulent transactions \\t: {}'.format(len(df[df['isFraud']==1])))\n",
        "print('Number of non-fraudulent transactions \\t: {}'.format(len(df[df['isFraud']==0])))\n",
        "print('\\nNumber of transactions flagged fraud \\t: {}'.format(len(df[df['isFlaggedFraud']==1])))\n",
        "print('Number of transactions flagged non-fraud: {}'.format(len(df[df['isFlaggedFraud']==0])))"
      ]
    },
    {
      "cell_type": "markdown",
      "id": "366652c3",
      "metadata": {
        "id": "366652c3"
      },
      "source": [
        "=> Highly skewed data."
      ]
    },
    {
      "cell_type": "code",
      "execution_count": 9,
      "id": "a7271340",
      "metadata": {
        "id": "a7271340"
      },
      "outputs": [],
      "source": [
        "fraud_ratio = df['isFraud'].value_counts()/len(df)\n",
        "flaggedFraud_ratio =  df['isFlaggedFraud'].value_counts()/len(df)"
      ]
    },
    {
      "cell_type": "code",
      "execution_count": 10,
      "id": "bae962e6",
      "metadata": {
        "scrolled": true,
        "colab": {
          "base_uri": "https://localhost:8080/"
        },
        "id": "bae962e6",
        "outputId": "6c484c2a-4709-4209-8de5-64e57872f446"
      },
      "outputs": [
        {
          "output_type": "stream",
          "name": "stdout",
          "text": [
            "Fraud ratio \n",
            "0    0.998709\n",
            "1    0.001291\n",
            "Name: isFraud, dtype: float64 \n",
            "\n",
            "Flagged fraud ratio \n",
            "0    0.999997\n",
            "1    0.000003\n",
            "Name: isFlaggedFraud, dtype: float64\n"
          ]
        }
      ],
      "source": [
        "print(f'Fraud ratio \\n{fraud_ratio} \\n\\nFlagged fraud ratio \\n{flaggedFraud_ratio}')"
      ]
    },
    {
      "cell_type": "code",
      "execution_count": 11,
      "id": "2e8809b6",
      "metadata": {
        "colab": {
          "base_uri": "https://localhost:8080/"
        },
        "id": "2e8809b6",
        "outputId": "92ca3f9d-0f00-4f18-96b3-a5e37528358d"
      },
      "outputs": [
        {
          "output_type": "execute_result",
          "data": {
            "text/plain": [
              "array(['PAYMENT', 'TRANSFER', 'CASH_OUT', 'DEBIT', 'CASH_IN'],\n",
              "      dtype=object)"
            ]
          },
          "metadata": {},
          "execution_count": 11
        }
      ],
      "source": [
        "df['type'].unique()"
      ]
    },
    {
      "cell_type": "code",
      "execution_count": 12,
      "id": "6f0ffc5c",
      "metadata": {
        "id": "6f0ffc5c"
      },
      "outputs": [],
      "source": [
        "fraudby_type = df[df['isFraud']==1].groupby('type')['isFraud'].count()\n",
        "flaggedFraudby_type = df[df['isFlaggedFraud']==1].groupby('type')['isFlaggedFraud'].count()"
      ]
    },
    {
      "cell_type": "code",
      "execution_count": 13,
      "id": "94e22de9",
      "metadata": {
        "colab": {
          "base_uri": "https://localhost:8080/"
        },
        "id": "94e22de9",
        "outputId": "77a4badf-d417-4dc2-e522-b145f21f983b"
      },
      "outputs": [
        {
          "output_type": "stream",
          "name": "stdout",
          "text": [
            "Fraud per transaction type: \n",
            "type\n",
            "CASH_OUT    4116\n",
            "TRANSFER    4097\n",
            "Name: isFraud, dtype: int64\n",
            " \n",
            "Flagged fraud per transaction type: \n",
            "type\n",
            "TRANSFER    16\n",
            "Name: isFlaggedFraud, dtype: int64\n"
          ]
        }
      ],
      "source": [
        "print(f'Fraud per transaction type: \\n{fraudby_type}\\n \\nFlagged fraud per transaction type: \\n{flaggedFraudby_type}')"
      ]
    },
    {
      "cell_type": "markdown",
      "id": "9c204cf2",
      "metadata": {
        "id": "9c204cf2"
      },
      "source": [
        "Only Transfers are flagged as fraud.<br>\n",
        "Only Cashouts and Transfers are fraud.<br>\n",
        "?? Do we really need data from other transaction types?"
      ]
    },
    {
      "cell_type": "markdown",
      "id": "b0be4482",
      "metadata": {
        "id": "b0be4482"
      },
      "source": [
        "### Fraud\n",
        ">In this specific dataset the fraudulent behavior of the agents aims to profit by taking control or customers accounts and try to empty the funds by transferring to another account and then cashing out of the system."
      ]
    },
    {
      "cell_type": "markdown",
      "id": "c7f2bf99",
      "metadata": {
        "id": "c7f2bf99"
      },
      "source": [
        "Analyze fraud data"
      ]
    },
    {
      "cell_type": "code",
      "execution_count": 14,
      "id": "5e5034e1",
      "metadata": {
        "scrolled": true,
        "colab": {
          "base_uri": "https://localhost:8080/",
          "height": 300
        },
        "id": "5e5034e1",
        "outputId": "1c4c9800-e887-4742-8b9f-05d2a0a48721"
      },
      "outputs": [
        {
          "output_type": "execute_result",
          "data": {
            "text/plain": [
              "              step        amount  oldbalanceOrg  newbalanceOrig  \\\n",
              "count  8213.000000  8.213000e+03   8.213000e+03    8.213000e+03   \n",
              "mean    368.413856  1.467967e+06   1.649668e+06    1.923926e+05   \n",
              "std     216.388690  2.404253e+06   3.547719e+06    1.965666e+06   \n",
              "min       1.000000  0.000000e+00   0.000000e+00    0.000000e+00   \n",
              "25%     181.000000  1.270913e+05   1.258224e+05    0.000000e+00   \n",
              "50%     367.000000  4.414234e+05   4.389835e+05    0.000000e+00   \n",
              "75%     558.000000  1.517771e+06   1.517771e+06    0.000000e+00   \n",
              "max     743.000000  1.000000e+07   5.958504e+07    4.958504e+07   \n",
              "\n",
              "       oldbalanceDest  newbalanceDest  isFraud  isFlaggedFraud  \n",
              "count    8.213000e+03    8.213000e+03   8213.0     8213.000000  \n",
              "mean     5.442496e+05    1.279708e+06      1.0        0.001948  \n",
              "std      3.336421e+06    3.908817e+06      0.0        0.044097  \n",
              "min      0.000000e+00    0.000000e+00      1.0        0.000000  \n",
              "25%      0.000000e+00    0.000000e+00      1.0        0.000000  \n",
              "50%      0.000000e+00    4.676420e+03      1.0        0.000000  \n",
              "75%      1.478287e+05    1.058725e+06      1.0        0.000000  \n",
              "max      2.362305e+08    2.367265e+08      1.0        1.000000  "
            ],
            "text/html": [
              "\n",
              "  <div id=\"df-3903d2bc-c7ad-408c-9fff-803b6745924f\">\n",
              "    <div class=\"colab-df-container\">\n",
              "      <div>\n",
              "<style scoped>\n",
              "    .dataframe tbody tr th:only-of-type {\n",
              "        vertical-align: middle;\n",
              "    }\n",
              "\n",
              "    .dataframe tbody tr th {\n",
              "        vertical-align: top;\n",
              "    }\n",
              "\n",
              "    .dataframe thead th {\n",
              "        text-align: right;\n",
              "    }\n",
              "</style>\n",
              "<table border=\"1\" class=\"dataframe\">\n",
              "  <thead>\n",
              "    <tr style=\"text-align: right;\">\n",
              "      <th></th>\n",
              "      <th>step</th>\n",
              "      <th>amount</th>\n",
              "      <th>oldbalanceOrg</th>\n",
              "      <th>newbalanceOrig</th>\n",
              "      <th>oldbalanceDest</th>\n",
              "      <th>newbalanceDest</th>\n",
              "      <th>isFraud</th>\n",
              "      <th>isFlaggedFraud</th>\n",
              "    </tr>\n",
              "  </thead>\n",
              "  <tbody>\n",
              "    <tr>\n",
              "      <th>count</th>\n",
              "      <td>8213.000000</td>\n",
              "      <td>8.213000e+03</td>\n",
              "      <td>8.213000e+03</td>\n",
              "      <td>8.213000e+03</td>\n",
              "      <td>8.213000e+03</td>\n",
              "      <td>8.213000e+03</td>\n",
              "      <td>8213.0</td>\n",
              "      <td>8213.000000</td>\n",
              "    </tr>\n",
              "    <tr>\n",
              "      <th>mean</th>\n",
              "      <td>368.413856</td>\n",
              "      <td>1.467967e+06</td>\n",
              "      <td>1.649668e+06</td>\n",
              "      <td>1.923926e+05</td>\n",
              "      <td>5.442496e+05</td>\n",
              "      <td>1.279708e+06</td>\n",
              "      <td>1.0</td>\n",
              "      <td>0.001948</td>\n",
              "    </tr>\n",
              "    <tr>\n",
              "      <th>std</th>\n",
              "      <td>216.388690</td>\n",
              "      <td>2.404253e+06</td>\n",
              "      <td>3.547719e+06</td>\n",
              "      <td>1.965666e+06</td>\n",
              "      <td>3.336421e+06</td>\n",
              "      <td>3.908817e+06</td>\n",
              "      <td>0.0</td>\n",
              "      <td>0.044097</td>\n",
              "    </tr>\n",
              "    <tr>\n",
              "      <th>min</th>\n",
              "      <td>1.000000</td>\n",
              "      <td>0.000000e+00</td>\n",
              "      <td>0.000000e+00</td>\n",
              "      <td>0.000000e+00</td>\n",
              "      <td>0.000000e+00</td>\n",
              "      <td>0.000000e+00</td>\n",
              "      <td>1.0</td>\n",
              "      <td>0.000000</td>\n",
              "    </tr>\n",
              "    <tr>\n",
              "      <th>25%</th>\n",
              "      <td>181.000000</td>\n",
              "      <td>1.270913e+05</td>\n",
              "      <td>1.258224e+05</td>\n",
              "      <td>0.000000e+00</td>\n",
              "      <td>0.000000e+00</td>\n",
              "      <td>0.000000e+00</td>\n",
              "      <td>1.0</td>\n",
              "      <td>0.000000</td>\n",
              "    </tr>\n",
              "    <tr>\n",
              "      <th>50%</th>\n",
              "      <td>367.000000</td>\n",
              "      <td>4.414234e+05</td>\n",
              "      <td>4.389835e+05</td>\n",
              "      <td>0.000000e+00</td>\n",
              "      <td>0.000000e+00</td>\n",
              "      <td>4.676420e+03</td>\n",
              "      <td>1.0</td>\n",
              "      <td>0.000000</td>\n",
              "    </tr>\n",
              "    <tr>\n",
              "      <th>75%</th>\n",
              "      <td>558.000000</td>\n",
              "      <td>1.517771e+06</td>\n",
              "      <td>1.517771e+06</td>\n",
              "      <td>0.000000e+00</td>\n",
              "      <td>1.478287e+05</td>\n",
              "      <td>1.058725e+06</td>\n",
              "      <td>1.0</td>\n",
              "      <td>0.000000</td>\n",
              "    </tr>\n",
              "    <tr>\n",
              "      <th>max</th>\n",
              "      <td>743.000000</td>\n",
              "      <td>1.000000e+07</td>\n",
              "      <td>5.958504e+07</td>\n",
              "      <td>4.958504e+07</td>\n",
              "      <td>2.362305e+08</td>\n",
              "      <td>2.367265e+08</td>\n",
              "      <td>1.0</td>\n",
              "      <td>1.000000</td>\n",
              "    </tr>\n",
              "  </tbody>\n",
              "</table>\n",
              "</div>\n",
              "      <button class=\"colab-df-convert\" onclick=\"convertToInteractive('df-3903d2bc-c7ad-408c-9fff-803b6745924f')\"\n",
              "              title=\"Convert this dataframe to an interactive table.\"\n",
              "              style=\"display:none;\">\n",
              "        \n",
              "  <svg xmlns=\"http://www.w3.org/2000/svg\" height=\"24px\"viewBox=\"0 0 24 24\"\n",
              "       width=\"24px\">\n",
              "    <path d=\"M0 0h24v24H0V0z\" fill=\"none\"/>\n",
              "    <path d=\"M18.56 5.44l.94 2.06.94-2.06 2.06-.94-2.06-.94-.94-2.06-.94 2.06-2.06.94zm-11 1L8.5 8.5l.94-2.06 2.06-.94-2.06-.94L8.5 2.5l-.94 2.06-2.06.94zm10 10l.94 2.06.94-2.06 2.06-.94-2.06-.94-.94-2.06-.94 2.06-2.06.94z\"/><path d=\"M17.41 7.96l-1.37-1.37c-.4-.4-.92-.59-1.43-.59-.52 0-1.04.2-1.43.59L10.3 9.45l-7.72 7.72c-.78.78-.78 2.05 0 2.83L4 21.41c.39.39.9.59 1.41.59.51 0 1.02-.2 1.41-.59l7.78-7.78 2.81-2.81c.8-.78.8-2.07 0-2.86zM5.41 20L4 18.59l7.72-7.72 1.47 1.35L5.41 20z\"/>\n",
              "  </svg>\n",
              "      </button>\n",
              "      \n",
              "  <style>\n",
              "    .colab-df-container {\n",
              "      display:flex;\n",
              "      flex-wrap:wrap;\n",
              "      gap: 12px;\n",
              "    }\n",
              "\n",
              "    .colab-df-convert {\n",
              "      background-color: #E8F0FE;\n",
              "      border: none;\n",
              "      border-radius: 50%;\n",
              "      cursor: pointer;\n",
              "      display: none;\n",
              "      fill: #1967D2;\n",
              "      height: 32px;\n",
              "      padding: 0 0 0 0;\n",
              "      width: 32px;\n",
              "    }\n",
              "\n",
              "    .colab-df-convert:hover {\n",
              "      background-color: #E2EBFA;\n",
              "      box-shadow: 0px 1px 2px rgba(60, 64, 67, 0.3), 0px 1px 3px 1px rgba(60, 64, 67, 0.15);\n",
              "      fill: #174EA6;\n",
              "    }\n",
              "\n",
              "    [theme=dark] .colab-df-convert {\n",
              "      background-color: #3B4455;\n",
              "      fill: #D2E3FC;\n",
              "    }\n",
              "\n",
              "    [theme=dark] .colab-df-convert:hover {\n",
              "      background-color: #434B5C;\n",
              "      box-shadow: 0px 1px 3px 1px rgba(0, 0, 0, 0.15);\n",
              "      filter: drop-shadow(0px 1px 2px rgba(0, 0, 0, 0.3));\n",
              "      fill: #FFFFFF;\n",
              "    }\n",
              "  </style>\n",
              "\n",
              "      <script>\n",
              "        const buttonEl =\n",
              "          document.querySelector('#df-3903d2bc-c7ad-408c-9fff-803b6745924f button.colab-df-convert');\n",
              "        buttonEl.style.display =\n",
              "          google.colab.kernel.accessAllowed ? 'block' : 'none';\n",
              "\n",
              "        async function convertToInteractive(key) {\n",
              "          const element = document.querySelector('#df-3903d2bc-c7ad-408c-9fff-803b6745924f');\n",
              "          const dataTable =\n",
              "            await google.colab.kernel.invokeFunction('convertToInteractive',\n",
              "                                                     [key], {});\n",
              "          if (!dataTable) return;\n",
              "\n",
              "          const docLinkHtml = 'Like what you see? Visit the ' +\n",
              "            '<a target=\"_blank\" href=https://colab.research.google.com/notebooks/data_table.ipynb>data table notebook</a>'\n",
              "            + ' to learn more about interactive tables.';\n",
              "          element.innerHTML = '';\n",
              "          dataTable['output_type'] = 'display_data';\n",
              "          await google.colab.output.renderOutput(dataTable, element);\n",
              "          const docLink = document.createElement('div');\n",
              "          docLink.innerHTML = docLinkHtml;\n",
              "          element.appendChild(docLink);\n",
              "        }\n",
              "      </script>\n",
              "    </div>\n",
              "  </div>\n",
              "  "
            ]
          },
          "metadata": {},
          "execution_count": 14
        }
      ],
      "source": [
        "df[df['isFraud']==1].describe()"
      ]
    },
    {
      "cell_type": "markdown",
      "id": "b2944260",
      "metadata": {
        "id": "b2944260"
      },
      "source": [
        "Transactions that empties funds in one account"
      ]
    },
    {
      "cell_type": "code",
      "execution_count": 15,
      "id": "6068b427",
      "metadata": {
        "scrolled": true,
        "colab": {
          "base_uri": "https://localhost:8080/"
        },
        "id": "6068b427",
        "outputId": "490572fb-0cb4-4a51-9ca9-3e62d7fb0598"
      },
      "outputs": [
        {
          "output_type": "execute_result",
          "data": {
            "text/plain": [
              "8034"
            ]
          },
          "metadata": {},
          "execution_count": 15
        }
      ],
      "source": [
        "len(df[(df['amount'] == df['oldbalanceOrg'])])"
      ]
    },
    {
      "cell_type": "code",
      "execution_count": 16,
      "id": "474405e5",
      "metadata": {
        "scrolled": true,
        "colab": {
          "base_uri": "https://localhost:8080/"
        },
        "id": "474405e5",
        "outputId": "3d2b072a-dbb0-472c-a44f-e290728c6a1f"
      },
      "outputs": [
        {
          "output_type": "execute_result",
          "data": {
            "text/plain": [
              "8034"
            ]
          },
          "metadata": {},
          "execution_count": 16
        }
      ],
      "source": [
        "len(df[(df['amount'] == df['oldbalanceOrg']) & (df['isFraud'] == 1)] )"
      ]
    },
    {
      "cell_type": "markdown",
      "id": "2c512dd6",
      "metadata": {
        "id": "2c512dd6"
      },
      "source": [
        "So all transactions that empty funds are marked as fraud.<br>\n",
        "But, there are 8213 fraud transactions in total. <br>\n",
        "=> Remaining transactions could be outliers?"
      ]
    },
    {
      "cell_type": "code",
      "execution_count": 17,
      "id": "2ed8d213",
      "metadata": {
        "id": "2ed8d213"
      },
      "outputs": [],
      "source": [
        "df_outliers = df[(df['amount'] != df['oldbalanceOrg']) & (df['isFraud'] == 1)]"
      ]
    },
    {
      "cell_type": "code",
      "execution_count": 18,
      "id": "64c5090d",
      "metadata": {
        "colab": {
          "base_uri": "https://localhost:8080/"
        },
        "id": "64c5090d",
        "outputId": "7fed03d4-f9fb-433e-a61f-33dad260e0b9"
      },
      "outputs": [
        {
          "output_type": "execute_result",
          "data": {
            "text/plain": [
              "type\n",
              "CASH_OUT     25\n",
              "TRANSFER    154\n",
              "Name: type, dtype: int64"
            ]
          },
          "metadata": {},
          "execution_count": 18
        }
      ],
      "source": [
        "df_outliers.groupby('type')['type'].count()"
      ]
    },
    {
      "cell_type": "code",
      "execution_count": 19,
      "id": "c988f9e6",
      "metadata": {
        "colab": {
          "base_uri": "https://localhost:8080/",
          "height": 300
        },
        "id": "c988f9e6",
        "outputId": "30477ddc-5f44-45c4-931f-8d797549bdd1"
      },
      "outputs": [
        {
          "output_type": "execute_result",
          "data": {
            "text/plain": [
              "             step         amount  oldbalanceOrg  newbalanceOrig  \\\n",
              "count   25.000000      25.000000      25.000000         25.0000   \n",
              "mean    56.880000  220121.416800   17031.663200      11950.7044   \n",
              "std     78.015127  158136.453984   69138.559766      59753.5220   \n",
              "min      1.000000   23292.300000       0.000000          0.0000   \n",
              "25%     13.000000   95428.320000       0.000000          0.0000   \n",
              "50%     19.000000  181728.110000       0.000000          0.0000   \n",
              "75%     38.000000  314251.580000       0.000000          0.0000   \n",
              "max    231.000000  577418.980000  340830.430000     298767.6100   \n",
              "\n",
              "       oldbalanceDest  newbalanceDest  isFraud  isFlaggedFraud  \n",
              "count    2.500000e+01    2.500000e+01     25.0            25.0  \n",
              "mean     5.806669e+05    1.185674e+06      1.0             0.0  \n",
              "std      1.613350e+06    2.341533e+06      0.0             0.0  \n",
              "min      0.000000e+00    4.061122e+04      1.0             0.0  \n",
              "25%      0.000000e+00    2.250277e+05      1.0             0.0  \n",
              "50%      1.139700e+04    4.070058e+05      1.0             0.0  \n",
              "75%      3.989313e+05    6.784196e+05      1.0             0.0  \n",
              "max      7.962205e+06    9.291620e+06      1.0             0.0  "
            ],
            "text/html": [
              "\n",
              "  <div id=\"df-51e31bc7-3b25-4cb1-9556-2df3d661f039\">\n",
              "    <div class=\"colab-df-container\">\n",
              "      <div>\n",
              "<style scoped>\n",
              "    .dataframe tbody tr th:only-of-type {\n",
              "        vertical-align: middle;\n",
              "    }\n",
              "\n",
              "    .dataframe tbody tr th {\n",
              "        vertical-align: top;\n",
              "    }\n",
              "\n",
              "    .dataframe thead th {\n",
              "        text-align: right;\n",
              "    }\n",
              "</style>\n",
              "<table border=\"1\" class=\"dataframe\">\n",
              "  <thead>\n",
              "    <tr style=\"text-align: right;\">\n",
              "      <th></th>\n",
              "      <th>step</th>\n",
              "      <th>amount</th>\n",
              "      <th>oldbalanceOrg</th>\n",
              "      <th>newbalanceOrig</th>\n",
              "      <th>oldbalanceDest</th>\n",
              "      <th>newbalanceDest</th>\n",
              "      <th>isFraud</th>\n",
              "      <th>isFlaggedFraud</th>\n",
              "    </tr>\n",
              "  </thead>\n",
              "  <tbody>\n",
              "    <tr>\n",
              "      <th>count</th>\n",
              "      <td>25.000000</td>\n",
              "      <td>25.000000</td>\n",
              "      <td>25.000000</td>\n",
              "      <td>25.0000</td>\n",
              "      <td>2.500000e+01</td>\n",
              "      <td>2.500000e+01</td>\n",
              "      <td>25.0</td>\n",
              "      <td>25.0</td>\n",
              "    </tr>\n",
              "    <tr>\n",
              "      <th>mean</th>\n",
              "      <td>56.880000</td>\n",
              "      <td>220121.416800</td>\n",
              "      <td>17031.663200</td>\n",
              "      <td>11950.7044</td>\n",
              "      <td>5.806669e+05</td>\n",
              "      <td>1.185674e+06</td>\n",
              "      <td>1.0</td>\n",
              "      <td>0.0</td>\n",
              "    </tr>\n",
              "    <tr>\n",
              "      <th>std</th>\n",
              "      <td>78.015127</td>\n",
              "      <td>158136.453984</td>\n",
              "      <td>69138.559766</td>\n",
              "      <td>59753.5220</td>\n",
              "      <td>1.613350e+06</td>\n",
              "      <td>2.341533e+06</td>\n",
              "      <td>0.0</td>\n",
              "      <td>0.0</td>\n",
              "    </tr>\n",
              "    <tr>\n",
              "      <th>min</th>\n",
              "      <td>1.000000</td>\n",
              "      <td>23292.300000</td>\n",
              "      <td>0.000000</td>\n",
              "      <td>0.0000</td>\n",
              "      <td>0.000000e+00</td>\n",
              "      <td>4.061122e+04</td>\n",
              "      <td>1.0</td>\n",
              "      <td>0.0</td>\n",
              "    </tr>\n",
              "    <tr>\n",
              "      <th>25%</th>\n",
              "      <td>13.000000</td>\n",
              "      <td>95428.320000</td>\n",
              "      <td>0.000000</td>\n",
              "      <td>0.0000</td>\n",
              "      <td>0.000000e+00</td>\n",
              "      <td>2.250277e+05</td>\n",
              "      <td>1.0</td>\n",
              "      <td>0.0</td>\n",
              "    </tr>\n",
              "    <tr>\n",
              "      <th>50%</th>\n",
              "      <td>19.000000</td>\n",
              "      <td>181728.110000</td>\n",
              "      <td>0.000000</td>\n",
              "      <td>0.0000</td>\n",
              "      <td>1.139700e+04</td>\n",
              "      <td>4.070058e+05</td>\n",
              "      <td>1.0</td>\n",
              "      <td>0.0</td>\n",
              "    </tr>\n",
              "    <tr>\n",
              "      <th>75%</th>\n",
              "      <td>38.000000</td>\n",
              "      <td>314251.580000</td>\n",
              "      <td>0.000000</td>\n",
              "      <td>0.0000</td>\n",
              "      <td>3.989313e+05</td>\n",
              "      <td>6.784196e+05</td>\n",
              "      <td>1.0</td>\n",
              "      <td>0.0</td>\n",
              "    </tr>\n",
              "    <tr>\n",
              "      <th>max</th>\n",
              "      <td>231.000000</td>\n",
              "      <td>577418.980000</td>\n",
              "      <td>340830.430000</td>\n",
              "      <td>298767.6100</td>\n",
              "      <td>7.962205e+06</td>\n",
              "      <td>9.291620e+06</td>\n",
              "      <td>1.0</td>\n",
              "      <td>0.0</td>\n",
              "    </tr>\n",
              "  </tbody>\n",
              "</table>\n",
              "</div>\n",
              "      <button class=\"colab-df-convert\" onclick=\"convertToInteractive('df-51e31bc7-3b25-4cb1-9556-2df3d661f039')\"\n",
              "              title=\"Convert this dataframe to an interactive table.\"\n",
              "              style=\"display:none;\">\n",
              "        \n",
              "  <svg xmlns=\"http://www.w3.org/2000/svg\" height=\"24px\"viewBox=\"0 0 24 24\"\n",
              "       width=\"24px\">\n",
              "    <path d=\"M0 0h24v24H0V0z\" fill=\"none\"/>\n",
              "    <path d=\"M18.56 5.44l.94 2.06.94-2.06 2.06-.94-2.06-.94-.94-2.06-.94 2.06-2.06.94zm-11 1L8.5 8.5l.94-2.06 2.06-.94-2.06-.94L8.5 2.5l-.94 2.06-2.06.94zm10 10l.94 2.06.94-2.06 2.06-.94-2.06-.94-.94-2.06-.94 2.06-2.06.94z\"/><path d=\"M17.41 7.96l-1.37-1.37c-.4-.4-.92-.59-1.43-.59-.52 0-1.04.2-1.43.59L10.3 9.45l-7.72 7.72c-.78.78-.78 2.05 0 2.83L4 21.41c.39.39.9.59 1.41.59.51 0 1.02-.2 1.41-.59l7.78-7.78 2.81-2.81c.8-.78.8-2.07 0-2.86zM5.41 20L4 18.59l7.72-7.72 1.47 1.35L5.41 20z\"/>\n",
              "  </svg>\n",
              "      </button>\n",
              "      \n",
              "  <style>\n",
              "    .colab-df-container {\n",
              "      display:flex;\n",
              "      flex-wrap:wrap;\n",
              "      gap: 12px;\n",
              "    }\n",
              "\n",
              "    .colab-df-convert {\n",
              "      background-color: #E8F0FE;\n",
              "      border: none;\n",
              "      border-radius: 50%;\n",
              "      cursor: pointer;\n",
              "      display: none;\n",
              "      fill: #1967D2;\n",
              "      height: 32px;\n",
              "      padding: 0 0 0 0;\n",
              "      width: 32px;\n",
              "    }\n",
              "\n",
              "    .colab-df-convert:hover {\n",
              "      background-color: #E2EBFA;\n",
              "      box-shadow: 0px 1px 2px rgba(60, 64, 67, 0.3), 0px 1px 3px 1px rgba(60, 64, 67, 0.15);\n",
              "      fill: #174EA6;\n",
              "    }\n",
              "\n",
              "    [theme=dark] .colab-df-convert {\n",
              "      background-color: #3B4455;\n",
              "      fill: #D2E3FC;\n",
              "    }\n",
              "\n",
              "    [theme=dark] .colab-df-convert:hover {\n",
              "      background-color: #434B5C;\n",
              "      box-shadow: 0px 1px 3px 1px rgba(0, 0, 0, 0.15);\n",
              "      filter: drop-shadow(0px 1px 2px rgba(0, 0, 0, 0.3));\n",
              "      fill: #FFFFFF;\n",
              "    }\n",
              "  </style>\n",
              "\n",
              "      <script>\n",
              "        const buttonEl =\n",
              "          document.querySelector('#df-51e31bc7-3b25-4cb1-9556-2df3d661f039 button.colab-df-convert');\n",
              "        buttonEl.style.display =\n",
              "          google.colab.kernel.accessAllowed ? 'block' : 'none';\n",
              "\n",
              "        async function convertToInteractive(key) {\n",
              "          const element = document.querySelector('#df-51e31bc7-3b25-4cb1-9556-2df3d661f039');\n",
              "          const dataTable =\n",
              "            await google.colab.kernel.invokeFunction('convertToInteractive',\n",
              "                                                     [key], {});\n",
              "          if (!dataTable) return;\n",
              "\n",
              "          const docLinkHtml = 'Like what you see? Visit the ' +\n",
              "            '<a target=\"_blank\" href=https://colab.research.google.com/notebooks/data_table.ipynb>data table notebook</a>'\n",
              "            + ' to learn more about interactive tables.';\n",
              "          element.innerHTML = '';\n",
              "          dataTable['output_type'] = 'display_data';\n",
              "          await google.colab.output.renderOutput(dataTable, element);\n",
              "          const docLink = document.createElement('div');\n",
              "          docLink.innerHTML = docLinkHtml;\n",
              "          element.appendChild(docLink);\n",
              "        }\n",
              "      </script>\n",
              "    </div>\n",
              "  </div>\n",
              "  "
            ]
          },
          "metadata": {},
          "execution_count": 19
        }
      ],
      "source": [
        "df_outliers[df_outliers['type'] == 'CASH_OUT'].describe()"
      ]
    },
    {
      "cell_type": "markdown",
      "id": "3c2954fa",
      "metadata": {
        "id": "3c2954fa"
      },
      "source": [
        "Seems like most of the fraud cashout outliers are transactions in which Original account has 0 balance before and after the transaction; and Destination account has balance in the order of $10^5$ after the transaction.\n",
        "\n",
        "=> Outlier shows a pattern and thus cannot be ignored."
      ]
    },
    {
      "cell_type": "code",
      "execution_count": 20,
      "id": "acf4ed23",
      "metadata": {
        "colab": {
          "base_uri": "https://localhost:8080/",
          "height": 300
        },
        "id": "acf4ed23",
        "outputId": "2871ba16-4a22-4aa6-8d6d-b047f9e5a88e"
      },
      "outputs": [
        {
          "output_type": "execute_result",
          "data": {
            "text/plain": [
              "             step        amount  oldbalanceOrg  newbalanceOrig  \\\n",
              "count  154.000000  1.540000e+02   1.540000e+02    1.540000e+02   \n",
              "mean   439.097403  9.565122e+06   1.928838e+07    1.006063e+07   \n",
              "std    213.665941  1.919552e+06   1.081729e+07    1.032873e+07   \n",
              "min      4.000000  1.231949e+05   0.000000e+00    0.000000e+00   \n",
              "25%    271.500000  1.000000e+07   1.227122e+07    2.455224e+06   \n",
              "50%    425.000000  1.000000e+07   1.595579e+07    6.359678e+06   \n",
              "75%    646.000000  1.000000e+07   2.370846e+07    1.493847e+07   \n",
              "max    741.000000  1.000000e+07   5.958504e+07    4.958504e+07   \n",
              "\n",
              "       oldbalanceDest  newbalanceDest  isFraud  isFlaggedFraud  \n",
              "count    1.540000e+02    1.540000e+02    154.0      154.000000  \n",
              "mean     2.855618e+04    5.909128e+04      1.0        0.038961  \n",
              "std      2.048429e+05    3.562933e+05      0.0        0.194133  \n",
              "min      0.000000e+00    0.000000e+00      1.0        0.000000  \n",
              "25%      0.000000e+00    0.000000e+00      1.0        0.000000  \n",
              "50%      0.000000e+00    0.000000e+00      1.0        0.000000  \n",
              "75%      0.000000e+00    0.000000e+00      1.0        0.000000  \n",
              "max      2.122337e+06    3.217684e+06      1.0        1.000000  "
            ],
            "text/html": [
              "\n",
              "  <div id=\"df-bdc34a47-463b-406f-9a55-8ed60fa5882c\">\n",
              "    <div class=\"colab-df-container\">\n",
              "      <div>\n",
              "<style scoped>\n",
              "    .dataframe tbody tr th:only-of-type {\n",
              "        vertical-align: middle;\n",
              "    }\n",
              "\n",
              "    .dataframe tbody tr th {\n",
              "        vertical-align: top;\n",
              "    }\n",
              "\n",
              "    .dataframe thead th {\n",
              "        text-align: right;\n",
              "    }\n",
              "</style>\n",
              "<table border=\"1\" class=\"dataframe\">\n",
              "  <thead>\n",
              "    <tr style=\"text-align: right;\">\n",
              "      <th></th>\n",
              "      <th>step</th>\n",
              "      <th>amount</th>\n",
              "      <th>oldbalanceOrg</th>\n",
              "      <th>newbalanceOrig</th>\n",
              "      <th>oldbalanceDest</th>\n",
              "      <th>newbalanceDest</th>\n",
              "      <th>isFraud</th>\n",
              "      <th>isFlaggedFraud</th>\n",
              "    </tr>\n",
              "  </thead>\n",
              "  <tbody>\n",
              "    <tr>\n",
              "      <th>count</th>\n",
              "      <td>154.000000</td>\n",
              "      <td>1.540000e+02</td>\n",
              "      <td>1.540000e+02</td>\n",
              "      <td>1.540000e+02</td>\n",
              "      <td>1.540000e+02</td>\n",
              "      <td>1.540000e+02</td>\n",
              "      <td>154.0</td>\n",
              "      <td>154.000000</td>\n",
              "    </tr>\n",
              "    <tr>\n",
              "      <th>mean</th>\n",
              "      <td>439.097403</td>\n",
              "      <td>9.565122e+06</td>\n",
              "      <td>1.928838e+07</td>\n",
              "      <td>1.006063e+07</td>\n",
              "      <td>2.855618e+04</td>\n",
              "      <td>5.909128e+04</td>\n",
              "      <td>1.0</td>\n",
              "      <td>0.038961</td>\n",
              "    </tr>\n",
              "    <tr>\n",
              "      <th>std</th>\n",
              "      <td>213.665941</td>\n",
              "      <td>1.919552e+06</td>\n",
              "      <td>1.081729e+07</td>\n",
              "      <td>1.032873e+07</td>\n",
              "      <td>2.048429e+05</td>\n",
              "      <td>3.562933e+05</td>\n",
              "      <td>0.0</td>\n",
              "      <td>0.194133</td>\n",
              "    </tr>\n",
              "    <tr>\n",
              "      <th>min</th>\n",
              "      <td>4.000000</td>\n",
              "      <td>1.231949e+05</td>\n",
              "      <td>0.000000e+00</td>\n",
              "      <td>0.000000e+00</td>\n",
              "      <td>0.000000e+00</td>\n",
              "      <td>0.000000e+00</td>\n",
              "      <td>1.0</td>\n",
              "      <td>0.000000</td>\n",
              "    </tr>\n",
              "    <tr>\n",
              "      <th>25%</th>\n",
              "      <td>271.500000</td>\n",
              "      <td>1.000000e+07</td>\n",
              "      <td>1.227122e+07</td>\n",
              "      <td>2.455224e+06</td>\n",
              "      <td>0.000000e+00</td>\n",
              "      <td>0.000000e+00</td>\n",
              "      <td>1.0</td>\n",
              "      <td>0.000000</td>\n",
              "    </tr>\n",
              "    <tr>\n",
              "      <th>50%</th>\n",
              "      <td>425.000000</td>\n",
              "      <td>1.000000e+07</td>\n",
              "      <td>1.595579e+07</td>\n",
              "      <td>6.359678e+06</td>\n",
              "      <td>0.000000e+00</td>\n",
              "      <td>0.000000e+00</td>\n",
              "      <td>1.0</td>\n",
              "      <td>0.000000</td>\n",
              "    </tr>\n",
              "    <tr>\n",
              "      <th>75%</th>\n",
              "      <td>646.000000</td>\n",
              "      <td>1.000000e+07</td>\n",
              "      <td>2.370846e+07</td>\n",
              "      <td>1.493847e+07</td>\n",
              "      <td>0.000000e+00</td>\n",
              "      <td>0.000000e+00</td>\n",
              "      <td>1.0</td>\n",
              "      <td>0.000000</td>\n",
              "    </tr>\n",
              "    <tr>\n",
              "      <th>max</th>\n",
              "      <td>741.000000</td>\n",
              "      <td>1.000000e+07</td>\n",
              "      <td>5.958504e+07</td>\n",
              "      <td>4.958504e+07</td>\n",
              "      <td>2.122337e+06</td>\n",
              "      <td>3.217684e+06</td>\n",
              "      <td>1.0</td>\n",
              "      <td>1.000000</td>\n",
              "    </tr>\n",
              "  </tbody>\n",
              "</table>\n",
              "</div>\n",
              "      <button class=\"colab-df-convert\" onclick=\"convertToInteractive('df-bdc34a47-463b-406f-9a55-8ed60fa5882c')\"\n",
              "              title=\"Convert this dataframe to an interactive table.\"\n",
              "              style=\"display:none;\">\n",
              "        \n",
              "  <svg xmlns=\"http://www.w3.org/2000/svg\" height=\"24px\"viewBox=\"0 0 24 24\"\n",
              "       width=\"24px\">\n",
              "    <path d=\"M0 0h24v24H0V0z\" fill=\"none\"/>\n",
              "    <path d=\"M18.56 5.44l.94 2.06.94-2.06 2.06-.94-2.06-.94-.94-2.06-.94 2.06-2.06.94zm-11 1L8.5 8.5l.94-2.06 2.06-.94-2.06-.94L8.5 2.5l-.94 2.06-2.06.94zm10 10l.94 2.06.94-2.06 2.06-.94-2.06-.94-.94-2.06-.94 2.06-2.06.94z\"/><path d=\"M17.41 7.96l-1.37-1.37c-.4-.4-.92-.59-1.43-.59-.52 0-1.04.2-1.43.59L10.3 9.45l-7.72 7.72c-.78.78-.78 2.05 0 2.83L4 21.41c.39.39.9.59 1.41.59.51 0 1.02-.2 1.41-.59l7.78-7.78 2.81-2.81c.8-.78.8-2.07 0-2.86zM5.41 20L4 18.59l7.72-7.72 1.47 1.35L5.41 20z\"/>\n",
              "  </svg>\n",
              "      </button>\n",
              "      \n",
              "  <style>\n",
              "    .colab-df-container {\n",
              "      display:flex;\n",
              "      flex-wrap:wrap;\n",
              "      gap: 12px;\n",
              "    }\n",
              "\n",
              "    .colab-df-convert {\n",
              "      background-color: #E8F0FE;\n",
              "      border: none;\n",
              "      border-radius: 50%;\n",
              "      cursor: pointer;\n",
              "      display: none;\n",
              "      fill: #1967D2;\n",
              "      height: 32px;\n",
              "      padding: 0 0 0 0;\n",
              "      width: 32px;\n",
              "    }\n",
              "\n",
              "    .colab-df-convert:hover {\n",
              "      background-color: #E2EBFA;\n",
              "      box-shadow: 0px 1px 2px rgba(60, 64, 67, 0.3), 0px 1px 3px 1px rgba(60, 64, 67, 0.15);\n",
              "      fill: #174EA6;\n",
              "    }\n",
              "\n",
              "    [theme=dark] .colab-df-convert {\n",
              "      background-color: #3B4455;\n",
              "      fill: #D2E3FC;\n",
              "    }\n",
              "\n",
              "    [theme=dark] .colab-df-convert:hover {\n",
              "      background-color: #434B5C;\n",
              "      box-shadow: 0px 1px 3px 1px rgba(0, 0, 0, 0.15);\n",
              "      filter: drop-shadow(0px 1px 2px rgba(0, 0, 0, 0.3));\n",
              "      fill: #FFFFFF;\n",
              "    }\n",
              "  </style>\n",
              "\n",
              "      <script>\n",
              "        const buttonEl =\n",
              "          document.querySelector('#df-bdc34a47-463b-406f-9a55-8ed60fa5882c button.colab-df-convert');\n",
              "        buttonEl.style.display =\n",
              "          google.colab.kernel.accessAllowed ? 'block' : 'none';\n",
              "\n",
              "        async function convertToInteractive(key) {\n",
              "          const element = document.querySelector('#df-bdc34a47-463b-406f-9a55-8ed60fa5882c');\n",
              "          const dataTable =\n",
              "            await google.colab.kernel.invokeFunction('convertToInteractive',\n",
              "                                                     [key], {});\n",
              "          if (!dataTable) return;\n",
              "\n",
              "          const docLinkHtml = 'Like what you see? Visit the ' +\n",
              "            '<a target=\"_blank\" href=https://colab.research.google.com/notebooks/data_table.ipynb>data table notebook</a>'\n",
              "            + ' to learn more about interactive tables.';\n",
              "          element.innerHTML = '';\n",
              "          dataTable['output_type'] = 'display_data';\n",
              "          await google.colab.output.renderOutput(dataTable, element);\n",
              "          const docLink = document.createElement('div');\n",
              "          docLink.innerHTML = docLinkHtml;\n",
              "          element.appendChild(docLink);\n",
              "        }\n",
              "      </script>\n",
              "    </div>\n",
              "  </div>\n",
              "  "
            ]
          },
          "metadata": {},
          "execution_count": 20
        }
      ],
      "source": [
        "df_outliers[df_outliers['type'] == 'TRANSFER'].describe()"
      ]
    },
    {
      "cell_type": "markdown",
      "id": "545126b0",
      "metadata": {
        "id": "545126b0"
      },
      "source": [
        "Here also, the outliers cannot be ignored because they show a pattern. \n",
        "\n",
        "Most of the transfers attempted to transfer an amount of $1 \\times 10^7$ to an empty Destination account and failed."
      ]
    },
    {
      "cell_type": "markdown",
      "id": "59d80d28",
      "metadata": {
        "id": "59d80d28"
      },
      "source": [
        "### Flagged fraud\n",
        ">An illegal attempt in this dataset is an attempt to transfer more than 200.000 in a single transaction."
      ]
    },
    {
      "cell_type": "markdown",
      "id": "233db9fe",
      "metadata": {
        "id": "233db9fe"
      },
      "source": [
        "Analyzing flagged fraud data"
      ]
    },
    {
      "cell_type": "code",
      "execution_count": 21,
      "id": "a814da8d",
      "metadata": {
        "colab": {
          "base_uri": "https://localhost:8080/",
          "height": 300
        },
        "id": "a814da8d",
        "outputId": "6744ea66-b029-400e-8d5b-45ae2d9439c5"
      },
      "outputs": [
        {
          "output_type": "execute_result",
          "data": {
            "text/plain": [
              "             step        amount  oldbalanceOrg  newbalanceOrig  \\\n",
              "count   16.000000  1.600000e+01   1.600000e+01    1.600000e+01   \n",
              "mean   537.562500  4.861598e+06   7.817869e+06    7.817869e+06   \n",
              "std    181.895196  3.572499e+06   6.972669e+06    6.972669e+06   \n",
              "min    212.000000  3.538742e+05   3.538742e+05    3.538742e+05   \n",
              "25%    415.500000  2.242749e+06   3.013980e+06    3.013980e+06   \n",
              "50%    601.500000  4.234245e+06   4.923043e+06    4.923043e+06   \n",
              "75%    678.750000  7.883451e+06   1.212835e+07    1.212835e+07   \n",
              "max    741.000000  1.000000e+07   1.958504e+07    1.958504e+07   \n",
              "\n",
              "       oldbalanceDest  newbalanceDest  isFraud  isFlaggedFraud  \n",
              "count            16.0            16.0     16.0            16.0  \n",
              "mean              0.0             0.0      1.0             1.0  \n",
              "std               0.0             0.0      0.0             0.0  \n",
              "min               0.0             0.0      1.0             1.0  \n",
              "25%               0.0             0.0      1.0             1.0  \n",
              "50%               0.0             0.0      1.0             1.0  \n",
              "75%               0.0             0.0      1.0             1.0  \n",
              "max               0.0             0.0      1.0             1.0  "
            ],
            "text/html": [
              "\n",
              "  <div id=\"df-c1afd32c-36e7-4296-8780-ce884ccd5228\">\n",
              "    <div class=\"colab-df-container\">\n",
              "      <div>\n",
              "<style scoped>\n",
              "    .dataframe tbody tr th:only-of-type {\n",
              "        vertical-align: middle;\n",
              "    }\n",
              "\n",
              "    .dataframe tbody tr th {\n",
              "        vertical-align: top;\n",
              "    }\n",
              "\n",
              "    .dataframe thead th {\n",
              "        text-align: right;\n",
              "    }\n",
              "</style>\n",
              "<table border=\"1\" class=\"dataframe\">\n",
              "  <thead>\n",
              "    <tr style=\"text-align: right;\">\n",
              "      <th></th>\n",
              "      <th>step</th>\n",
              "      <th>amount</th>\n",
              "      <th>oldbalanceOrg</th>\n",
              "      <th>newbalanceOrig</th>\n",
              "      <th>oldbalanceDest</th>\n",
              "      <th>newbalanceDest</th>\n",
              "      <th>isFraud</th>\n",
              "      <th>isFlaggedFraud</th>\n",
              "    </tr>\n",
              "  </thead>\n",
              "  <tbody>\n",
              "    <tr>\n",
              "      <th>count</th>\n",
              "      <td>16.000000</td>\n",
              "      <td>1.600000e+01</td>\n",
              "      <td>1.600000e+01</td>\n",
              "      <td>1.600000e+01</td>\n",
              "      <td>16.0</td>\n",
              "      <td>16.0</td>\n",
              "      <td>16.0</td>\n",
              "      <td>16.0</td>\n",
              "    </tr>\n",
              "    <tr>\n",
              "      <th>mean</th>\n",
              "      <td>537.562500</td>\n",
              "      <td>4.861598e+06</td>\n",
              "      <td>7.817869e+06</td>\n",
              "      <td>7.817869e+06</td>\n",
              "      <td>0.0</td>\n",
              "      <td>0.0</td>\n",
              "      <td>1.0</td>\n",
              "      <td>1.0</td>\n",
              "    </tr>\n",
              "    <tr>\n",
              "      <th>std</th>\n",
              "      <td>181.895196</td>\n",
              "      <td>3.572499e+06</td>\n",
              "      <td>6.972669e+06</td>\n",
              "      <td>6.972669e+06</td>\n",
              "      <td>0.0</td>\n",
              "      <td>0.0</td>\n",
              "      <td>0.0</td>\n",
              "      <td>0.0</td>\n",
              "    </tr>\n",
              "    <tr>\n",
              "      <th>min</th>\n",
              "      <td>212.000000</td>\n",
              "      <td>3.538742e+05</td>\n",
              "      <td>3.538742e+05</td>\n",
              "      <td>3.538742e+05</td>\n",
              "      <td>0.0</td>\n",
              "      <td>0.0</td>\n",
              "      <td>1.0</td>\n",
              "      <td>1.0</td>\n",
              "    </tr>\n",
              "    <tr>\n",
              "      <th>25%</th>\n",
              "      <td>415.500000</td>\n",
              "      <td>2.242749e+06</td>\n",
              "      <td>3.013980e+06</td>\n",
              "      <td>3.013980e+06</td>\n",
              "      <td>0.0</td>\n",
              "      <td>0.0</td>\n",
              "      <td>1.0</td>\n",
              "      <td>1.0</td>\n",
              "    </tr>\n",
              "    <tr>\n",
              "      <th>50%</th>\n",
              "      <td>601.500000</td>\n",
              "      <td>4.234245e+06</td>\n",
              "      <td>4.923043e+06</td>\n",
              "      <td>4.923043e+06</td>\n",
              "      <td>0.0</td>\n",
              "      <td>0.0</td>\n",
              "      <td>1.0</td>\n",
              "      <td>1.0</td>\n",
              "    </tr>\n",
              "    <tr>\n",
              "      <th>75%</th>\n",
              "      <td>678.750000</td>\n",
              "      <td>7.883451e+06</td>\n",
              "      <td>1.212835e+07</td>\n",
              "      <td>1.212835e+07</td>\n",
              "      <td>0.0</td>\n",
              "      <td>0.0</td>\n",
              "      <td>1.0</td>\n",
              "      <td>1.0</td>\n",
              "    </tr>\n",
              "    <tr>\n",
              "      <th>max</th>\n",
              "      <td>741.000000</td>\n",
              "      <td>1.000000e+07</td>\n",
              "      <td>1.958504e+07</td>\n",
              "      <td>1.958504e+07</td>\n",
              "      <td>0.0</td>\n",
              "      <td>0.0</td>\n",
              "      <td>1.0</td>\n",
              "      <td>1.0</td>\n",
              "    </tr>\n",
              "  </tbody>\n",
              "</table>\n",
              "</div>\n",
              "      <button class=\"colab-df-convert\" onclick=\"convertToInteractive('df-c1afd32c-36e7-4296-8780-ce884ccd5228')\"\n",
              "              title=\"Convert this dataframe to an interactive table.\"\n",
              "              style=\"display:none;\">\n",
              "        \n",
              "  <svg xmlns=\"http://www.w3.org/2000/svg\" height=\"24px\"viewBox=\"0 0 24 24\"\n",
              "       width=\"24px\">\n",
              "    <path d=\"M0 0h24v24H0V0z\" fill=\"none\"/>\n",
              "    <path d=\"M18.56 5.44l.94 2.06.94-2.06 2.06-.94-2.06-.94-.94-2.06-.94 2.06-2.06.94zm-11 1L8.5 8.5l.94-2.06 2.06-.94-2.06-.94L8.5 2.5l-.94 2.06-2.06.94zm10 10l.94 2.06.94-2.06 2.06-.94-2.06-.94-.94-2.06-.94 2.06-2.06.94z\"/><path d=\"M17.41 7.96l-1.37-1.37c-.4-.4-.92-.59-1.43-.59-.52 0-1.04.2-1.43.59L10.3 9.45l-7.72 7.72c-.78.78-.78 2.05 0 2.83L4 21.41c.39.39.9.59 1.41.59.51 0 1.02-.2 1.41-.59l7.78-7.78 2.81-2.81c.8-.78.8-2.07 0-2.86zM5.41 20L4 18.59l7.72-7.72 1.47 1.35L5.41 20z\"/>\n",
              "  </svg>\n",
              "      </button>\n",
              "      \n",
              "  <style>\n",
              "    .colab-df-container {\n",
              "      display:flex;\n",
              "      flex-wrap:wrap;\n",
              "      gap: 12px;\n",
              "    }\n",
              "\n",
              "    .colab-df-convert {\n",
              "      background-color: #E8F0FE;\n",
              "      border: none;\n",
              "      border-radius: 50%;\n",
              "      cursor: pointer;\n",
              "      display: none;\n",
              "      fill: #1967D2;\n",
              "      height: 32px;\n",
              "      padding: 0 0 0 0;\n",
              "      width: 32px;\n",
              "    }\n",
              "\n",
              "    .colab-df-convert:hover {\n",
              "      background-color: #E2EBFA;\n",
              "      box-shadow: 0px 1px 2px rgba(60, 64, 67, 0.3), 0px 1px 3px 1px rgba(60, 64, 67, 0.15);\n",
              "      fill: #174EA6;\n",
              "    }\n",
              "\n",
              "    [theme=dark] .colab-df-convert {\n",
              "      background-color: #3B4455;\n",
              "      fill: #D2E3FC;\n",
              "    }\n",
              "\n",
              "    [theme=dark] .colab-df-convert:hover {\n",
              "      background-color: #434B5C;\n",
              "      box-shadow: 0px 1px 3px 1px rgba(0, 0, 0, 0.15);\n",
              "      filter: drop-shadow(0px 1px 2px rgba(0, 0, 0, 0.3));\n",
              "      fill: #FFFFFF;\n",
              "    }\n",
              "  </style>\n",
              "\n",
              "      <script>\n",
              "        const buttonEl =\n",
              "          document.querySelector('#df-c1afd32c-36e7-4296-8780-ce884ccd5228 button.colab-df-convert');\n",
              "        buttonEl.style.display =\n",
              "          google.colab.kernel.accessAllowed ? 'block' : 'none';\n",
              "\n",
              "        async function convertToInteractive(key) {\n",
              "          const element = document.querySelector('#df-c1afd32c-36e7-4296-8780-ce884ccd5228');\n",
              "          const dataTable =\n",
              "            await google.colab.kernel.invokeFunction('convertToInteractive',\n",
              "                                                     [key], {});\n",
              "          if (!dataTable) return;\n",
              "\n",
              "          const docLinkHtml = 'Like what you see? Visit the ' +\n",
              "            '<a target=\"_blank\" href=https://colab.research.google.com/notebooks/data_table.ipynb>data table notebook</a>'\n",
              "            + ' to learn more about interactive tables.';\n",
              "          element.innerHTML = '';\n",
              "          dataTable['output_type'] = 'display_data';\n",
              "          await google.colab.output.renderOutput(dataTable, element);\n",
              "          const docLink = document.createElement('div');\n",
              "          docLink.innerHTML = docLinkHtml;\n",
              "          element.appendChild(docLink);\n",
              "        }\n",
              "      </script>\n",
              "    </div>\n",
              "  </div>\n",
              "  "
            ]
          },
          "metadata": {},
          "execution_count": 21
        }
      ],
      "source": [
        "df[df['isFlaggedFraud'] == 1].describe()"
      ]
    },
    {
      "cell_type": "markdown",
      "id": "f2188d10",
      "metadata": {
        "id": "f2188d10"
      },
      "source": [
        "*Attempt to transfer $\\implies$ Original and destination accounts are not modified.*"
      ]
    },
    {
      "cell_type": "code",
      "execution_count": 22,
      "id": "5af55884",
      "metadata": {
        "colab": {
          "base_uri": "https://localhost:8080/"
        },
        "id": "5af55884",
        "outputId": "1a43136d-7230-4637-cd3e-f401438cf57d"
      },
      "outputs": [
        {
          "output_type": "execute_result",
          "data": {
            "text/plain": [
              "21"
            ]
          },
          "metadata": {},
          "execution_count": 22
        }
      ],
      "source": [
        "len(df[  (df['oldbalanceOrg'] == df['newbalanceOrig']) \\\n",
        "       & (df['oldbalanceDest'] == df['newbalanceDest']) \\\n",
        "       & (df['amount']>200.000) \\\n",
        "       & (df['type']=='TRANSFER') ])"
      ]
    },
    {
      "cell_type": "code",
      "execution_count": 23,
      "id": "69c021d8",
      "metadata": {
        "colab": {
          "base_uri": "https://localhost:8080/"
        },
        "id": "69c021d8",
        "outputId": "851138c3-7916-4728-b261-397077f3b4a1"
      },
      "outputs": [
        {
          "output_type": "execute_result",
          "data": {
            "text/plain": [
              "16"
            ]
          },
          "metadata": {},
          "execution_count": 23
        }
      ],
      "source": [
        "len(df[df['isFlaggedFraud'] == 1])"
      ]
    },
    {
      "cell_type": "markdown",
      "id": "d872d15e",
      "metadata": {
        "id": "d872d15e"
      },
      "source": [
        "$\\implies 21 - 16 = 5$ missing values or outliers in isFlaggedFraud."
      ]
    },
    {
      "cell_type": "code",
      "execution_count": 24,
      "id": "c1c21a07",
      "metadata": {
        "colab": {
          "base_uri": "https://localhost:8080/",
          "height": 300
        },
        "id": "c1c21a07",
        "outputId": "285a20cb-e2bd-4992-d944-a26e8c2dbd1e"
      },
      "outputs": [
        {
          "output_type": "execute_result",
          "data": {
            "text/plain": [
              "           step         amount  oldbalanceOrg  newbalanceOrig  oldbalanceDest  \\\n",
              "count   5.00000       5.000000            5.0             5.0             5.0   \n",
              "mean   16.80000  237475.474000            0.0             0.0             0.0   \n",
              "std    16.11521  161578.156092            0.0             0.0             0.0   \n",
              "min     1.00000   18931.590000            0.0             0.0             0.0   \n",
              "25%    12.00000  133711.480000            0.0             0.0             0.0   \n",
              "50%    12.00000  271161.740000            0.0             0.0             0.0   \n",
              "75%    15.00000  342317.150000            0.0             0.0             0.0   \n",
              "max    44.00000  421255.410000            0.0             0.0             0.0   \n",
              "\n",
              "       newbalanceDest  isFraud  isFlaggedFraud  \n",
              "count             5.0      5.0             5.0  \n",
              "mean              0.0      0.0             0.0  \n",
              "std               0.0      0.0             0.0  \n",
              "min               0.0      0.0             0.0  \n",
              "25%               0.0      0.0             0.0  \n",
              "50%               0.0      0.0             0.0  \n",
              "75%               0.0      0.0             0.0  \n",
              "max               0.0      0.0             0.0  "
            ],
            "text/html": [
              "\n",
              "  <div id=\"df-6ad3a9a5-3fae-421c-9d61-773e60c4afbf\">\n",
              "    <div class=\"colab-df-container\">\n",
              "      <div>\n",
              "<style scoped>\n",
              "    .dataframe tbody tr th:only-of-type {\n",
              "        vertical-align: middle;\n",
              "    }\n",
              "\n",
              "    .dataframe tbody tr th {\n",
              "        vertical-align: top;\n",
              "    }\n",
              "\n",
              "    .dataframe thead th {\n",
              "        text-align: right;\n",
              "    }\n",
              "</style>\n",
              "<table border=\"1\" class=\"dataframe\">\n",
              "  <thead>\n",
              "    <tr style=\"text-align: right;\">\n",
              "      <th></th>\n",
              "      <th>step</th>\n",
              "      <th>amount</th>\n",
              "      <th>oldbalanceOrg</th>\n",
              "      <th>newbalanceOrig</th>\n",
              "      <th>oldbalanceDest</th>\n",
              "      <th>newbalanceDest</th>\n",
              "      <th>isFraud</th>\n",
              "      <th>isFlaggedFraud</th>\n",
              "    </tr>\n",
              "  </thead>\n",
              "  <tbody>\n",
              "    <tr>\n",
              "      <th>count</th>\n",
              "      <td>5.00000</td>\n",
              "      <td>5.000000</td>\n",
              "      <td>5.0</td>\n",
              "      <td>5.0</td>\n",
              "      <td>5.0</td>\n",
              "      <td>5.0</td>\n",
              "      <td>5.0</td>\n",
              "      <td>5.0</td>\n",
              "    </tr>\n",
              "    <tr>\n",
              "      <th>mean</th>\n",
              "      <td>16.80000</td>\n",
              "      <td>237475.474000</td>\n",
              "      <td>0.0</td>\n",
              "      <td>0.0</td>\n",
              "      <td>0.0</td>\n",
              "      <td>0.0</td>\n",
              "      <td>0.0</td>\n",
              "      <td>0.0</td>\n",
              "    </tr>\n",
              "    <tr>\n",
              "      <th>std</th>\n",
              "      <td>16.11521</td>\n",
              "      <td>161578.156092</td>\n",
              "      <td>0.0</td>\n",
              "      <td>0.0</td>\n",
              "      <td>0.0</td>\n",
              "      <td>0.0</td>\n",
              "      <td>0.0</td>\n",
              "      <td>0.0</td>\n",
              "    </tr>\n",
              "    <tr>\n",
              "      <th>min</th>\n",
              "      <td>1.00000</td>\n",
              "      <td>18931.590000</td>\n",
              "      <td>0.0</td>\n",
              "      <td>0.0</td>\n",
              "      <td>0.0</td>\n",
              "      <td>0.0</td>\n",
              "      <td>0.0</td>\n",
              "      <td>0.0</td>\n",
              "    </tr>\n",
              "    <tr>\n",
              "      <th>25%</th>\n",
              "      <td>12.00000</td>\n",
              "      <td>133711.480000</td>\n",
              "      <td>0.0</td>\n",
              "      <td>0.0</td>\n",
              "      <td>0.0</td>\n",
              "      <td>0.0</td>\n",
              "      <td>0.0</td>\n",
              "      <td>0.0</td>\n",
              "    </tr>\n",
              "    <tr>\n",
              "      <th>50%</th>\n",
              "      <td>12.00000</td>\n",
              "      <td>271161.740000</td>\n",
              "      <td>0.0</td>\n",
              "      <td>0.0</td>\n",
              "      <td>0.0</td>\n",
              "      <td>0.0</td>\n",
              "      <td>0.0</td>\n",
              "      <td>0.0</td>\n",
              "    </tr>\n",
              "    <tr>\n",
              "      <th>75%</th>\n",
              "      <td>15.00000</td>\n",
              "      <td>342317.150000</td>\n",
              "      <td>0.0</td>\n",
              "      <td>0.0</td>\n",
              "      <td>0.0</td>\n",
              "      <td>0.0</td>\n",
              "      <td>0.0</td>\n",
              "      <td>0.0</td>\n",
              "    </tr>\n",
              "    <tr>\n",
              "      <th>max</th>\n",
              "      <td>44.00000</td>\n",
              "      <td>421255.410000</td>\n",
              "      <td>0.0</td>\n",
              "      <td>0.0</td>\n",
              "      <td>0.0</td>\n",
              "      <td>0.0</td>\n",
              "      <td>0.0</td>\n",
              "      <td>0.0</td>\n",
              "    </tr>\n",
              "  </tbody>\n",
              "</table>\n",
              "</div>\n",
              "      <button class=\"colab-df-convert\" onclick=\"convertToInteractive('df-6ad3a9a5-3fae-421c-9d61-773e60c4afbf')\"\n",
              "              title=\"Convert this dataframe to an interactive table.\"\n",
              "              style=\"display:none;\">\n",
              "        \n",
              "  <svg xmlns=\"http://www.w3.org/2000/svg\" height=\"24px\"viewBox=\"0 0 24 24\"\n",
              "       width=\"24px\">\n",
              "    <path d=\"M0 0h24v24H0V0z\" fill=\"none\"/>\n",
              "    <path d=\"M18.56 5.44l.94 2.06.94-2.06 2.06-.94-2.06-.94-.94-2.06-.94 2.06-2.06.94zm-11 1L8.5 8.5l.94-2.06 2.06-.94-2.06-.94L8.5 2.5l-.94 2.06-2.06.94zm10 10l.94 2.06.94-2.06 2.06-.94-2.06-.94-.94-2.06-.94 2.06-2.06.94z\"/><path d=\"M17.41 7.96l-1.37-1.37c-.4-.4-.92-.59-1.43-.59-.52 0-1.04.2-1.43.59L10.3 9.45l-7.72 7.72c-.78.78-.78 2.05 0 2.83L4 21.41c.39.39.9.59 1.41.59.51 0 1.02-.2 1.41-.59l7.78-7.78 2.81-2.81c.8-.78.8-2.07 0-2.86zM5.41 20L4 18.59l7.72-7.72 1.47 1.35L5.41 20z\"/>\n",
              "  </svg>\n",
              "      </button>\n",
              "      \n",
              "  <style>\n",
              "    .colab-df-container {\n",
              "      display:flex;\n",
              "      flex-wrap:wrap;\n",
              "      gap: 12px;\n",
              "    }\n",
              "\n",
              "    .colab-df-convert {\n",
              "      background-color: #E8F0FE;\n",
              "      border: none;\n",
              "      border-radius: 50%;\n",
              "      cursor: pointer;\n",
              "      display: none;\n",
              "      fill: #1967D2;\n",
              "      height: 32px;\n",
              "      padding: 0 0 0 0;\n",
              "      width: 32px;\n",
              "    }\n",
              "\n",
              "    .colab-df-convert:hover {\n",
              "      background-color: #E2EBFA;\n",
              "      box-shadow: 0px 1px 2px rgba(60, 64, 67, 0.3), 0px 1px 3px 1px rgba(60, 64, 67, 0.15);\n",
              "      fill: #174EA6;\n",
              "    }\n",
              "\n",
              "    [theme=dark] .colab-df-convert {\n",
              "      background-color: #3B4455;\n",
              "      fill: #D2E3FC;\n",
              "    }\n",
              "\n",
              "    [theme=dark] .colab-df-convert:hover {\n",
              "      background-color: #434B5C;\n",
              "      box-shadow: 0px 1px 3px 1px rgba(0, 0, 0, 0.15);\n",
              "      filter: drop-shadow(0px 1px 2px rgba(0, 0, 0, 0.3));\n",
              "      fill: #FFFFFF;\n",
              "    }\n",
              "  </style>\n",
              "\n",
              "      <script>\n",
              "        const buttonEl =\n",
              "          document.querySelector('#df-6ad3a9a5-3fae-421c-9d61-773e60c4afbf button.colab-df-convert');\n",
              "        buttonEl.style.display =\n",
              "          google.colab.kernel.accessAllowed ? 'block' : 'none';\n",
              "\n",
              "        async function convertToInteractive(key) {\n",
              "          const element = document.querySelector('#df-6ad3a9a5-3fae-421c-9d61-773e60c4afbf');\n",
              "          const dataTable =\n",
              "            await google.colab.kernel.invokeFunction('convertToInteractive',\n",
              "                                                     [key], {});\n",
              "          if (!dataTable) return;\n",
              "\n",
              "          const docLinkHtml = 'Like what you see? Visit the ' +\n",
              "            '<a target=\"_blank\" href=https://colab.research.google.com/notebooks/data_table.ipynb>data table notebook</a>'\n",
              "            + ' to learn more about interactive tables.';\n",
              "          element.innerHTML = '';\n",
              "          dataTable['output_type'] = 'display_data';\n",
              "          await google.colab.output.renderOutput(dataTable, element);\n",
              "          const docLink = document.createElement('div');\n",
              "          docLink.innerHTML = docLinkHtml;\n",
              "          element.appendChild(docLink);\n",
              "        }\n",
              "      </script>\n",
              "    </div>\n",
              "  </div>\n",
              "  "
            ]
          },
          "metadata": {},
          "execution_count": 24
        }
      ],
      "source": [
        "dff_outliers = df[  (df['oldbalanceOrg'] == df['newbalanceOrig']) \\\n",
        "       & (df['oldbalanceDest'] == df['newbalanceDest']) \\\n",
        "       & (df['amount']>200.000) \\\n",
        "       & (df['type']=='TRANSFER') \\\n",
        "       & (df['isFlaggedFraud']==0)]\n",
        "dff_outliers.describe()"
      ]
    },
    {
      "cell_type": "markdown",
      "id": "06e9dd7d",
      "metadata": {
        "id": "06e9dd7d"
      },
      "source": [
        "i.e. Failed transfer attempts from empty accounts are not flagged as fraud. <br>\n",
        "Again, the outliers has a pattern and must be retained."
      ]
    },
    {
      "cell_type": "markdown",
      "id": "1d7dbf47",
      "metadata": {
        "id": "1d7dbf47"
      },
      "source": [
        "## Merchant transactions"
      ]
    },
    {
      "cell_type": "markdown",
      "id": "9d6c032a",
      "metadata": {
        "id": "9d6c032a"
      },
      "source": [
        "Given,\n",
        "> there is not information for customers that start with M (Merchants)."
      ]
    },
    {
      "cell_type": "markdown",
      "id": "e6667e6c",
      "metadata": {
        "id": "e6667e6c"
      },
      "source": [
        "Finding transactions initiated by merchants"
      ]
    },
    {
      "cell_type": "code",
      "execution_count": 25,
      "id": "6a6caa5f",
      "metadata": {
        "scrolled": true,
        "colab": {
          "base_uri": "https://localhost:8080/",
          "height": 300
        },
        "id": "6a6caa5f",
        "outputId": "042bb131-3272-4a6a-e4d2-7c62f2b3bc4a"
      },
      "outputs": [
        {
          "output_type": "execute_result",
          "data": {
            "text/plain": [
              "       step  amount  oldbalanceOrg  newbalanceOrig  oldbalanceDest  \\\n",
              "count   0.0     0.0            0.0             0.0             0.0   \n",
              "mean    NaN     NaN            NaN             NaN             NaN   \n",
              "std     NaN     NaN            NaN             NaN             NaN   \n",
              "min     NaN     NaN            NaN             NaN             NaN   \n",
              "25%     NaN     NaN            NaN             NaN             NaN   \n",
              "50%     NaN     NaN            NaN             NaN             NaN   \n",
              "75%     NaN     NaN            NaN             NaN             NaN   \n",
              "max     NaN     NaN            NaN             NaN             NaN   \n",
              "\n",
              "       newbalanceDest  isFraud  isFlaggedFraud  \n",
              "count             0.0      0.0             0.0  \n",
              "mean              NaN      NaN             NaN  \n",
              "std               NaN      NaN             NaN  \n",
              "min               NaN      NaN             NaN  \n",
              "25%               NaN      NaN             NaN  \n",
              "50%               NaN      NaN             NaN  \n",
              "75%               NaN      NaN             NaN  \n",
              "max               NaN      NaN             NaN  "
            ],
            "text/html": [
              "\n",
              "  <div id=\"df-f40898f7-b0bd-458f-99e9-3d6b6b36a959\">\n",
              "    <div class=\"colab-df-container\">\n",
              "      <div>\n",
              "<style scoped>\n",
              "    .dataframe tbody tr th:only-of-type {\n",
              "        vertical-align: middle;\n",
              "    }\n",
              "\n",
              "    .dataframe tbody tr th {\n",
              "        vertical-align: top;\n",
              "    }\n",
              "\n",
              "    .dataframe thead th {\n",
              "        text-align: right;\n",
              "    }\n",
              "</style>\n",
              "<table border=\"1\" class=\"dataframe\">\n",
              "  <thead>\n",
              "    <tr style=\"text-align: right;\">\n",
              "      <th></th>\n",
              "      <th>step</th>\n",
              "      <th>amount</th>\n",
              "      <th>oldbalanceOrg</th>\n",
              "      <th>newbalanceOrig</th>\n",
              "      <th>oldbalanceDest</th>\n",
              "      <th>newbalanceDest</th>\n",
              "      <th>isFraud</th>\n",
              "      <th>isFlaggedFraud</th>\n",
              "    </tr>\n",
              "  </thead>\n",
              "  <tbody>\n",
              "    <tr>\n",
              "      <th>count</th>\n",
              "      <td>0.0</td>\n",
              "      <td>0.0</td>\n",
              "      <td>0.0</td>\n",
              "      <td>0.0</td>\n",
              "      <td>0.0</td>\n",
              "      <td>0.0</td>\n",
              "      <td>0.0</td>\n",
              "      <td>0.0</td>\n",
              "    </tr>\n",
              "    <tr>\n",
              "      <th>mean</th>\n",
              "      <td>NaN</td>\n",
              "      <td>NaN</td>\n",
              "      <td>NaN</td>\n",
              "      <td>NaN</td>\n",
              "      <td>NaN</td>\n",
              "      <td>NaN</td>\n",
              "      <td>NaN</td>\n",
              "      <td>NaN</td>\n",
              "    </tr>\n",
              "    <tr>\n",
              "      <th>std</th>\n",
              "      <td>NaN</td>\n",
              "      <td>NaN</td>\n",
              "      <td>NaN</td>\n",
              "      <td>NaN</td>\n",
              "      <td>NaN</td>\n",
              "      <td>NaN</td>\n",
              "      <td>NaN</td>\n",
              "      <td>NaN</td>\n",
              "    </tr>\n",
              "    <tr>\n",
              "      <th>min</th>\n",
              "      <td>NaN</td>\n",
              "      <td>NaN</td>\n",
              "      <td>NaN</td>\n",
              "      <td>NaN</td>\n",
              "      <td>NaN</td>\n",
              "      <td>NaN</td>\n",
              "      <td>NaN</td>\n",
              "      <td>NaN</td>\n",
              "    </tr>\n",
              "    <tr>\n",
              "      <th>25%</th>\n",
              "      <td>NaN</td>\n",
              "      <td>NaN</td>\n",
              "      <td>NaN</td>\n",
              "      <td>NaN</td>\n",
              "      <td>NaN</td>\n",
              "      <td>NaN</td>\n",
              "      <td>NaN</td>\n",
              "      <td>NaN</td>\n",
              "    </tr>\n",
              "    <tr>\n",
              "      <th>50%</th>\n",
              "      <td>NaN</td>\n",
              "      <td>NaN</td>\n",
              "      <td>NaN</td>\n",
              "      <td>NaN</td>\n",
              "      <td>NaN</td>\n",
              "      <td>NaN</td>\n",
              "      <td>NaN</td>\n",
              "      <td>NaN</td>\n",
              "    </tr>\n",
              "    <tr>\n",
              "      <th>75%</th>\n",
              "      <td>NaN</td>\n",
              "      <td>NaN</td>\n",
              "      <td>NaN</td>\n",
              "      <td>NaN</td>\n",
              "      <td>NaN</td>\n",
              "      <td>NaN</td>\n",
              "      <td>NaN</td>\n",
              "      <td>NaN</td>\n",
              "    </tr>\n",
              "    <tr>\n",
              "      <th>max</th>\n",
              "      <td>NaN</td>\n",
              "      <td>NaN</td>\n",
              "      <td>NaN</td>\n",
              "      <td>NaN</td>\n",
              "      <td>NaN</td>\n",
              "      <td>NaN</td>\n",
              "      <td>NaN</td>\n",
              "      <td>NaN</td>\n",
              "    </tr>\n",
              "  </tbody>\n",
              "</table>\n",
              "</div>\n",
              "      <button class=\"colab-df-convert\" onclick=\"convertToInteractive('df-f40898f7-b0bd-458f-99e9-3d6b6b36a959')\"\n",
              "              title=\"Convert this dataframe to an interactive table.\"\n",
              "              style=\"display:none;\">\n",
              "        \n",
              "  <svg xmlns=\"http://www.w3.org/2000/svg\" height=\"24px\"viewBox=\"0 0 24 24\"\n",
              "       width=\"24px\">\n",
              "    <path d=\"M0 0h24v24H0V0z\" fill=\"none\"/>\n",
              "    <path d=\"M18.56 5.44l.94 2.06.94-2.06 2.06-.94-2.06-.94-.94-2.06-.94 2.06-2.06.94zm-11 1L8.5 8.5l.94-2.06 2.06-.94-2.06-.94L8.5 2.5l-.94 2.06-2.06.94zm10 10l.94 2.06.94-2.06 2.06-.94-2.06-.94-.94-2.06-.94 2.06-2.06.94z\"/><path d=\"M17.41 7.96l-1.37-1.37c-.4-.4-.92-.59-1.43-.59-.52 0-1.04.2-1.43.59L10.3 9.45l-7.72 7.72c-.78.78-.78 2.05 0 2.83L4 21.41c.39.39.9.59 1.41.59.51 0 1.02-.2 1.41-.59l7.78-7.78 2.81-2.81c.8-.78.8-2.07 0-2.86zM5.41 20L4 18.59l7.72-7.72 1.47 1.35L5.41 20z\"/>\n",
              "  </svg>\n",
              "      </button>\n",
              "      \n",
              "  <style>\n",
              "    .colab-df-container {\n",
              "      display:flex;\n",
              "      flex-wrap:wrap;\n",
              "      gap: 12px;\n",
              "    }\n",
              "\n",
              "    .colab-df-convert {\n",
              "      background-color: #E8F0FE;\n",
              "      border: none;\n",
              "      border-radius: 50%;\n",
              "      cursor: pointer;\n",
              "      display: none;\n",
              "      fill: #1967D2;\n",
              "      height: 32px;\n",
              "      padding: 0 0 0 0;\n",
              "      width: 32px;\n",
              "    }\n",
              "\n",
              "    .colab-df-convert:hover {\n",
              "      background-color: #E2EBFA;\n",
              "      box-shadow: 0px 1px 2px rgba(60, 64, 67, 0.3), 0px 1px 3px 1px rgba(60, 64, 67, 0.15);\n",
              "      fill: #174EA6;\n",
              "    }\n",
              "\n",
              "    [theme=dark] .colab-df-convert {\n",
              "      background-color: #3B4455;\n",
              "      fill: #D2E3FC;\n",
              "    }\n",
              "\n",
              "    [theme=dark] .colab-df-convert:hover {\n",
              "      background-color: #434B5C;\n",
              "      box-shadow: 0px 1px 3px 1px rgba(0, 0, 0, 0.15);\n",
              "      filter: drop-shadow(0px 1px 2px rgba(0, 0, 0, 0.3));\n",
              "      fill: #FFFFFF;\n",
              "    }\n",
              "  </style>\n",
              "\n",
              "      <script>\n",
              "        const buttonEl =\n",
              "          document.querySelector('#df-f40898f7-b0bd-458f-99e9-3d6b6b36a959 button.colab-df-convert');\n",
              "        buttonEl.style.display =\n",
              "          google.colab.kernel.accessAllowed ? 'block' : 'none';\n",
              "\n",
              "        async function convertToInteractive(key) {\n",
              "          const element = document.querySelector('#df-f40898f7-b0bd-458f-99e9-3d6b6b36a959');\n",
              "          const dataTable =\n",
              "            await google.colab.kernel.invokeFunction('convertToInteractive',\n",
              "                                                     [key], {});\n",
              "          if (!dataTable) return;\n",
              "\n",
              "          const docLinkHtml = 'Like what you see? Visit the ' +\n",
              "            '<a target=\"_blank\" href=https://colab.research.google.com/notebooks/data_table.ipynb>data table notebook</a>'\n",
              "            + ' to learn more about interactive tables.';\n",
              "          element.innerHTML = '';\n",
              "          dataTable['output_type'] = 'display_data';\n",
              "          await google.colab.output.renderOutput(dataTable, element);\n",
              "          const docLink = document.createElement('div');\n",
              "          docLink.innerHTML = docLinkHtml;\n",
              "          element.appendChild(docLink);\n",
              "        }\n",
              "      </script>\n",
              "    </div>\n",
              "  </div>\n",
              "  "
            ]
          },
          "metadata": {},
          "execution_count": 25
        }
      ],
      "source": [
        "df[df['nameOrig'].str.startswith('M')].describe()"
      ]
    },
    {
      "cell_type": "markdown",
      "id": "ee8b8882",
      "metadata": {
        "id": "ee8b8882"
      },
      "source": [
        "$\\implies$ No merchants initiated transactions."
      ]
    },
    {
      "cell_type": "code",
      "execution_count": 26,
      "id": "58022931",
      "metadata": {
        "colab": {
          "base_uri": "https://localhost:8080/",
          "height": 300
        },
        "id": "58022931",
        "outputId": "2c833266-9d81-4812-885f-93b5e76dbf28"
      },
      "outputs": [
        {
          "output_type": "execute_result",
          "data": {
            "text/plain": [
              "               step        amount  oldbalanceOrg  newbalanceOrig  \\\n",
              "count  2.151495e+06  2.151495e+06   2.151495e+06    2.151495e+06   \n",
              "mean   2.443782e+02  1.305760e+04   6.821683e+04    6.183789e+04   \n",
              "std    1.426951e+02  1.255645e+04   1.989911e+05    1.969915e+05   \n",
              "min    1.000000e+00  2.000000e-02   0.000000e+00    0.000000e+00   \n",
              "25%    1.560000e+02  4.383820e+03   0.000000e+00    0.000000e+00   \n",
              "50%    2.490000e+02  9.482190e+03   1.053000e+04    0.000000e+00   \n",
              "75%    3.350000e+02  1.756122e+04   6.088300e+04    4.965413e+04   \n",
              "max    7.180000e+02  2.386380e+05   4.368662e+07    4.367380e+07   \n",
              "\n",
              "       oldbalanceDest  newbalanceDest    isFraud  isFlaggedFraud  \n",
              "count       2151495.0       2151495.0  2151495.0       2151495.0  \n",
              "mean              0.0             0.0        0.0             0.0  \n",
              "std               0.0             0.0        0.0             0.0  \n",
              "min               0.0             0.0        0.0             0.0  \n",
              "25%               0.0             0.0        0.0             0.0  \n",
              "50%               0.0             0.0        0.0             0.0  \n",
              "75%               0.0             0.0        0.0             0.0  \n",
              "max               0.0             0.0        0.0             0.0  "
            ],
            "text/html": [
              "\n",
              "  <div id=\"df-f601710e-0fb1-47af-a907-eacfbb1d253c\">\n",
              "    <div class=\"colab-df-container\">\n",
              "      <div>\n",
              "<style scoped>\n",
              "    .dataframe tbody tr th:only-of-type {\n",
              "        vertical-align: middle;\n",
              "    }\n",
              "\n",
              "    .dataframe tbody tr th {\n",
              "        vertical-align: top;\n",
              "    }\n",
              "\n",
              "    .dataframe thead th {\n",
              "        text-align: right;\n",
              "    }\n",
              "</style>\n",
              "<table border=\"1\" class=\"dataframe\">\n",
              "  <thead>\n",
              "    <tr style=\"text-align: right;\">\n",
              "      <th></th>\n",
              "      <th>step</th>\n",
              "      <th>amount</th>\n",
              "      <th>oldbalanceOrg</th>\n",
              "      <th>newbalanceOrig</th>\n",
              "      <th>oldbalanceDest</th>\n",
              "      <th>newbalanceDest</th>\n",
              "      <th>isFraud</th>\n",
              "      <th>isFlaggedFraud</th>\n",
              "    </tr>\n",
              "  </thead>\n",
              "  <tbody>\n",
              "    <tr>\n",
              "      <th>count</th>\n",
              "      <td>2.151495e+06</td>\n",
              "      <td>2.151495e+06</td>\n",
              "      <td>2.151495e+06</td>\n",
              "      <td>2.151495e+06</td>\n",
              "      <td>2151495.0</td>\n",
              "      <td>2151495.0</td>\n",
              "      <td>2151495.0</td>\n",
              "      <td>2151495.0</td>\n",
              "    </tr>\n",
              "    <tr>\n",
              "      <th>mean</th>\n",
              "      <td>2.443782e+02</td>\n",
              "      <td>1.305760e+04</td>\n",
              "      <td>6.821683e+04</td>\n",
              "      <td>6.183789e+04</td>\n",
              "      <td>0.0</td>\n",
              "      <td>0.0</td>\n",
              "      <td>0.0</td>\n",
              "      <td>0.0</td>\n",
              "    </tr>\n",
              "    <tr>\n",
              "      <th>std</th>\n",
              "      <td>1.426951e+02</td>\n",
              "      <td>1.255645e+04</td>\n",
              "      <td>1.989911e+05</td>\n",
              "      <td>1.969915e+05</td>\n",
              "      <td>0.0</td>\n",
              "      <td>0.0</td>\n",
              "      <td>0.0</td>\n",
              "      <td>0.0</td>\n",
              "    </tr>\n",
              "    <tr>\n",
              "      <th>min</th>\n",
              "      <td>1.000000e+00</td>\n",
              "      <td>2.000000e-02</td>\n",
              "      <td>0.000000e+00</td>\n",
              "      <td>0.000000e+00</td>\n",
              "      <td>0.0</td>\n",
              "      <td>0.0</td>\n",
              "      <td>0.0</td>\n",
              "      <td>0.0</td>\n",
              "    </tr>\n",
              "    <tr>\n",
              "      <th>25%</th>\n",
              "      <td>1.560000e+02</td>\n",
              "      <td>4.383820e+03</td>\n",
              "      <td>0.000000e+00</td>\n",
              "      <td>0.000000e+00</td>\n",
              "      <td>0.0</td>\n",
              "      <td>0.0</td>\n",
              "      <td>0.0</td>\n",
              "      <td>0.0</td>\n",
              "    </tr>\n",
              "    <tr>\n",
              "      <th>50%</th>\n",
              "      <td>2.490000e+02</td>\n",
              "      <td>9.482190e+03</td>\n",
              "      <td>1.053000e+04</td>\n",
              "      <td>0.000000e+00</td>\n",
              "      <td>0.0</td>\n",
              "      <td>0.0</td>\n",
              "      <td>0.0</td>\n",
              "      <td>0.0</td>\n",
              "    </tr>\n",
              "    <tr>\n",
              "      <th>75%</th>\n",
              "      <td>3.350000e+02</td>\n",
              "      <td>1.756122e+04</td>\n",
              "      <td>6.088300e+04</td>\n",
              "      <td>4.965413e+04</td>\n",
              "      <td>0.0</td>\n",
              "      <td>0.0</td>\n",
              "      <td>0.0</td>\n",
              "      <td>0.0</td>\n",
              "    </tr>\n",
              "    <tr>\n",
              "      <th>max</th>\n",
              "      <td>7.180000e+02</td>\n",
              "      <td>2.386380e+05</td>\n",
              "      <td>4.368662e+07</td>\n",
              "      <td>4.367380e+07</td>\n",
              "      <td>0.0</td>\n",
              "      <td>0.0</td>\n",
              "      <td>0.0</td>\n",
              "      <td>0.0</td>\n",
              "    </tr>\n",
              "  </tbody>\n",
              "</table>\n",
              "</div>\n",
              "      <button class=\"colab-df-convert\" onclick=\"convertToInteractive('df-f601710e-0fb1-47af-a907-eacfbb1d253c')\"\n",
              "              title=\"Convert this dataframe to an interactive table.\"\n",
              "              style=\"display:none;\">\n",
              "        \n",
              "  <svg xmlns=\"http://www.w3.org/2000/svg\" height=\"24px\"viewBox=\"0 0 24 24\"\n",
              "       width=\"24px\">\n",
              "    <path d=\"M0 0h24v24H0V0z\" fill=\"none\"/>\n",
              "    <path d=\"M18.56 5.44l.94 2.06.94-2.06 2.06-.94-2.06-.94-.94-2.06-.94 2.06-2.06.94zm-11 1L8.5 8.5l.94-2.06 2.06-.94-2.06-.94L8.5 2.5l-.94 2.06-2.06.94zm10 10l.94 2.06.94-2.06 2.06-.94-2.06-.94-.94-2.06-.94 2.06-2.06.94z\"/><path d=\"M17.41 7.96l-1.37-1.37c-.4-.4-.92-.59-1.43-.59-.52 0-1.04.2-1.43.59L10.3 9.45l-7.72 7.72c-.78.78-.78 2.05 0 2.83L4 21.41c.39.39.9.59 1.41.59.51 0 1.02-.2 1.41-.59l7.78-7.78 2.81-2.81c.8-.78.8-2.07 0-2.86zM5.41 20L4 18.59l7.72-7.72 1.47 1.35L5.41 20z\"/>\n",
              "  </svg>\n",
              "      </button>\n",
              "      \n",
              "  <style>\n",
              "    .colab-df-container {\n",
              "      display:flex;\n",
              "      flex-wrap:wrap;\n",
              "      gap: 12px;\n",
              "    }\n",
              "\n",
              "    .colab-df-convert {\n",
              "      background-color: #E8F0FE;\n",
              "      border: none;\n",
              "      border-radius: 50%;\n",
              "      cursor: pointer;\n",
              "      display: none;\n",
              "      fill: #1967D2;\n",
              "      height: 32px;\n",
              "      padding: 0 0 0 0;\n",
              "      width: 32px;\n",
              "    }\n",
              "\n",
              "    .colab-df-convert:hover {\n",
              "      background-color: #E2EBFA;\n",
              "      box-shadow: 0px 1px 2px rgba(60, 64, 67, 0.3), 0px 1px 3px 1px rgba(60, 64, 67, 0.15);\n",
              "      fill: #174EA6;\n",
              "    }\n",
              "\n",
              "    [theme=dark] .colab-df-convert {\n",
              "      background-color: #3B4455;\n",
              "      fill: #D2E3FC;\n",
              "    }\n",
              "\n",
              "    [theme=dark] .colab-df-convert:hover {\n",
              "      background-color: #434B5C;\n",
              "      box-shadow: 0px 1px 3px 1px rgba(0, 0, 0, 0.15);\n",
              "      filter: drop-shadow(0px 1px 2px rgba(0, 0, 0, 0.3));\n",
              "      fill: #FFFFFF;\n",
              "    }\n",
              "  </style>\n",
              "\n",
              "      <script>\n",
              "        const buttonEl =\n",
              "          document.querySelector('#df-f601710e-0fb1-47af-a907-eacfbb1d253c button.colab-df-convert');\n",
              "        buttonEl.style.display =\n",
              "          google.colab.kernel.accessAllowed ? 'block' : 'none';\n",
              "\n",
              "        async function convertToInteractive(key) {\n",
              "          const element = document.querySelector('#df-f601710e-0fb1-47af-a907-eacfbb1d253c');\n",
              "          const dataTable =\n",
              "            await google.colab.kernel.invokeFunction('convertToInteractive',\n",
              "                                                     [key], {});\n",
              "          if (!dataTable) return;\n",
              "\n",
              "          const docLinkHtml = 'Like what you see? Visit the ' +\n",
              "            '<a target=\"_blank\" href=https://colab.research.google.com/notebooks/data_table.ipynb>data table notebook</a>'\n",
              "            + ' to learn more about interactive tables.';\n",
              "          element.innerHTML = '';\n",
              "          dataTable['output_type'] = 'display_data';\n",
              "          await google.colab.output.renderOutput(dataTable, element);\n",
              "          const docLink = document.createElement('div');\n",
              "          docLink.innerHTML = docLinkHtml;\n",
              "          element.appendChild(docLink);\n",
              "        }\n",
              "      </script>\n",
              "    </div>\n",
              "  </div>\n",
              "  "
            ]
          },
          "metadata": {},
          "execution_count": 26
        }
      ],
      "source": [
        "df[df['nameDest'].str.startswith('M')].describe()"
      ]
    },
    {
      "cell_type": "markdown",
      "id": "8b9721ab",
      "metadata": {
        "id": "8b9721ab"
      },
      "source": [
        "$\\implies$ 2151495 transactions were destined towards merchant accounts. <br>\n",
        "However, oldbalanceDest, newbalanceDest, isFraud, isFlaggedFraud - are all 0; i.e these are the missing data."
      ]
    },
    {
      "cell_type": "code",
      "execution_count": 27,
      "id": "505ab101",
      "metadata": {
        "id": "505ab101"
      },
      "outputs": [],
      "source": [
        "df_missing = df[df['nameDest'].str.startswith('M')]"
      ]
    },
    {
      "cell_type": "code",
      "execution_count": 28,
      "id": "e4888143",
      "metadata": {
        "scrolled": true,
        "colab": {
          "base_uri": "https://localhost:8080/"
        },
        "id": "e4888143",
        "outputId": "0a1cbf84-2371-4843-e3a1-3651a92eb706"
      },
      "outputs": [
        {
          "output_type": "execute_result",
          "data": {
            "text/plain": [
              "array(['PAYMENT'], dtype=object)"
            ]
          },
          "metadata": {},
          "execution_count": 28
        }
      ],
      "source": [
        "df_missing['type'].unique()"
      ]
    },
    {
      "cell_type": "markdown",
      "id": "f41f8b1c",
      "metadata": {
        "id": "f41f8b1c"
      },
      "source": [
        "$\\implies$ all missing data are payments."
      ]
    },
    {
      "cell_type": "markdown",
      "id": "c38a6d9c",
      "metadata": {
        "id": "c38a6d9c"
      },
      "source": [
        "# Data preprocessing"
      ]
    },
    {
      "cell_type": "markdown",
      "id": "0df765af",
      "metadata": {
        "id": "0df765af"
      },
      "source": [
        "## Fix missing data"
      ]
    },
    {
      "cell_type": "markdown",
      "id": "b85b8a73",
      "metadata": {
        "id": "b85b8a73"
      },
      "source": [
        "Interpolating oldbalance and updating new balance with payment"
      ]
    },
    {
      "cell_type": "code",
      "execution_count": 29,
      "id": "15684620",
      "metadata": {
        "colab": {
          "base_uri": "https://localhost:8080/"
        },
        "id": "15684620",
        "outputId": "e30f25c4-9cd2-436a-a263-af4f69a5eee6"
      },
      "outputs": [
        {
          "output_type": "stream",
          "name": "stdout",
          "text": [
            "2151495 rows updated with NaN\n"
          ]
        }
      ],
      "source": [
        "import numpy as np\n",
        "df.loc[df['nameDest'].str.startswith('M'), ['oldbalanceDest']] = np.NaN\n",
        "print('{} rows updated with NaN'.format(df['oldbalanceDest'].isnull().sum()))"
      ]
    },
    {
      "cell_type": "code",
      "execution_count": 30,
      "id": "b25b6b78",
      "metadata": {
        "id": "b25b6b78"
      },
      "outputs": [],
      "source": [
        "df=df.interpolate()"
      ]
    },
    {
      "cell_type": "markdown",
      "id": "e4c2f3c0",
      "metadata": {
        "id": "e4c2f3c0"
      },
      "source": [
        "Find if there are missing data after interpolate"
      ]
    },
    {
      "cell_type": "code",
      "execution_count": 31,
      "id": "1ae30fc6",
      "metadata": {
        "colab": {
          "base_uri": "https://localhost:8080/",
          "height": 112
        },
        "id": "1ae30fc6",
        "outputId": "c70023b5-3706-48b2-9603-d96cd928513d"
      },
      "outputs": [
        {
          "output_type": "execute_result",
          "data": {
            "text/plain": [
              "   step     type   amount     nameOrig  oldbalanceOrg  newbalanceOrig  \\\n",
              "0     1  PAYMENT  9839.64  C1231006815       170136.0       160296.36   \n",
              "1     1  PAYMENT  1864.28  C1666544295        21249.0        19384.72   \n",
              "\n",
              "      nameDest  oldbalanceDest  newbalanceDest  isFraud  isFlaggedFraud  \n",
              "0  M1979787155             NaN             0.0        0               0  \n",
              "1  M2044282225             NaN             0.0        0               0  "
            ],
            "text/html": [
              "\n",
              "  <div id=\"df-29dcf1c7-0256-445d-86fb-fa01d1964a23\">\n",
              "    <div class=\"colab-df-container\">\n",
              "      <div>\n",
              "<style scoped>\n",
              "    .dataframe tbody tr th:only-of-type {\n",
              "        vertical-align: middle;\n",
              "    }\n",
              "\n",
              "    .dataframe tbody tr th {\n",
              "        vertical-align: top;\n",
              "    }\n",
              "\n",
              "    .dataframe thead th {\n",
              "        text-align: right;\n",
              "    }\n",
              "</style>\n",
              "<table border=\"1\" class=\"dataframe\">\n",
              "  <thead>\n",
              "    <tr style=\"text-align: right;\">\n",
              "      <th></th>\n",
              "      <th>step</th>\n",
              "      <th>type</th>\n",
              "      <th>amount</th>\n",
              "      <th>nameOrig</th>\n",
              "      <th>oldbalanceOrg</th>\n",
              "      <th>newbalanceOrig</th>\n",
              "      <th>nameDest</th>\n",
              "      <th>oldbalanceDest</th>\n",
              "      <th>newbalanceDest</th>\n",
              "      <th>isFraud</th>\n",
              "      <th>isFlaggedFraud</th>\n",
              "    </tr>\n",
              "  </thead>\n",
              "  <tbody>\n",
              "    <tr>\n",
              "      <th>0</th>\n",
              "      <td>1</td>\n",
              "      <td>PAYMENT</td>\n",
              "      <td>9839.64</td>\n",
              "      <td>C1231006815</td>\n",
              "      <td>170136.0</td>\n",
              "      <td>160296.36</td>\n",
              "      <td>M1979787155</td>\n",
              "      <td>NaN</td>\n",
              "      <td>0.0</td>\n",
              "      <td>0</td>\n",
              "      <td>0</td>\n",
              "    </tr>\n",
              "    <tr>\n",
              "      <th>1</th>\n",
              "      <td>1</td>\n",
              "      <td>PAYMENT</td>\n",
              "      <td>1864.28</td>\n",
              "      <td>C1666544295</td>\n",
              "      <td>21249.0</td>\n",
              "      <td>19384.72</td>\n",
              "      <td>M2044282225</td>\n",
              "      <td>NaN</td>\n",
              "      <td>0.0</td>\n",
              "      <td>0</td>\n",
              "      <td>0</td>\n",
              "    </tr>\n",
              "  </tbody>\n",
              "</table>\n",
              "</div>\n",
              "      <button class=\"colab-df-convert\" onclick=\"convertToInteractive('df-29dcf1c7-0256-445d-86fb-fa01d1964a23')\"\n",
              "              title=\"Convert this dataframe to an interactive table.\"\n",
              "              style=\"display:none;\">\n",
              "        \n",
              "  <svg xmlns=\"http://www.w3.org/2000/svg\" height=\"24px\"viewBox=\"0 0 24 24\"\n",
              "       width=\"24px\">\n",
              "    <path d=\"M0 0h24v24H0V0z\" fill=\"none\"/>\n",
              "    <path d=\"M18.56 5.44l.94 2.06.94-2.06 2.06-.94-2.06-.94-.94-2.06-.94 2.06-2.06.94zm-11 1L8.5 8.5l.94-2.06 2.06-.94-2.06-.94L8.5 2.5l-.94 2.06-2.06.94zm10 10l.94 2.06.94-2.06 2.06-.94-2.06-.94-.94-2.06-.94 2.06-2.06.94z\"/><path d=\"M17.41 7.96l-1.37-1.37c-.4-.4-.92-.59-1.43-.59-.52 0-1.04.2-1.43.59L10.3 9.45l-7.72 7.72c-.78.78-.78 2.05 0 2.83L4 21.41c.39.39.9.59 1.41.59.51 0 1.02-.2 1.41-.59l7.78-7.78 2.81-2.81c.8-.78.8-2.07 0-2.86zM5.41 20L4 18.59l7.72-7.72 1.47 1.35L5.41 20z\"/>\n",
              "  </svg>\n",
              "      </button>\n",
              "      \n",
              "  <style>\n",
              "    .colab-df-container {\n",
              "      display:flex;\n",
              "      flex-wrap:wrap;\n",
              "      gap: 12px;\n",
              "    }\n",
              "\n",
              "    .colab-df-convert {\n",
              "      background-color: #E8F0FE;\n",
              "      border: none;\n",
              "      border-radius: 50%;\n",
              "      cursor: pointer;\n",
              "      display: none;\n",
              "      fill: #1967D2;\n",
              "      height: 32px;\n",
              "      padding: 0 0 0 0;\n",
              "      width: 32px;\n",
              "    }\n",
              "\n",
              "    .colab-df-convert:hover {\n",
              "      background-color: #E2EBFA;\n",
              "      box-shadow: 0px 1px 2px rgba(60, 64, 67, 0.3), 0px 1px 3px 1px rgba(60, 64, 67, 0.15);\n",
              "      fill: #174EA6;\n",
              "    }\n",
              "\n",
              "    [theme=dark] .colab-df-convert {\n",
              "      background-color: #3B4455;\n",
              "      fill: #D2E3FC;\n",
              "    }\n",
              "\n",
              "    [theme=dark] .colab-df-convert:hover {\n",
              "      background-color: #434B5C;\n",
              "      box-shadow: 0px 1px 3px 1px rgba(0, 0, 0, 0.15);\n",
              "      filter: drop-shadow(0px 1px 2px rgba(0, 0, 0, 0.3));\n",
              "      fill: #FFFFFF;\n",
              "    }\n",
              "  </style>\n",
              "\n",
              "      <script>\n",
              "        const buttonEl =\n",
              "          document.querySelector('#df-29dcf1c7-0256-445d-86fb-fa01d1964a23 button.colab-df-convert');\n",
              "        buttonEl.style.display =\n",
              "          google.colab.kernel.accessAllowed ? 'block' : 'none';\n",
              "\n",
              "        async function convertToInteractive(key) {\n",
              "          const element = document.querySelector('#df-29dcf1c7-0256-445d-86fb-fa01d1964a23');\n",
              "          const dataTable =\n",
              "            await google.colab.kernel.invokeFunction('convertToInteractive',\n",
              "                                                     [key], {});\n",
              "          if (!dataTable) return;\n",
              "\n",
              "          const docLinkHtml = 'Like what you see? Visit the ' +\n",
              "            '<a target=\"_blank\" href=https://colab.research.google.com/notebooks/data_table.ipynb>data table notebook</a>'\n",
              "            + ' to learn more about interactive tables.';\n",
              "          element.innerHTML = '';\n",
              "          dataTable['output_type'] = 'display_data';\n",
              "          await google.colab.output.renderOutput(dataTable, element);\n",
              "          const docLink = document.createElement('div');\n",
              "          docLink.innerHTML = docLinkHtml;\n",
              "          element.appendChild(docLink);\n",
              "        }\n",
              "      </script>\n",
              "    </div>\n",
              "  </div>\n",
              "  "
            ]
          },
          "metadata": {},
          "execution_count": 31
        }
      ],
      "source": [
        "df[df['oldbalanceDest'].isnull()]"
      ]
    },
    {
      "cell_type": "markdown",
      "id": "24d3cc3d",
      "metadata": {
        "id": "24d3cc3d"
      },
      "source": [
        "These are the 1st two rows in the dataset, and couldn't be interpolated. So let's assign oldbalanceDest for these to zero."
      ]
    },
    {
      "cell_type": "code",
      "execution_count": 32,
      "id": "aac2387b",
      "metadata": {
        "id": "aac2387b"
      },
      "outputs": [],
      "source": [
        "df.loc[df['oldbalanceDest'].isnull(), 'oldbalanceDest'] = 0"
      ]
    },
    {
      "cell_type": "code",
      "execution_count": 33,
      "id": "df1d3c1c",
      "metadata": {
        "colab": {
          "base_uri": "https://localhost:8080/"
        },
        "id": "df1d3c1c",
        "outputId": "9cbecb27-e384-4fe1-efbf-3647f4b011b2"
      },
      "outputs": [
        {
          "output_type": "execute_result",
          "data": {
            "text/plain": [
              "False"
            ]
          },
          "metadata": {},
          "execution_count": 33
        }
      ],
      "source": [
        "df.isnull().values.any()"
      ]
    },
    {
      "cell_type": "markdown",
      "id": "4fec1627",
      "metadata": {
        "id": "4fec1627"
      },
      "source": [
        "Now, we have fixed missing data in oldbalanceDest column. <br>\n",
        "Let's try to find payments that doesn't involve merchants to infer update criteria for newbalanceDest."
      ]
    },
    {
      "cell_type": "code",
      "execution_count": 34,
      "id": "368fe1e6",
      "metadata": {
        "colab": {
          "base_uri": "https://localhost:8080/",
          "height": 49
        },
        "id": "368fe1e6",
        "outputId": "726a6a34-6d1b-4615-c273-87ec1bef1d37"
      },
      "outputs": [
        {
          "output_type": "execute_result",
          "data": {
            "text/plain": [
              "Empty DataFrame\n",
              "Columns: [step, type, amount, nameOrig, oldbalanceOrg, newbalanceOrig, nameDest, oldbalanceDest, newbalanceDest, isFraud, isFlaggedFraud]\n",
              "Index: []"
            ],
            "text/html": [
              "\n",
              "  <div id=\"df-d747ea12-7a66-418b-8033-f64f120e9697\">\n",
              "    <div class=\"colab-df-container\">\n",
              "      <div>\n",
              "<style scoped>\n",
              "    .dataframe tbody tr th:only-of-type {\n",
              "        vertical-align: middle;\n",
              "    }\n",
              "\n",
              "    .dataframe tbody tr th {\n",
              "        vertical-align: top;\n",
              "    }\n",
              "\n",
              "    .dataframe thead th {\n",
              "        text-align: right;\n",
              "    }\n",
              "</style>\n",
              "<table border=\"1\" class=\"dataframe\">\n",
              "  <thead>\n",
              "    <tr style=\"text-align: right;\">\n",
              "      <th></th>\n",
              "      <th>step</th>\n",
              "      <th>type</th>\n",
              "      <th>amount</th>\n",
              "      <th>nameOrig</th>\n",
              "      <th>oldbalanceOrg</th>\n",
              "      <th>newbalanceOrig</th>\n",
              "      <th>nameDest</th>\n",
              "      <th>oldbalanceDest</th>\n",
              "      <th>newbalanceDest</th>\n",
              "      <th>isFraud</th>\n",
              "      <th>isFlaggedFraud</th>\n",
              "    </tr>\n",
              "  </thead>\n",
              "  <tbody>\n",
              "  </tbody>\n",
              "</table>\n",
              "</div>\n",
              "      <button class=\"colab-df-convert\" onclick=\"convertToInteractive('df-d747ea12-7a66-418b-8033-f64f120e9697')\"\n",
              "              title=\"Convert this dataframe to an interactive table.\"\n",
              "              style=\"display:none;\">\n",
              "        \n",
              "  <svg xmlns=\"http://www.w3.org/2000/svg\" height=\"24px\"viewBox=\"0 0 24 24\"\n",
              "       width=\"24px\">\n",
              "    <path d=\"M0 0h24v24H0V0z\" fill=\"none\"/>\n",
              "    <path d=\"M18.56 5.44l.94 2.06.94-2.06 2.06-.94-2.06-.94-.94-2.06-.94 2.06-2.06.94zm-11 1L8.5 8.5l.94-2.06 2.06-.94-2.06-.94L8.5 2.5l-.94 2.06-2.06.94zm10 10l.94 2.06.94-2.06 2.06-.94-2.06-.94-.94-2.06-.94 2.06-2.06.94z\"/><path d=\"M17.41 7.96l-1.37-1.37c-.4-.4-.92-.59-1.43-.59-.52 0-1.04.2-1.43.59L10.3 9.45l-7.72 7.72c-.78.78-.78 2.05 0 2.83L4 21.41c.39.39.9.59 1.41.59.51 0 1.02-.2 1.41-.59l7.78-7.78 2.81-2.81c.8-.78.8-2.07 0-2.86zM5.41 20L4 18.59l7.72-7.72 1.47 1.35L5.41 20z\"/>\n",
              "  </svg>\n",
              "      </button>\n",
              "      \n",
              "  <style>\n",
              "    .colab-df-container {\n",
              "      display:flex;\n",
              "      flex-wrap:wrap;\n",
              "      gap: 12px;\n",
              "    }\n",
              "\n",
              "    .colab-df-convert {\n",
              "      background-color: #E8F0FE;\n",
              "      border: none;\n",
              "      border-radius: 50%;\n",
              "      cursor: pointer;\n",
              "      display: none;\n",
              "      fill: #1967D2;\n",
              "      height: 32px;\n",
              "      padding: 0 0 0 0;\n",
              "      width: 32px;\n",
              "    }\n",
              "\n",
              "    .colab-df-convert:hover {\n",
              "      background-color: #E2EBFA;\n",
              "      box-shadow: 0px 1px 2px rgba(60, 64, 67, 0.3), 0px 1px 3px 1px rgba(60, 64, 67, 0.15);\n",
              "      fill: #174EA6;\n",
              "    }\n",
              "\n",
              "    [theme=dark] .colab-df-convert {\n",
              "      background-color: #3B4455;\n",
              "      fill: #D2E3FC;\n",
              "    }\n",
              "\n",
              "    [theme=dark] .colab-df-convert:hover {\n",
              "      background-color: #434B5C;\n",
              "      box-shadow: 0px 1px 3px 1px rgba(0, 0, 0, 0.15);\n",
              "      filter: drop-shadow(0px 1px 2px rgba(0, 0, 0, 0.3));\n",
              "      fill: #FFFFFF;\n",
              "    }\n",
              "  </style>\n",
              "\n",
              "      <script>\n",
              "        const buttonEl =\n",
              "          document.querySelector('#df-d747ea12-7a66-418b-8033-f64f120e9697 button.colab-df-convert');\n",
              "        buttonEl.style.display =\n",
              "          google.colab.kernel.accessAllowed ? 'block' : 'none';\n",
              "\n",
              "        async function convertToInteractive(key) {\n",
              "          const element = document.querySelector('#df-d747ea12-7a66-418b-8033-f64f120e9697');\n",
              "          const dataTable =\n",
              "            await google.colab.kernel.invokeFunction('convertToInteractive',\n",
              "                                                     [key], {});\n",
              "          if (!dataTable) return;\n",
              "\n",
              "          const docLinkHtml = 'Like what you see? Visit the ' +\n",
              "            '<a target=\"_blank\" href=https://colab.research.google.com/notebooks/data_table.ipynb>data table notebook</a>'\n",
              "            + ' to learn more about interactive tables.';\n",
              "          element.innerHTML = '';\n",
              "          dataTable['output_type'] = 'display_data';\n",
              "          await google.colab.output.renderOutput(dataTable, element);\n",
              "          const docLink = document.createElement('div');\n",
              "          docLink.innerHTML = docLinkHtml;\n",
              "          element.appendChild(docLink);\n",
              "        }\n",
              "      </script>\n",
              "    </div>\n",
              "  </div>\n",
              "  "
            ]
          },
          "metadata": {},
          "execution_count": 34
        }
      ],
      "source": [
        "df[(df['type']=='PAYMENT') & (df.nameDest.str.get(0) != 'M')]"
      ]
    },
    {
      "cell_type": "markdown",
      "id": "fe689fff",
      "metadata": {
        "id": "fe689fff"
      },
      "source": [
        "$\\implies$ There are no payments that doesn't involve Merchants. <br>\n",
        "So, let's use a general update criteria for updating newbalanceDest.\n",
        "$$\\text{newbalanceDest} = \\text{oldbalanceDest} + \\text{amount}$$"
      ]
    },
    {
      "cell_type": "code",
      "execution_count": 35,
      "id": "cce3e334",
      "metadata": {
        "id": "cce3e334"
      },
      "outputs": [],
      "source": [
        "newbalanceDest = df.loc[df.nameDest.str.get(0) == 'M', 'oldbalanceDest'] + df.loc[df.nameDest.str.get(0) == 'M','amount']"
      ]
    },
    {
      "cell_type": "code",
      "execution_count": 36,
      "id": "4043f5a6",
      "metadata": {
        "id": "4043f5a6"
      },
      "outputs": [],
      "source": [
        "df.loc[df['nameDest'].str.get(0) == 'M', ['newbalanceDest']] = newbalanceDest"
      ]
    },
    {
      "cell_type": "markdown",
      "id": "e3ba1ef9",
      "metadata": {
        "id": "e3ba1ef9"
      },
      "source": [
        "Let's see if we need to update isFraud column. <br>\n",
        "(No need of updating isFlaggedFraud column since only TRANSFERs are flagged fraud.)"
      ]
    },
    {
      "cell_type": "code",
      "execution_count": 37,
      "id": "1a3b59b6",
      "metadata": {
        "colab": {
          "base_uri": "https://localhost:8080/"
        },
        "id": "1a3b59b6",
        "outputId": "a989623d-ffb3-4e37-bd69-93ab66a7fd65"
      },
      "outputs": [
        {
          "output_type": "execute_result",
          "data": {
            "text/plain": [
              "0"
            ]
          },
          "metadata": {},
          "execution_count": 37
        }
      ],
      "source": [
        "len(df[(df['nameDest'].str.get(0) == 'M') & (df['amount'] == df['oldbalanceOrg'])])"
      ]
    },
    {
      "cell_type": "markdown",
      "id": "37afe591",
      "metadata": {
        "id": "37afe591"
      },
      "source": [
        "$\\implies$ No transactions to merchants try to empty funds in Original account. <br>\n",
        "$\\therefore$ None of them need to be marked as isFraud. <br>\n",
        "So we have fixed all missing data.\n",
        "\n",
        "However, this means fixing missing data did not contribute to the classification goal. Still, only transaction types CASH_OUT and TRANSFER contribute to Fraud classification.\n",
        "\n",
        "So, it may be safe to ignore other transaction types. <br>\n",
        "(Try two models - one that ignores other transaction types and one that doesn't ignore other transaction types.)"
      ]
    },
    {
      "cell_type": "code",
      "execution_count": 38,
      "id": "4fb73334",
      "metadata": {
        "colab": {
          "base_uri": "https://localhost:8080/",
          "height": 300
        },
        "id": "4fb73334",
        "outputId": "87e47ace-42ee-458c-84b4-cc99c62a0e6c"
      },
      "outputs": [
        {
          "output_type": "execute_result",
          "data": {
            "text/plain": [
              "               step        amount  oldbalanceOrg  newbalanceOrig  \\\n",
              "count  2.151495e+06  2.151495e+06   2.151495e+06    2.151495e+06   \n",
              "mean   2.443782e+02  1.305760e+04   6.821683e+04    6.183789e+04   \n",
              "std    1.426951e+02  1.255645e+04   1.989911e+05    1.969915e+05   \n",
              "min    1.000000e+00  2.000000e-02   0.000000e+00    0.000000e+00   \n",
              "25%    1.560000e+02  4.383820e+03   0.000000e+00    0.000000e+00   \n",
              "50%    2.490000e+02  9.482190e+03   1.053000e+04    0.000000e+00   \n",
              "75%    3.350000e+02  1.756122e+04   6.088300e+04    4.965413e+04   \n",
              "max    7.180000e+02  2.386380e+05   4.368662e+07    4.367380e+07   \n",
              "\n",
              "       oldbalanceDest  newbalanceDest    isFraud  isFlaggedFraud  \n",
              "count    2.151495e+06    2.151495e+06  2151495.0       2151495.0  \n",
              "mean     1.161337e+06    1.174395e+06        0.0             0.0  \n",
              "std      2.614824e+06    2.614912e+06        0.0             0.0  \n",
              "min      0.000000e+00    2.000000e-02        0.0             0.0  \n",
              "25%      1.105357e+05    1.240366e+05        0.0             0.0  \n",
              "50%      4.304567e+05    4.436661e+05        0.0             0.0  \n",
              "75%      1.266756e+06    1.279647e+06        0.0             0.0  \n",
              "max      3.368401e+08    3.368669e+08        0.0             0.0  "
            ],
            "text/html": [
              "\n",
              "  <div id=\"df-8154da6d-fb46-4559-b14d-cf7cecce225f\">\n",
              "    <div class=\"colab-df-container\">\n",
              "      <div>\n",
              "<style scoped>\n",
              "    .dataframe tbody tr th:only-of-type {\n",
              "        vertical-align: middle;\n",
              "    }\n",
              "\n",
              "    .dataframe tbody tr th {\n",
              "        vertical-align: top;\n",
              "    }\n",
              "\n",
              "    .dataframe thead th {\n",
              "        text-align: right;\n",
              "    }\n",
              "</style>\n",
              "<table border=\"1\" class=\"dataframe\">\n",
              "  <thead>\n",
              "    <tr style=\"text-align: right;\">\n",
              "      <th></th>\n",
              "      <th>step</th>\n",
              "      <th>amount</th>\n",
              "      <th>oldbalanceOrg</th>\n",
              "      <th>newbalanceOrig</th>\n",
              "      <th>oldbalanceDest</th>\n",
              "      <th>newbalanceDest</th>\n",
              "      <th>isFraud</th>\n",
              "      <th>isFlaggedFraud</th>\n",
              "    </tr>\n",
              "  </thead>\n",
              "  <tbody>\n",
              "    <tr>\n",
              "      <th>count</th>\n",
              "      <td>2.151495e+06</td>\n",
              "      <td>2.151495e+06</td>\n",
              "      <td>2.151495e+06</td>\n",
              "      <td>2.151495e+06</td>\n",
              "      <td>2.151495e+06</td>\n",
              "      <td>2.151495e+06</td>\n",
              "      <td>2151495.0</td>\n",
              "      <td>2151495.0</td>\n",
              "    </tr>\n",
              "    <tr>\n",
              "      <th>mean</th>\n",
              "      <td>2.443782e+02</td>\n",
              "      <td>1.305760e+04</td>\n",
              "      <td>6.821683e+04</td>\n",
              "      <td>6.183789e+04</td>\n",
              "      <td>1.161337e+06</td>\n",
              "      <td>1.174395e+06</td>\n",
              "      <td>0.0</td>\n",
              "      <td>0.0</td>\n",
              "    </tr>\n",
              "    <tr>\n",
              "      <th>std</th>\n",
              "      <td>1.426951e+02</td>\n",
              "      <td>1.255645e+04</td>\n",
              "      <td>1.989911e+05</td>\n",
              "      <td>1.969915e+05</td>\n",
              "      <td>2.614824e+06</td>\n",
              "      <td>2.614912e+06</td>\n",
              "      <td>0.0</td>\n",
              "      <td>0.0</td>\n",
              "    </tr>\n",
              "    <tr>\n",
              "      <th>min</th>\n",
              "      <td>1.000000e+00</td>\n",
              "      <td>2.000000e-02</td>\n",
              "      <td>0.000000e+00</td>\n",
              "      <td>0.000000e+00</td>\n",
              "      <td>0.000000e+00</td>\n",
              "      <td>2.000000e-02</td>\n",
              "      <td>0.0</td>\n",
              "      <td>0.0</td>\n",
              "    </tr>\n",
              "    <tr>\n",
              "      <th>25%</th>\n",
              "      <td>1.560000e+02</td>\n",
              "      <td>4.383820e+03</td>\n",
              "      <td>0.000000e+00</td>\n",
              "      <td>0.000000e+00</td>\n",
              "      <td>1.105357e+05</td>\n",
              "      <td>1.240366e+05</td>\n",
              "      <td>0.0</td>\n",
              "      <td>0.0</td>\n",
              "    </tr>\n",
              "    <tr>\n",
              "      <th>50%</th>\n",
              "      <td>2.490000e+02</td>\n",
              "      <td>9.482190e+03</td>\n",
              "      <td>1.053000e+04</td>\n",
              "      <td>0.000000e+00</td>\n",
              "      <td>4.304567e+05</td>\n",
              "      <td>4.436661e+05</td>\n",
              "      <td>0.0</td>\n",
              "      <td>0.0</td>\n",
              "    </tr>\n",
              "    <tr>\n",
              "      <th>75%</th>\n",
              "      <td>3.350000e+02</td>\n",
              "      <td>1.756122e+04</td>\n",
              "      <td>6.088300e+04</td>\n",
              "      <td>4.965413e+04</td>\n",
              "      <td>1.266756e+06</td>\n",
              "      <td>1.279647e+06</td>\n",
              "      <td>0.0</td>\n",
              "      <td>0.0</td>\n",
              "    </tr>\n",
              "    <tr>\n",
              "      <th>max</th>\n",
              "      <td>7.180000e+02</td>\n",
              "      <td>2.386380e+05</td>\n",
              "      <td>4.368662e+07</td>\n",
              "      <td>4.367380e+07</td>\n",
              "      <td>3.368401e+08</td>\n",
              "      <td>3.368669e+08</td>\n",
              "      <td>0.0</td>\n",
              "      <td>0.0</td>\n",
              "    </tr>\n",
              "  </tbody>\n",
              "</table>\n",
              "</div>\n",
              "      <button class=\"colab-df-convert\" onclick=\"convertToInteractive('df-8154da6d-fb46-4559-b14d-cf7cecce225f')\"\n",
              "              title=\"Convert this dataframe to an interactive table.\"\n",
              "              style=\"display:none;\">\n",
              "        \n",
              "  <svg xmlns=\"http://www.w3.org/2000/svg\" height=\"24px\"viewBox=\"0 0 24 24\"\n",
              "       width=\"24px\">\n",
              "    <path d=\"M0 0h24v24H0V0z\" fill=\"none\"/>\n",
              "    <path d=\"M18.56 5.44l.94 2.06.94-2.06 2.06-.94-2.06-.94-.94-2.06-.94 2.06-2.06.94zm-11 1L8.5 8.5l.94-2.06 2.06-.94-2.06-.94L8.5 2.5l-.94 2.06-2.06.94zm10 10l.94 2.06.94-2.06 2.06-.94-2.06-.94-.94-2.06-.94 2.06-2.06.94z\"/><path d=\"M17.41 7.96l-1.37-1.37c-.4-.4-.92-.59-1.43-.59-.52 0-1.04.2-1.43.59L10.3 9.45l-7.72 7.72c-.78.78-.78 2.05 0 2.83L4 21.41c.39.39.9.59 1.41.59.51 0 1.02-.2 1.41-.59l7.78-7.78 2.81-2.81c.8-.78.8-2.07 0-2.86zM5.41 20L4 18.59l7.72-7.72 1.47 1.35L5.41 20z\"/>\n",
              "  </svg>\n",
              "      </button>\n",
              "      \n",
              "  <style>\n",
              "    .colab-df-container {\n",
              "      display:flex;\n",
              "      flex-wrap:wrap;\n",
              "      gap: 12px;\n",
              "    }\n",
              "\n",
              "    .colab-df-convert {\n",
              "      background-color: #E8F0FE;\n",
              "      border: none;\n",
              "      border-radius: 50%;\n",
              "      cursor: pointer;\n",
              "      display: none;\n",
              "      fill: #1967D2;\n",
              "      height: 32px;\n",
              "      padding: 0 0 0 0;\n",
              "      width: 32px;\n",
              "    }\n",
              "\n",
              "    .colab-df-convert:hover {\n",
              "      background-color: #E2EBFA;\n",
              "      box-shadow: 0px 1px 2px rgba(60, 64, 67, 0.3), 0px 1px 3px 1px rgba(60, 64, 67, 0.15);\n",
              "      fill: #174EA6;\n",
              "    }\n",
              "\n",
              "    [theme=dark] .colab-df-convert {\n",
              "      background-color: #3B4455;\n",
              "      fill: #D2E3FC;\n",
              "    }\n",
              "\n",
              "    [theme=dark] .colab-df-convert:hover {\n",
              "      background-color: #434B5C;\n",
              "      box-shadow: 0px 1px 3px 1px rgba(0, 0, 0, 0.15);\n",
              "      filter: drop-shadow(0px 1px 2px rgba(0, 0, 0, 0.3));\n",
              "      fill: #FFFFFF;\n",
              "    }\n",
              "  </style>\n",
              "\n",
              "      <script>\n",
              "        const buttonEl =\n",
              "          document.querySelector('#df-8154da6d-fb46-4559-b14d-cf7cecce225f button.colab-df-convert');\n",
              "        buttonEl.style.display =\n",
              "          google.colab.kernel.accessAllowed ? 'block' : 'none';\n",
              "\n",
              "        async function convertToInteractive(key) {\n",
              "          const element = document.querySelector('#df-8154da6d-fb46-4559-b14d-cf7cecce225f');\n",
              "          const dataTable =\n",
              "            await google.colab.kernel.invokeFunction('convertToInteractive',\n",
              "                                                     [key], {});\n",
              "          if (!dataTable) return;\n",
              "\n",
              "          const docLinkHtml = 'Like what you see? Visit the ' +\n",
              "            '<a target=\"_blank\" href=https://colab.research.google.com/notebooks/data_table.ipynb>data table notebook</a>'\n",
              "            + ' to learn more about interactive tables.';\n",
              "          element.innerHTML = '';\n",
              "          dataTable['output_type'] = 'display_data';\n",
              "          await google.colab.output.renderOutput(dataTable, element);\n",
              "          const docLink = document.createElement('div');\n",
              "          docLink.innerHTML = docLinkHtml;\n",
              "          element.appendChild(docLink);\n",
              "        }\n",
              "      </script>\n",
              "    </div>\n",
              "  </div>\n",
              "  "
            ]
          },
          "metadata": {},
          "execution_count": 38
        }
      ],
      "source": [
        "df[df['nameDest'].str.get(0) == 'M'].describe()"
      ]
    },
    {
      "cell_type": "markdown",
      "id": "982f4646",
      "metadata": {
        "id": "982f4646"
      },
      "source": [
        "The dataframe stats after fixing missing data."
      ]
    },
    {
      "cell_type": "code",
      "execution_count": 39,
      "id": "20e38e93",
      "metadata": {
        "colab": {
          "base_uri": "https://localhost:8080/",
          "height": 300
        },
        "id": "20e38e93",
        "outputId": "d372990e-90c3-4918-f850-81fc3303e432"
      },
      "outputs": [
        {
          "output_type": "execute_result",
          "data": {
            "text/plain": [
              "               step        amount  oldbalanceOrg  newbalanceOrig  \\\n",
              "count  6.362620e+06  6.362620e+06   6.362620e+06    6.362620e+06   \n",
              "mean   2.433972e+02  1.798619e+05   8.338831e+05    8.551137e+05   \n",
              "std    1.423320e+02  6.038582e+05   2.888243e+06    2.924049e+06   \n",
              "min    1.000000e+00  0.000000e+00   0.000000e+00    0.000000e+00   \n",
              "25%    1.560000e+02  1.338957e+04   0.000000e+00    0.000000e+00   \n",
              "50%    2.390000e+02  7.487194e+04   1.420800e+04    0.000000e+00   \n",
              "75%    3.350000e+02  2.087215e+05   1.073152e+05    1.442584e+05   \n",
              "max    7.430000e+02  9.244552e+07   5.958504e+07    4.958504e+07   \n",
              "\n",
              "       oldbalanceDest  newbalanceDest       isFraud  isFlaggedFraud  \n",
              "count    6.362620e+06    6.362620e+06  6.362620e+06    6.362620e+06  \n",
              "mean     1.493403e+06    1.622113e+06  1.290820e-03    2.514687e-06  \n",
              "std      3.647435e+06    3.891930e+06  3.590480e-02    1.585775e-03  \n",
              "min      0.000000e+00    0.000000e+00  0.000000e+00    0.000000e+00  \n",
              "25%      1.271562e+05    1.814925e+05  0.000000e+00    0.000000e+00  \n",
              "50%      5.065537e+05    5.929597e+05  0.000000e+00    0.000000e+00  \n",
              "75%      1.533432e+06    1.678439e+06  0.000000e+00    0.000000e+00  \n",
              "max      3.560159e+08    3.561793e+08  1.000000e+00    1.000000e+00  "
            ],
            "text/html": [
              "\n",
              "  <div id=\"df-e8de5831-c0c4-4bf8-a5e2-f6e982c92bc0\">\n",
              "    <div class=\"colab-df-container\">\n",
              "      <div>\n",
              "<style scoped>\n",
              "    .dataframe tbody tr th:only-of-type {\n",
              "        vertical-align: middle;\n",
              "    }\n",
              "\n",
              "    .dataframe tbody tr th {\n",
              "        vertical-align: top;\n",
              "    }\n",
              "\n",
              "    .dataframe thead th {\n",
              "        text-align: right;\n",
              "    }\n",
              "</style>\n",
              "<table border=\"1\" class=\"dataframe\">\n",
              "  <thead>\n",
              "    <tr style=\"text-align: right;\">\n",
              "      <th></th>\n",
              "      <th>step</th>\n",
              "      <th>amount</th>\n",
              "      <th>oldbalanceOrg</th>\n",
              "      <th>newbalanceOrig</th>\n",
              "      <th>oldbalanceDest</th>\n",
              "      <th>newbalanceDest</th>\n",
              "      <th>isFraud</th>\n",
              "      <th>isFlaggedFraud</th>\n",
              "    </tr>\n",
              "  </thead>\n",
              "  <tbody>\n",
              "    <tr>\n",
              "      <th>count</th>\n",
              "      <td>6.362620e+06</td>\n",
              "      <td>6.362620e+06</td>\n",
              "      <td>6.362620e+06</td>\n",
              "      <td>6.362620e+06</td>\n",
              "      <td>6.362620e+06</td>\n",
              "      <td>6.362620e+06</td>\n",
              "      <td>6.362620e+06</td>\n",
              "      <td>6.362620e+06</td>\n",
              "    </tr>\n",
              "    <tr>\n",
              "      <th>mean</th>\n",
              "      <td>2.433972e+02</td>\n",
              "      <td>1.798619e+05</td>\n",
              "      <td>8.338831e+05</td>\n",
              "      <td>8.551137e+05</td>\n",
              "      <td>1.493403e+06</td>\n",
              "      <td>1.622113e+06</td>\n",
              "      <td>1.290820e-03</td>\n",
              "      <td>2.514687e-06</td>\n",
              "    </tr>\n",
              "    <tr>\n",
              "      <th>std</th>\n",
              "      <td>1.423320e+02</td>\n",
              "      <td>6.038582e+05</td>\n",
              "      <td>2.888243e+06</td>\n",
              "      <td>2.924049e+06</td>\n",
              "      <td>3.647435e+06</td>\n",
              "      <td>3.891930e+06</td>\n",
              "      <td>3.590480e-02</td>\n",
              "      <td>1.585775e-03</td>\n",
              "    </tr>\n",
              "    <tr>\n",
              "      <th>min</th>\n",
              "      <td>1.000000e+00</td>\n",
              "      <td>0.000000e+00</td>\n",
              "      <td>0.000000e+00</td>\n",
              "      <td>0.000000e+00</td>\n",
              "      <td>0.000000e+00</td>\n",
              "      <td>0.000000e+00</td>\n",
              "      <td>0.000000e+00</td>\n",
              "      <td>0.000000e+00</td>\n",
              "    </tr>\n",
              "    <tr>\n",
              "      <th>25%</th>\n",
              "      <td>1.560000e+02</td>\n",
              "      <td>1.338957e+04</td>\n",
              "      <td>0.000000e+00</td>\n",
              "      <td>0.000000e+00</td>\n",
              "      <td>1.271562e+05</td>\n",
              "      <td>1.814925e+05</td>\n",
              "      <td>0.000000e+00</td>\n",
              "      <td>0.000000e+00</td>\n",
              "    </tr>\n",
              "    <tr>\n",
              "      <th>50%</th>\n",
              "      <td>2.390000e+02</td>\n",
              "      <td>7.487194e+04</td>\n",
              "      <td>1.420800e+04</td>\n",
              "      <td>0.000000e+00</td>\n",
              "      <td>5.065537e+05</td>\n",
              "      <td>5.929597e+05</td>\n",
              "      <td>0.000000e+00</td>\n",
              "      <td>0.000000e+00</td>\n",
              "    </tr>\n",
              "    <tr>\n",
              "      <th>75%</th>\n",
              "      <td>3.350000e+02</td>\n",
              "      <td>2.087215e+05</td>\n",
              "      <td>1.073152e+05</td>\n",
              "      <td>1.442584e+05</td>\n",
              "      <td>1.533432e+06</td>\n",
              "      <td>1.678439e+06</td>\n",
              "      <td>0.000000e+00</td>\n",
              "      <td>0.000000e+00</td>\n",
              "    </tr>\n",
              "    <tr>\n",
              "      <th>max</th>\n",
              "      <td>7.430000e+02</td>\n",
              "      <td>9.244552e+07</td>\n",
              "      <td>5.958504e+07</td>\n",
              "      <td>4.958504e+07</td>\n",
              "      <td>3.560159e+08</td>\n",
              "      <td>3.561793e+08</td>\n",
              "      <td>1.000000e+00</td>\n",
              "      <td>1.000000e+00</td>\n",
              "    </tr>\n",
              "  </tbody>\n",
              "</table>\n",
              "</div>\n",
              "      <button class=\"colab-df-convert\" onclick=\"convertToInteractive('df-e8de5831-c0c4-4bf8-a5e2-f6e982c92bc0')\"\n",
              "              title=\"Convert this dataframe to an interactive table.\"\n",
              "              style=\"display:none;\">\n",
              "        \n",
              "  <svg xmlns=\"http://www.w3.org/2000/svg\" height=\"24px\"viewBox=\"0 0 24 24\"\n",
              "       width=\"24px\">\n",
              "    <path d=\"M0 0h24v24H0V0z\" fill=\"none\"/>\n",
              "    <path d=\"M18.56 5.44l.94 2.06.94-2.06 2.06-.94-2.06-.94-.94-2.06-.94 2.06-2.06.94zm-11 1L8.5 8.5l.94-2.06 2.06-.94-2.06-.94L8.5 2.5l-.94 2.06-2.06.94zm10 10l.94 2.06.94-2.06 2.06-.94-2.06-.94-.94-2.06-.94 2.06-2.06.94z\"/><path d=\"M17.41 7.96l-1.37-1.37c-.4-.4-.92-.59-1.43-.59-.52 0-1.04.2-1.43.59L10.3 9.45l-7.72 7.72c-.78.78-.78 2.05 0 2.83L4 21.41c.39.39.9.59 1.41.59.51 0 1.02-.2 1.41-.59l7.78-7.78 2.81-2.81c.8-.78.8-2.07 0-2.86zM5.41 20L4 18.59l7.72-7.72 1.47 1.35L5.41 20z\"/>\n",
              "  </svg>\n",
              "      </button>\n",
              "      \n",
              "  <style>\n",
              "    .colab-df-container {\n",
              "      display:flex;\n",
              "      flex-wrap:wrap;\n",
              "      gap: 12px;\n",
              "    }\n",
              "\n",
              "    .colab-df-convert {\n",
              "      background-color: #E8F0FE;\n",
              "      border: none;\n",
              "      border-radius: 50%;\n",
              "      cursor: pointer;\n",
              "      display: none;\n",
              "      fill: #1967D2;\n",
              "      height: 32px;\n",
              "      padding: 0 0 0 0;\n",
              "      width: 32px;\n",
              "    }\n",
              "\n",
              "    .colab-df-convert:hover {\n",
              "      background-color: #E2EBFA;\n",
              "      box-shadow: 0px 1px 2px rgba(60, 64, 67, 0.3), 0px 1px 3px 1px rgba(60, 64, 67, 0.15);\n",
              "      fill: #174EA6;\n",
              "    }\n",
              "\n",
              "    [theme=dark] .colab-df-convert {\n",
              "      background-color: #3B4455;\n",
              "      fill: #D2E3FC;\n",
              "    }\n",
              "\n",
              "    [theme=dark] .colab-df-convert:hover {\n",
              "      background-color: #434B5C;\n",
              "      box-shadow: 0px 1px 3px 1px rgba(0, 0, 0, 0.15);\n",
              "      filter: drop-shadow(0px 1px 2px rgba(0, 0, 0, 0.3));\n",
              "      fill: #FFFFFF;\n",
              "    }\n",
              "  </style>\n",
              "\n",
              "      <script>\n",
              "        const buttonEl =\n",
              "          document.querySelector('#df-e8de5831-c0c4-4bf8-a5e2-f6e982c92bc0 button.colab-df-convert');\n",
              "        buttonEl.style.display =\n",
              "          google.colab.kernel.accessAllowed ? 'block' : 'none';\n",
              "\n",
              "        async function convertToInteractive(key) {\n",
              "          const element = document.querySelector('#df-e8de5831-c0c4-4bf8-a5e2-f6e982c92bc0');\n",
              "          const dataTable =\n",
              "            await google.colab.kernel.invokeFunction('convertToInteractive',\n",
              "                                                     [key], {});\n",
              "          if (!dataTable) return;\n",
              "\n",
              "          const docLinkHtml = 'Like what you see? Visit the ' +\n",
              "            '<a target=\"_blank\" href=https://colab.research.google.com/notebooks/data_table.ipynb>data table notebook</a>'\n",
              "            + ' to learn more about interactive tables.';\n",
              "          element.innerHTML = '';\n",
              "          dataTable['output_type'] = 'display_data';\n",
              "          await google.colab.output.renderOutput(dataTable, element);\n",
              "          const docLink = document.createElement('div');\n",
              "          docLink.innerHTML = docLinkHtml;\n",
              "          element.appendChild(docLink);\n",
              "        }\n",
              "      </script>\n",
              "    </div>\n",
              "  </div>\n",
              "  "
            ]
          },
          "metadata": {},
          "execution_count": 39
        }
      ],
      "source": [
        "df.describe()"
      ]
    },
    {
      "cell_type": "markdown",
      "id": "6613589f",
      "metadata": {
        "id": "6613589f"
      },
      "source": [
        "## Remove unwanted"
      ]
    },
    {
      "cell_type": "markdown",
      "id": "c9551ac6",
      "metadata": {
        "id": "c9551ac6"
      },
      "source": [
        "We do not need customer id to make predictions from the dataset. So let's drop columns nameOrig and nameDest."
      ]
    },
    {
      "cell_type": "code",
      "execution_count": 40,
      "id": "c02fe931",
      "metadata": {
        "id": "c02fe931"
      },
      "outputs": [],
      "source": [
        "df = df.drop(['nameOrig', 'nameDest'], axis=1)"
      ]
    },
    {
      "cell_type": "code",
      "execution_count": 41,
      "id": "ad00f9c3",
      "metadata": {
        "scrolled": true,
        "colab": {
          "base_uri": "https://localhost:8080/"
        },
        "id": "ad00f9c3",
        "outputId": "3ca2079e-3b92-4f7f-ef4c-e140af9a7724"
      },
      "outputs": [
        {
          "output_type": "stream",
          "name": "stdout",
          "text": [
            "<class 'pandas.core.frame.DataFrame'>\n",
            "RangeIndex: 6362620 entries, 0 to 6362619\n",
            "Data columns (total 9 columns):\n",
            " #   Column          Dtype  \n",
            "---  ------          -----  \n",
            " 0   step            int64  \n",
            " 1   type            object \n",
            " 2   amount          float64\n",
            " 3   oldbalanceOrg   float64\n",
            " 4   newbalanceOrig  float64\n",
            " 5   oldbalanceDest  float64\n",
            " 6   newbalanceDest  float64\n",
            " 7   isFraud         int64  \n",
            " 8   isFlaggedFraud  int64  \n",
            "dtypes: float64(5), int64(3), object(1)\n",
            "memory usage: 436.9+ MB\n"
          ]
        }
      ],
      "source": [
        "df.info()"
      ]
    },
    {
      "cell_type": "markdown",
      "id": "52a1ee72",
      "metadata": {
        "id": "52a1ee72"
      },
      "source": [
        "## Normalization"
      ]
    },
    {
      "cell_type": "code",
      "execution_count": 42,
      "id": "b83d561b",
      "metadata": {
        "colab": {
          "base_uri": "https://localhost:8080/",
          "height": 300
        },
        "id": "b83d561b",
        "outputId": "62efe7a1-aecc-4726-df4e-f8c3e8eb5c11"
      },
      "outputs": [
        {
          "output_type": "execute_result",
          "data": {
            "text/plain": [
              "               step        amount  oldbalanceOrg  newbalanceOrig  \\\n",
              "count  6.362620e+06  6.362620e+06   6.362620e+06    6.362620e+06   \n",
              "mean   2.433972e+02  1.798619e+05   8.338831e+05    8.551137e+05   \n",
              "std    1.423320e+02  6.038582e+05   2.888243e+06    2.924049e+06   \n",
              "min    1.000000e+00  0.000000e+00   0.000000e+00    0.000000e+00   \n",
              "25%    1.560000e+02  1.338957e+04   0.000000e+00    0.000000e+00   \n",
              "50%    2.390000e+02  7.487194e+04   1.420800e+04    0.000000e+00   \n",
              "75%    3.350000e+02  2.087215e+05   1.073152e+05    1.442584e+05   \n",
              "max    7.430000e+02  9.244552e+07   5.958504e+07    4.958504e+07   \n",
              "\n",
              "       oldbalanceDest  newbalanceDest       isFraud  isFlaggedFraud  \n",
              "count    6.362620e+06    6.362620e+06  6.362620e+06    6.362620e+06  \n",
              "mean     1.493403e+06    1.622113e+06  1.290820e-03    2.514687e-06  \n",
              "std      3.647435e+06    3.891930e+06  3.590480e-02    1.585775e-03  \n",
              "min      0.000000e+00    0.000000e+00  0.000000e+00    0.000000e+00  \n",
              "25%      1.271562e+05    1.814925e+05  0.000000e+00    0.000000e+00  \n",
              "50%      5.065537e+05    5.929597e+05  0.000000e+00    0.000000e+00  \n",
              "75%      1.533432e+06    1.678439e+06  0.000000e+00    0.000000e+00  \n",
              "max      3.560159e+08    3.561793e+08  1.000000e+00    1.000000e+00  "
            ],
            "text/html": [
              "\n",
              "  <div id=\"df-d27978ea-10e4-4c32-bf6d-cc50f80b3567\">\n",
              "    <div class=\"colab-df-container\">\n",
              "      <div>\n",
              "<style scoped>\n",
              "    .dataframe tbody tr th:only-of-type {\n",
              "        vertical-align: middle;\n",
              "    }\n",
              "\n",
              "    .dataframe tbody tr th {\n",
              "        vertical-align: top;\n",
              "    }\n",
              "\n",
              "    .dataframe thead th {\n",
              "        text-align: right;\n",
              "    }\n",
              "</style>\n",
              "<table border=\"1\" class=\"dataframe\">\n",
              "  <thead>\n",
              "    <tr style=\"text-align: right;\">\n",
              "      <th></th>\n",
              "      <th>step</th>\n",
              "      <th>amount</th>\n",
              "      <th>oldbalanceOrg</th>\n",
              "      <th>newbalanceOrig</th>\n",
              "      <th>oldbalanceDest</th>\n",
              "      <th>newbalanceDest</th>\n",
              "      <th>isFraud</th>\n",
              "      <th>isFlaggedFraud</th>\n",
              "    </tr>\n",
              "  </thead>\n",
              "  <tbody>\n",
              "    <tr>\n",
              "      <th>count</th>\n",
              "      <td>6.362620e+06</td>\n",
              "      <td>6.362620e+06</td>\n",
              "      <td>6.362620e+06</td>\n",
              "      <td>6.362620e+06</td>\n",
              "      <td>6.362620e+06</td>\n",
              "      <td>6.362620e+06</td>\n",
              "      <td>6.362620e+06</td>\n",
              "      <td>6.362620e+06</td>\n",
              "    </tr>\n",
              "    <tr>\n",
              "      <th>mean</th>\n",
              "      <td>2.433972e+02</td>\n",
              "      <td>1.798619e+05</td>\n",
              "      <td>8.338831e+05</td>\n",
              "      <td>8.551137e+05</td>\n",
              "      <td>1.493403e+06</td>\n",
              "      <td>1.622113e+06</td>\n",
              "      <td>1.290820e-03</td>\n",
              "      <td>2.514687e-06</td>\n",
              "    </tr>\n",
              "    <tr>\n",
              "      <th>std</th>\n",
              "      <td>1.423320e+02</td>\n",
              "      <td>6.038582e+05</td>\n",
              "      <td>2.888243e+06</td>\n",
              "      <td>2.924049e+06</td>\n",
              "      <td>3.647435e+06</td>\n",
              "      <td>3.891930e+06</td>\n",
              "      <td>3.590480e-02</td>\n",
              "      <td>1.585775e-03</td>\n",
              "    </tr>\n",
              "    <tr>\n",
              "      <th>min</th>\n",
              "      <td>1.000000e+00</td>\n",
              "      <td>0.000000e+00</td>\n",
              "      <td>0.000000e+00</td>\n",
              "      <td>0.000000e+00</td>\n",
              "      <td>0.000000e+00</td>\n",
              "      <td>0.000000e+00</td>\n",
              "      <td>0.000000e+00</td>\n",
              "      <td>0.000000e+00</td>\n",
              "    </tr>\n",
              "    <tr>\n",
              "      <th>25%</th>\n",
              "      <td>1.560000e+02</td>\n",
              "      <td>1.338957e+04</td>\n",
              "      <td>0.000000e+00</td>\n",
              "      <td>0.000000e+00</td>\n",
              "      <td>1.271562e+05</td>\n",
              "      <td>1.814925e+05</td>\n",
              "      <td>0.000000e+00</td>\n",
              "      <td>0.000000e+00</td>\n",
              "    </tr>\n",
              "    <tr>\n",
              "      <th>50%</th>\n",
              "      <td>2.390000e+02</td>\n",
              "      <td>7.487194e+04</td>\n",
              "      <td>1.420800e+04</td>\n",
              "      <td>0.000000e+00</td>\n",
              "      <td>5.065537e+05</td>\n",
              "      <td>5.929597e+05</td>\n",
              "      <td>0.000000e+00</td>\n",
              "      <td>0.000000e+00</td>\n",
              "    </tr>\n",
              "    <tr>\n",
              "      <th>75%</th>\n",
              "      <td>3.350000e+02</td>\n",
              "      <td>2.087215e+05</td>\n",
              "      <td>1.073152e+05</td>\n",
              "      <td>1.442584e+05</td>\n",
              "      <td>1.533432e+06</td>\n",
              "      <td>1.678439e+06</td>\n",
              "      <td>0.000000e+00</td>\n",
              "      <td>0.000000e+00</td>\n",
              "    </tr>\n",
              "    <tr>\n",
              "      <th>max</th>\n",
              "      <td>7.430000e+02</td>\n",
              "      <td>9.244552e+07</td>\n",
              "      <td>5.958504e+07</td>\n",
              "      <td>4.958504e+07</td>\n",
              "      <td>3.560159e+08</td>\n",
              "      <td>3.561793e+08</td>\n",
              "      <td>1.000000e+00</td>\n",
              "      <td>1.000000e+00</td>\n",
              "    </tr>\n",
              "  </tbody>\n",
              "</table>\n",
              "</div>\n",
              "      <button class=\"colab-df-convert\" onclick=\"convertToInteractive('df-d27978ea-10e4-4c32-bf6d-cc50f80b3567')\"\n",
              "              title=\"Convert this dataframe to an interactive table.\"\n",
              "              style=\"display:none;\">\n",
              "        \n",
              "  <svg xmlns=\"http://www.w3.org/2000/svg\" height=\"24px\"viewBox=\"0 0 24 24\"\n",
              "       width=\"24px\">\n",
              "    <path d=\"M0 0h24v24H0V0z\" fill=\"none\"/>\n",
              "    <path d=\"M18.56 5.44l.94 2.06.94-2.06 2.06-.94-2.06-.94-.94-2.06-.94 2.06-2.06.94zm-11 1L8.5 8.5l.94-2.06 2.06-.94-2.06-.94L8.5 2.5l-.94 2.06-2.06.94zm10 10l.94 2.06.94-2.06 2.06-.94-2.06-.94-.94-2.06-.94 2.06-2.06.94z\"/><path d=\"M17.41 7.96l-1.37-1.37c-.4-.4-.92-.59-1.43-.59-.52 0-1.04.2-1.43.59L10.3 9.45l-7.72 7.72c-.78.78-.78 2.05 0 2.83L4 21.41c.39.39.9.59 1.41.59.51 0 1.02-.2 1.41-.59l7.78-7.78 2.81-2.81c.8-.78.8-2.07 0-2.86zM5.41 20L4 18.59l7.72-7.72 1.47 1.35L5.41 20z\"/>\n",
              "  </svg>\n",
              "      </button>\n",
              "      \n",
              "  <style>\n",
              "    .colab-df-container {\n",
              "      display:flex;\n",
              "      flex-wrap:wrap;\n",
              "      gap: 12px;\n",
              "    }\n",
              "\n",
              "    .colab-df-convert {\n",
              "      background-color: #E8F0FE;\n",
              "      border: none;\n",
              "      border-radius: 50%;\n",
              "      cursor: pointer;\n",
              "      display: none;\n",
              "      fill: #1967D2;\n",
              "      height: 32px;\n",
              "      padding: 0 0 0 0;\n",
              "      width: 32px;\n",
              "    }\n",
              "\n",
              "    .colab-df-convert:hover {\n",
              "      background-color: #E2EBFA;\n",
              "      box-shadow: 0px 1px 2px rgba(60, 64, 67, 0.3), 0px 1px 3px 1px rgba(60, 64, 67, 0.15);\n",
              "      fill: #174EA6;\n",
              "    }\n",
              "\n",
              "    [theme=dark] .colab-df-convert {\n",
              "      background-color: #3B4455;\n",
              "      fill: #D2E3FC;\n",
              "    }\n",
              "\n",
              "    [theme=dark] .colab-df-convert:hover {\n",
              "      background-color: #434B5C;\n",
              "      box-shadow: 0px 1px 3px 1px rgba(0, 0, 0, 0.15);\n",
              "      filter: drop-shadow(0px 1px 2px rgba(0, 0, 0, 0.3));\n",
              "      fill: #FFFFFF;\n",
              "    }\n",
              "  </style>\n",
              "\n",
              "      <script>\n",
              "        const buttonEl =\n",
              "          document.querySelector('#df-d27978ea-10e4-4c32-bf6d-cc50f80b3567 button.colab-df-convert');\n",
              "        buttonEl.style.display =\n",
              "          google.colab.kernel.accessAllowed ? 'block' : 'none';\n",
              "\n",
              "        async function convertToInteractive(key) {\n",
              "          const element = document.querySelector('#df-d27978ea-10e4-4c32-bf6d-cc50f80b3567');\n",
              "          const dataTable =\n",
              "            await google.colab.kernel.invokeFunction('convertToInteractive',\n",
              "                                                     [key], {});\n",
              "          if (!dataTable) return;\n",
              "\n",
              "          const docLinkHtml = 'Like what you see? Visit the ' +\n",
              "            '<a target=\"_blank\" href=https://colab.research.google.com/notebooks/data_table.ipynb>data table notebook</a>'\n",
              "            + ' to learn more about interactive tables.';\n",
              "          element.innerHTML = '';\n",
              "          dataTable['output_type'] = 'display_data';\n",
              "          await google.colab.output.renderOutput(dataTable, element);\n",
              "          const docLink = document.createElement('div');\n",
              "          docLink.innerHTML = docLinkHtml;\n",
              "          element.appendChild(docLink);\n",
              "        }\n",
              "      </script>\n",
              "    </div>\n",
              "  </div>\n",
              "  "
            ]
          },
          "metadata": {},
          "execution_count": 42
        }
      ],
      "source": [
        "df.describe()"
      ]
    },
    {
      "cell_type": "markdown",
      "id": "ecf07451",
      "metadata": {
        "id": "ecf07451"
      },
      "source": [
        "Values of columns step, amount, oldbalanceOrg, newbalanceOrig, oldbalanceDest, newbalanceDest vary by a very large scale. So we can apply mean normalization."
      ]
    },
    {
      "cell_type": "code",
      "execution_count": 43,
      "id": "d1598741",
      "metadata": {
        "id": "d1598741"
      },
      "outputs": [],
      "source": [
        "cols = ['amount', 'oldbalanceOrg', 'newbalanceOrig', 'oldbalanceDest', 'newbalanceDest']\n",
        "df['step'] = df['step'] - df['step'].mean() / (df['step'].std())\n",
        "df[cols] = df[cols].apply(lambda x: (np.log(x+10)))"
      ]
    },
    {
      "cell_type": "code",
      "execution_count": 44,
      "id": "d701af87",
      "metadata": {
        "colab": {
          "base_uri": "https://localhost:8080/",
          "height": 206
        },
        "id": "d701af87",
        "outputId": "a98c0998-0f96-4b92-bf78-d745542fd4d6"
      },
      "outputs": [
        {
          "output_type": "execute_result",
          "data": {
            "text/plain": [
              "       step      type    amount  oldbalanceOrg  newbalanceOrig  \\\n",
              "0 -0.710067   PAYMENT  9.195190      12.044412       11.984842   \n",
              "1 -0.710067   PAYMENT  7.535980       9.964536        9.872756   \n",
              "2 -0.710067  TRANSFER  5.252273       5.252273        2.302585   \n",
              "3 -0.710067  CASH_OUT  5.252273       5.252273        2.302585   \n",
              "4 -0.710067   PAYMENT  9.365474      10.634990       10.305475   \n",
              "\n",
              "   oldbalanceDest  newbalanceDest  isFraud  isFlaggedFraud  \n",
              "0        2.302585        9.195190        0               0  \n",
              "1        2.302585        7.535980        0               0  \n",
              "2        2.302585        2.302585        1               0  \n",
              "3        9.961379        2.302585        1               0  \n",
              "4       10.112316       10.499926        0               0  "
            ],
            "text/html": [
              "\n",
              "  <div id=\"df-1a141e2f-07d2-40b8-9c21-19d0d7bf78fc\">\n",
              "    <div class=\"colab-df-container\">\n",
              "      <div>\n",
              "<style scoped>\n",
              "    .dataframe tbody tr th:only-of-type {\n",
              "        vertical-align: middle;\n",
              "    }\n",
              "\n",
              "    .dataframe tbody tr th {\n",
              "        vertical-align: top;\n",
              "    }\n",
              "\n",
              "    .dataframe thead th {\n",
              "        text-align: right;\n",
              "    }\n",
              "</style>\n",
              "<table border=\"1\" class=\"dataframe\">\n",
              "  <thead>\n",
              "    <tr style=\"text-align: right;\">\n",
              "      <th></th>\n",
              "      <th>step</th>\n",
              "      <th>type</th>\n",
              "      <th>amount</th>\n",
              "      <th>oldbalanceOrg</th>\n",
              "      <th>newbalanceOrig</th>\n",
              "      <th>oldbalanceDest</th>\n",
              "      <th>newbalanceDest</th>\n",
              "      <th>isFraud</th>\n",
              "      <th>isFlaggedFraud</th>\n",
              "    </tr>\n",
              "  </thead>\n",
              "  <tbody>\n",
              "    <tr>\n",
              "      <th>0</th>\n",
              "      <td>-0.710067</td>\n",
              "      <td>PAYMENT</td>\n",
              "      <td>9.195190</td>\n",
              "      <td>12.044412</td>\n",
              "      <td>11.984842</td>\n",
              "      <td>2.302585</td>\n",
              "      <td>9.195190</td>\n",
              "      <td>0</td>\n",
              "      <td>0</td>\n",
              "    </tr>\n",
              "    <tr>\n",
              "      <th>1</th>\n",
              "      <td>-0.710067</td>\n",
              "      <td>PAYMENT</td>\n",
              "      <td>7.535980</td>\n",
              "      <td>9.964536</td>\n",
              "      <td>9.872756</td>\n",
              "      <td>2.302585</td>\n",
              "      <td>7.535980</td>\n",
              "      <td>0</td>\n",
              "      <td>0</td>\n",
              "    </tr>\n",
              "    <tr>\n",
              "      <th>2</th>\n",
              "      <td>-0.710067</td>\n",
              "      <td>TRANSFER</td>\n",
              "      <td>5.252273</td>\n",
              "      <td>5.252273</td>\n",
              "      <td>2.302585</td>\n",
              "      <td>2.302585</td>\n",
              "      <td>2.302585</td>\n",
              "      <td>1</td>\n",
              "      <td>0</td>\n",
              "    </tr>\n",
              "    <tr>\n",
              "      <th>3</th>\n",
              "      <td>-0.710067</td>\n",
              "      <td>CASH_OUT</td>\n",
              "      <td>5.252273</td>\n",
              "      <td>5.252273</td>\n",
              "      <td>2.302585</td>\n",
              "      <td>9.961379</td>\n",
              "      <td>2.302585</td>\n",
              "      <td>1</td>\n",
              "      <td>0</td>\n",
              "    </tr>\n",
              "    <tr>\n",
              "      <th>4</th>\n",
              "      <td>-0.710067</td>\n",
              "      <td>PAYMENT</td>\n",
              "      <td>9.365474</td>\n",
              "      <td>10.634990</td>\n",
              "      <td>10.305475</td>\n",
              "      <td>10.112316</td>\n",
              "      <td>10.499926</td>\n",
              "      <td>0</td>\n",
              "      <td>0</td>\n",
              "    </tr>\n",
              "  </tbody>\n",
              "</table>\n",
              "</div>\n",
              "      <button class=\"colab-df-convert\" onclick=\"convertToInteractive('df-1a141e2f-07d2-40b8-9c21-19d0d7bf78fc')\"\n",
              "              title=\"Convert this dataframe to an interactive table.\"\n",
              "              style=\"display:none;\">\n",
              "        \n",
              "  <svg xmlns=\"http://www.w3.org/2000/svg\" height=\"24px\"viewBox=\"0 0 24 24\"\n",
              "       width=\"24px\">\n",
              "    <path d=\"M0 0h24v24H0V0z\" fill=\"none\"/>\n",
              "    <path d=\"M18.56 5.44l.94 2.06.94-2.06 2.06-.94-2.06-.94-.94-2.06-.94 2.06-2.06.94zm-11 1L8.5 8.5l.94-2.06 2.06-.94-2.06-.94L8.5 2.5l-.94 2.06-2.06.94zm10 10l.94 2.06.94-2.06 2.06-.94-2.06-.94-.94-2.06-.94 2.06-2.06.94z\"/><path d=\"M17.41 7.96l-1.37-1.37c-.4-.4-.92-.59-1.43-.59-.52 0-1.04.2-1.43.59L10.3 9.45l-7.72 7.72c-.78.78-.78 2.05 0 2.83L4 21.41c.39.39.9.59 1.41.59.51 0 1.02-.2 1.41-.59l7.78-7.78 2.81-2.81c.8-.78.8-2.07 0-2.86zM5.41 20L4 18.59l7.72-7.72 1.47 1.35L5.41 20z\"/>\n",
              "  </svg>\n",
              "      </button>\n",
              "      \n",
              "  <style>\n",
              "    .colab-df-container {\n",
              "      display:flex;\n",
              "      flex-wrap:wrap;\n",
              "      gap: 12px;\n",
              "    }\n",
              "\n",
              "    .colab-df-convert {\n",
              "      background-color: #E8F0FE;\n",
              "      border: none;\n",
              "      border-radius: 50%;\n",
              "      cursor: pointer;\n",
              "      display: none;\n",
              "      fill: #1967D2;\n",
              "      height: 32px;\n",
              "      padding: 0 0 0 0;\n",
              "      width: 32px;\n",
              "    }\n",
              "\n",
              "    .colab-df-convert:hover {\n",
              "      background-color: #E2EBFA;\n",
              "      box-shadow: 0px 1px 2px rgba(60, 64, 67, 0.3), 0px 1px 3px 1px rgba(60, 64, 67, 0.15);\n",
              "      fill: #174EA6;\n",
              "    }\n",
              "\n",
              "    [theme=dark] .colab-df-convert {\n",
              "      background-color: #3B4455;\n",
              "      fill: #D2E3FC;\n",
              "    }\n",
              "\n",
              "    [theme=dark] .colab-df-convert:hover {\n",
              "      background-color: #434B5C;\n",
              "      box-shadow: 0px 1px 3px 1px rgba(0, 0, 0, 0.15);\n",
              "      filter: drop-shadow(0px 1px 2px rgba(0, 0, 0, 0.3));\n",
              "      fill: #FFFFFF;\n",
              "    }\n",
              "  </style>\n",
              "\n",
              "      <script>\n",
              "        const buttonEl =\n",
              "          document.querySelector('#df-1a141e2f-07d2-40b8-9c21-19d0d7bf78fc button.colab-df-convert');\n",
              "        buttonEl.style.display =\n",
              "          google.colab.kernel.accessAllowed ? 'block' : 'none';\n",
              "\n",
              "        async function convertToInteractive(key) {\n",
              "          const element = document.querySelector('#df-1a141e2f-07d2-40b8-9c21-19d0d7bf78fc');\n",
              "          const dataTable =\n",
              "            await google.colab.kernel.invokeFunction('convertToInteractive',\n",
              "                                                     [key], {});\n",
              "          if (!dataTable) return;\n",
              "\n",
              "          const docLinkHtml = 'Like what you see? Visit the ' +\n",
              "            '<a target=\"_blank\" href=https://colab.research.google.com/notebooks/data_table.ipynb>data table notebook</a>'\n",
              "            + ' to learn more about interactive tables.';\n",
              "          element.innerHTML = '';\n",
              "          dataTable['output_type'] = 'display_data';\n",
              "          await google.colab.output.renderOutput(dataTable, element);\n",
              "          const docLink = document.createElement('div');\n",
              "          docLink.innerHTML = docLinkHtml;\n",
              "          element.appendChild(docLink);\n",
              "        }\n",
              "      </script>\n",
              "    </div>\n",
              "  </div>\n",
              "  "
            ]
          },
          "metadata": {},
          "execution_count": 44
        }
      ],
      "source": [
        "df.head()"
      ]
    },
    {
      "cell_type": "code",
      "execution_count": 45,
      "id": "5ded8d19",
      "metadata": {
        "colab": {
          "base_uri": "https://localhost:8080/",
          "height": 300
        },
        "id": "5ded8d19",
        "outputId": "d89c5db0-1868-44b9-cdf1-57daf64e8992"
      },
      "outputs": [
        {
          "output_type": "execute_result",
          "data": {
            "text/plain": [
              "               step        amount  oldbalanceOrg  newbalanceOrig  \\\n",
              "count  6.362620e+06  6.362620e+06   6.362620e+06    6.362620e+06   \n",
              "mean   2.416872e+02  1.084252e+01   8.178673e+00    6.672674e+00   \n",
              "std    1.423320e+02  1.809876e+00   4.691891e+00    5.229820e+00   \n",
              "min   -7.100673e-01  2.302585e+00   2.302585e+00    2.302585e+00   \n",
              "25%    1.542899e+02  9.502978e+00   2.302585e+00    2.302585e+00   \n",
              "50%    2.372899e+02  1.122367e+01   9.562264e+00    2.302585e+00   \n",
              "75%    3.332899e+02  1.224880e+01   1.158362e+01    1.187943e+01   \n",
              "max    7.412899e+02  1.834213e+01   1.790292e+01    1.771920e+01   \n",
              "\n",
              "       oldbalanceDest  newbalanceDest       isFraud  isFlaggedFraud  \n",
              "count    6.362620e+06    6.362620e+06  6.362620e+06    6.362620e+06  \n",
              "mean     1.205322e+01    1.275373e+01  1.290820e-03    2.514687e-06  \n",
              "std      3.762009e+00    2.795486e+00  3.590480e-02    1.585775e-03  \n",
              "min      2.302585e+00    2.302585e+00  0.000000e+00    0.000000e+00  \n",
              "25%      1.175325e+01    1.210902e+01  0.000000e+00    0.000000e+00  \n",
              "50%      1.313541e+01    1.329290e+01  0.000000e+00    0.000000e+00  \n",
              "75%      1.424303e+01    1.433338e+01  0.000000e+00    0.000000e+00  \n",
              "max      1.969049e+01    1.969094e+01  1.000000e+00    1.000000e+00  "
            ],
            "text/html": [
              "\n",
              "  <div id=\"df-d6050165-ab17-4082-9c61-6641aec3ac4f\">\n",
              "    <div class=\"colab-df-container\">\n",
              "      <div>\n",
              "<style scoped>\n",
              "    .dataframe tbody tr th:only-of-type {\n",
              "        vertical-align: middle;\n",
              "    }\n",
              "\n",
              "    .dataframe tbody tr th {\n",
              "        vertical-align: top;\n",
              "    }\n",
              "\n",
              "    .dataframe thead th {\n",
              "        text-align: right;\n",
              "    }\n",
              "</style>\n",
              "<table border=\"1\" class=\"dataframe\">\n",
              "  <thead>\n",
              "    <tr style=\"text-align: right;\">\n",
              "      <th></th>\n",
              "      <th>step</th>\n",
              "      <th>amount</th>\n",
              "      <th>oldbalanceOrg</th>\n",
              "      <th>newbalanceOrig</th>\n",
              "      <th>oldbalanceDest</th>\n",
              "      <th>newbalanceDest</th>\n",
              "      <th>isFraud</th>\n",
              "      <th>isFlaggedFraud</th>\n",
              "    </tr>\n",
              "  </thead>\n",
              "  <tbody>\n",
              "    <tr>\n",
              "      <th>count</th>\n",
              "      <td>6.362620e+06</td>\n",
              "      <td>6.362620e+06</td>\n",
              "      <td>6.362620e+06</td>\n",
              "      <td>6.362620e+06</td>\n",
              "      <td>6.362620e+06</td>\n",
              "      <td>6.362620e+06</td>\n",
              "      <td>6.362620e+06</td>\n",
              "      <td>6.362620e+06</td>\n",
              "    </tr>\n",
              "    <tr>\n",
              "      <th>mean</th>\n",
              "      <td>2.416872e+02</td>\n",
              "      <td>1.084252e+01</td>\n",
              "      <td>8.178673e+00</td>\n",
              "      <td>6.672674e+00</td>\n",
              "      <td>1.205322e+01</td>\n",
              "      <td>1.275373e+01</td>\n",
              "      <td>1.290820e-03</td>\n",
              "      <td>2.514687e-06</td>\n",
              "    </tr>\n",
              "    <tr>\n",
              "      <th>std</th>\n",
              "      <td>1.423320e+02</td>\n",
              "      <td>1.809876e+00</td>\n",
              "      <td>4.691891e+00</td>\n",
              "      <td>5.229820e+00</td>\n",
              "      <td>3.762009e+00</td>\n",
              "      <td>2.795486e+00</td>\n",
              "      <td>3.590480e-02</td>\n",
              "      <td>1.585775e-03</td>\n",
              "    </tr>\n",
              "    <tr>\n",
              "      <th>min</th>\n",
              "      <td>-7.100673e-01</td>\n",
              "      <td>2.302585e+00</td>\n",
              "      <td>2.302585e+00</td>\n",
              "      <td>2.302585e+00</td>\n",
              "      <td>2.302585e+00</td>\n",
              "      <td>2.302585e+00</td>\n",
              "      <td>0.000000e+00</td>\n",
              "      <td>0.000000e+00</td>\n",
              "    </tr>\n",
              "    <tr>\n",
              "      <th>25%</th>\n",
              "      <td>1.542899e+02</td>\n",
              "      <td>9.502978e+00</td>\n",
              "      <td>2.302585e+00</td>\n",
              "      <td>2.302585e+00</td>\n",
              "      <td>1.175325e+01</td>\n",
              "      <td>1.210902e+01</td>\n",
              "      <td>0.000000e+00</td>\n",
              "      <td>0.000000e+00</td>\n",
              "    </tr>\n",
              "    <tr>\n",
              "      <th>50%</th>\n",
              "      <td>2.372899e+02</td>\n",
              "      <td>1.122367e+01</td>\n",
              "      <td>9.562264e+00</td>\n",
              "      <td>2.302585e+00</td>\n",
              "      <td>1.313541e+01</td>\n",
              "      <td>1.329290e+01</td>\n",
              "      <td>0.000000e+00</td>\n",
              "      <td>0.000000e+00</td>\n",
              "    </tr>\n",
              "    <tr>\n",
              "      <th>75%</th>\n",
              "      <td>3.332899e+02</td>\n",
              "      <td>1.224880e+01</td>\n",
              "      <td>1.158362e+01</td>\n",
              "      <td>1.187943e+01</td>\n",
              "      <td>1.424303e+01</td>\n",
              "      <td>1.433338e+01</td>\n",
              "      <td>0.000000e+00</td>\n",
              "      <td>0.000000e+00</td>\n",
              "    </tr>\n",
              "    <tr>\n",
              "      <th>max</th>\n",
              "      <td>7.412899e+02</td>\n",
              "      <td>1.834213e+01</td>\n",
              "      <td>1.790292e+01</td>\n",
              "      <td>1.771920e+01</td>\n",
              "      <td>1.969049e+01</td>\n",
              "      <td>1.969094e+01</td>\n",
              "      <td>1.000000e+00</td>\n",
              "      <td>1.000000e+00</td>\n",
              "    </tr>\n",
              "  </tbody>\n",
              "</table>\n",
              "</div>\n",
              "      <button class=\"colab-df-convert\" onclick=\"convertToInteractive('df-d6050165-ab17-4082-9c61-6641aec3ac4f')\"\n",
              "              title=\"Convert this dataframe to an interactive table.\"\n",
              "              style=\"display:none;\">\n",
              "        \n",
              "  <svg xmlns=\"http://www.w3.org/2000/svg\" height=\"24px\"viewBox=\"0 0 24 24\"\n",
              "       width=\"24px\">\n",
              "    <path d=\"M0 0h24v24H0V0z\" fill=\"none\"/>\n",
              "    <path d=\"M18.56 5.44l.94 2.06.94-2.06 2.06-.94-2.06-.94-.94-2.06-.94 2.06-2.06.94zm-11 1L8.5 8.5l.94-2.06 2.06-.94-2.06-.94L8.5 2.5l-.94 2.06-2.06.94zm10 10l.94 2.06.94-2.06 2.06-.94-2.06-.94-.94-2.06-.94 2.06-2.06.94z\"/><path d=\"M17.41 7.96l-1.37-1.37c-.4-.4-.92-.59-1.43-.59-.52 0-1.04.2-1.43.59L10.3 9.45l-7.72 7.72c-.78.78-.78 2.05 0 2.83L4 21.41c.39.39.9.59 1.41.59.51 0 1.02-.2 1.41-.59l7.78-7.78 2.81-2.81c.8-.78.8-2.07 0-2.86zM5.41 20L4 18.59l7.72-7.72 1.47 1.35L5.41 20z\"/>\n",
              "  </svg>\n",
              "      </button>\n",
              "      \n",
              "  <style>\n",
              "    .colab-df-container {\n",
              "      display:flex;\n",
              "      flex-wrap:wrap;\n",
              "      gap: 12px;\n",
              "    }\n",
              "\n",
              "    .colab-df-convert {\n",
              "      background-color: #E8F0FE;\n",
              "      border: none;\n",
              "      border-radius: 50%;\n",
              "      cursor: pointer;\n",
              "      display: none;\n",
              "      fill: #1967D2;\n",
              "      height: 32px;\n",
              "      padding: 0 0 0 0;\n",
              "      width: 32px;\n",
              "    }\n",
              "\n",
              "    .colab-df-convert:hover {\n",
              "      background-color: #E2EBFA;\n",
              "      box-shadow: 0px 1px 2px rgba(60, 64, 67, 0.3), 0px 1px 3px 1px rgba(60, 64, 67, 0.15);\n",
              "      fill: #174EA6;\n",
              "    }\n",
              "\n",
              "    [theme=dark] .colab-df-convert {\n",
              "      background-color: #3B4455;\n",
              "      fill: #D2E3FC;\n",
              "    }\n",
              "\n",
              "    [theme=dark] .colab-df-convert:hover {\n",
              "      background-color: #434B5C;\n",
              "      box-shadow: 0px 1px 3px 1px rgba(0, 0, 0, 0.15);\n",
              "      filter: drop-shadow(0px 1px 2px rgba(0, 0, 0, 0.3));\n",
              "      fill: #FFFFFF;\n",
              "    }\n",
              "  </style>\n",
              "\n",
              "      <script>\n",
              "        const buttonEl =\n",
              "          document.querySelector('#df-d6050165-ab17-4082-9c61-6641aec3ac4f button.colab-df-convert');\n",
              "        buttonEl.style.display =\n",
              "          google.colab.kernel.accessAllowed ? 'block' : 'none';\n",
              "\n",
              "        async function convertToInteractive(key) {\n",
              "          const element = document.querySelector('#df-d6050165-ab17-4082-9c61-6641aec3ac4f');\n",
              "          const dataTable =\n",
              "            await google.colab.kernel.invokeFunction('convertToInteractive',\n",
              "                                                     [key], {});\n",
              "          if (!dataTable) return;\n",
              "\n",
              "          const docLinkHtml = 'Like what you see? Visit the ' +\n",
              "            '<a target=\"_blank\" href=https://colab.research.google.com/notebooks/data_table.ipynb>data table notebook</a>'\n",
              "            + ' to learn more about interactive tables.';\n",
              "          element.innerHTML = '';\n",
              "          dataTable['output_type'] = 'display_data';\n",
              "          await google.colab.output.renderOutput(dataTable, element);\n",
              "          const docLink = document.createElement('div');\n",
              "          docLink.innerHTML = docLinkHtml;\n",
              "          element.appendChild(docLink);\n",
              "        }\n",
              "      </script>\n",
              "    </div>\n",
              "  </div>\n",
              "  "
            ]
          },
          "metadata": {},
          "execution_count": 45
        }
      ],
      "source": [
        "df.describe()"
      ]
    },
    {
      "cell_type": "markdown",
      "id": "ac3dd51d",
      "metadata": {
        "id": "ac3dd51d"
      },
      "source": [
        "Let's make df2 that ignores transaction types other than transfers and cash outs."
      ]
    },
    {
      "cell_type": "code",
      "execution_count": 46,
      "id": "207092d1",
      "metadata": {
        "id": "207092d1"
      },
      "outputs": [],
      "source": [
        "df2 = df[(df['type'].isin(['CASH_OUT', 'TRANSFER']))].copy(deep=True)"
      ]
    },
    {
      "cell_type": "code",
      "execution_count": 47,
      "id": "549b142b",
      "metadata": {
        "colab": {
          "base_uri": "https://localhost:8080/"
        },
        "id": "549b142b",
        "outputId": "79bee74e-2dd9-4693-97a9-9d3107fbc44c"
      },
      "outputs": [
        {
          "output_type": "stream",
          "name": "stdout",
          "text": [
            "<class 'pandas.core.frame.DataFrame'>\n",
            "Int64Index: 2770409 entries, 2 to 6362619\n",
            "Data columns (total 9 columns):\n",
            " #   Column          Dtype  \n",
            "---  ------          -----  \n",
            " 0   step            float64\n",
            " 1   type            object \n",
            " 2   amount          float64\n",
            " 3   oldbalanceOrg   float64\n",
            " 4   newbalanceOrig  float64\n",
            " 5   oldbalanceDest  float64\n",
            " 6   newbalanceDest  float64\n",
            " 7   isFraud         int64  \n",
            " 8   isFlaggedFraud  int64  \n",
            "dtypes: float64(6), int64(2), object(1)\n",
            "memory usage: 211.4+ MB\n"
          ]
        }
      ],
      "source": [
        "df2.info()"
      ]
    },
    {
      "cell_type": "code",
      "execution_count": 48,
      "id": "8a731691",
      "metadata": {
        "id": "8a731691"
      },
      "outputs": [],
      "source": [
        "df2['step'] = df2['step'] - df2['step'].mean() / (df2['step'].std())"
      ]
    },
    {
      "cell_type": "code",
      "execution_count": 49,
      "id": "4124364d",
      "metadata": {
        "colab": {
          "base_uri": "https://localhost:8080/",
          "height": 300
        },
        "id": "4124364d",
        "outputId": "a1c4abd4-3610-4c55-ebb5-4e5dbae2e14e"
      },
      "outputs": [
        {
          "output_type": "execute_result",
          "data": {
            "text/plain": [
              "               step        amount  oldbalanceOrg  newbalanceOrig  \\\n",
              "count  2.770409e+06  2.770409e+06   2.770409e+06    2.770409e+06   \n",
              "mean   2.386012e+02  1.192809e+01   6.367012e+00    3.169231e+00   \n",
              "std    1.416191e+02  1.231621e+00   4.114653e+00    2.662251e+00   \n",
              "min   -2.406858e+00  2.302585e+00   2.302585e+00    2.302585e+00   \n",
              "25%    1.515931e+02  1.132640e+01   2.302585e+00    2.302585e+00   \n",
              "50%    2.325931e+02  1.205100e+01   5.749266e+00    2.302585e+00   \n",
              "75%    3.285931e+02  1.263396e+01   1.034197e+01    2.302585e+00   \n",
              "max    7.395931e+02  1.834213e+01   1.790292e+01    1.771920e+01   \n",
              "\n",
              "       oldbalanceDest  newbalanceDest       isFraud  isFlaggedFraud  \n",
              "count    2.770409e+06    2.770409e+06  2.770409e+06    2.770409e+06  \n",
              "mean     1.188522e+01    1.355135e+01  2.964544e-03    5.775321e-06  \n",
              "std      4.150795e+00    1.651896e+00  5.436687e-02    2.403183e-03  \n",
              "min      2.302585e+00    2.302585e+00  0.000000e+00    0.000000e+00  \n",
              "25%      1.176044e+01    1.269863e+01  0.000000e+00    0.000000e+00  \n",
              "50%      1.322802e+01    1.362685e+01  0.000000e+00    0.000000e+00  \n",
              "75%      1.436704e+01    1.456797e+01  0.000000e+00    0.000000e+00  \n",
              "max      1.969049e+01    1.969094e+01  1.000000e+00    1.000000e+00  "
            ],
            "text/html": [
              "\n",
              "  <div id=\"df-df223509-76bd-4dd9-86f9-f48d753307ca\">\n",
              "    <div class=\"colab-df-container\">\n",
              "      <div>\n",
              "<style scoped>\n",
              "    .dataframe tbody tr th:only-of-type {\n",
              "        vertical-align: middle;\n",
              "    }\n",
              "\n",
              "    .dataframe tbody tr th {\n",
              "        vertical-align: top;\n",
              "    }\n",
              "\n",
              "    .dataframe thead th {\n",
              "        text-align: right;\n",
              "    }\n",
              "</style>\n",
              "<table border=\"1\" class=\"dataframe\">\n",
              "  <thead>\n",
              "    <tr style=\"text-align: right;\">\n",
              "      <th></th>\n",
              "      <th>step</th>\n",
              "      <th>amount</th>\n",
              "      <th>oldbalanceOrg</th>\n",
              "      <th>newbalanceOrig</th>\n",
              "      <th>oldbalanceDest</th>\n",
              "      <th>newbalanceDest</th>\n",
              "      <th>isFraud</th>\n",
              "      <th>isFlaggedFraud</th>\n",
              "    </tr>\n",
              "  </thead>\n",
              "  <tbody>\n",
              "    <tr>\n",
              "      <th>count</th>\n",
              "      <td>2.770409e+06</td>\n",
              "      <td>2.770409e+06</td>\n",
              "      <td>2.770409e+06</td>\n",
              "      <td>2.770409e+06</td>\n",
              "      <td>2.770409e+06</td>\n",
              "      <td>2.770409e+06</td>\n",
              "      <td>2.770409e+06</td>\n",
              "      <td>2.770409e+06</td>\n",
              "    </tr>\n",
              "    <tr>\n",
              "      <th>mean</th>\n",
              "      <td>2.386012e+02</td>\n",
              "      <td>1.192809e+01</td>\n",
              "      <td>6.367012e+00</td>\n",
              "      <td>3.169231e+00</td>\n",
              "      <td>1.188522e+01</td>\n",
              "      <td>1.355135e+01</td>\n",
              "      <td>2.964544e-03</td>\n",
              "      <td>5.775321e-06</td>\n",
              "    </tr>\n",
              "    <tr>\n",
              "      <th>std</th>\n",
              "      <td>1.416191e+02</td>\n",
              "      <td>1.231621e+00</td>\n",
              "      <td>4.114653e+00</td>\n",
              "      <td>2.662251e+00</td>\n",
              "      <td>4.150795e+00</td>\n",
              "      <td>1.651896e+00</td>\n",
              "      <td>5.436687e-02</td>\n",
              "      <td>2.403183e-03</td>\n",
              "    </tr>\n",
              "    <tr>\n",
              "      <th>min</th>\n",
              "      <td>-2.406858e+00</td>\n",
              "      <td>2.302585e+00</td>\n",
              "      <td>2.302585e+00</td>\n",
              "      <td>2.302585e+00</td>\n",
              "      <td>2.302585e+00</td>\n",
              "      <td>2.302585e+00</td>\n",
              "      <td>0.000000e+00</td>\n",
              "      <td>0.000000e+00</td>\n",
              "    </tr>\n",
              "    <tr>\n",
              "      <th>25%</th>\n",
              "      <td>1.515931e+02</td>\n",
              "      <td>1.132640e+01</td>\n",
              "      <td>2.302585e+00</td>\n",
              "      <td>2.302585e+00</td>\n",
              "      <td>1.176044e+01</td>\n",
              "      <td>1.269863e+01</td>\n",
              "      <td>0.000000e+00</td>\n",
              "      <td>0.000000e+00</td>\n",
              "    </tr>\n",
              "    <tr>\n",
              "      <th>50%</th>\n",
              "      <td>2.325931e+02</td>\n",
              "      <td>1.205100e+01</td>\n",
              "      <td>5.749266e+00</td>\n",
              "      <td>2.302585e+00</td>\n",
              "      <td>1.322802e+01</td>\n",
              "      <td>1.362685e+01</td>\n",
              "      <td>0.000000e+00</td>\n",
              "      <td>0.000000e+00</td>\n",
              "    </tr>\n",
              "    <tr>\n",
              "      <th>75%</th>\n",
              "      <td>3.285931e+02</td>\n",
              "      <td>1.263396e+01</td>\n",
              "      <td>1.034197e+01</td>\n",
              "      <td>2.302585e+00</td>\n",
              "      <td>1.436704e+01</td>\n",
              "      <td>1.456797e+01</td>\n",
              "      <td>0.000000e+00</td>\n",
              "      <td>0.000000e+00</td>\n",
              "    </tr>\n",
              "    <tr>\n",
              "      <th>max</th>\n",
              "      <td>7.395931e+02</td>\n",
              "      <td>1.834213e+01</td>\n",
              "      <td>1.790292e+01</td>\n",
              "      <td>1.771920e+01</td>\n",
              "      <td>1.969049e+01</td>\n",
              "      <td>1.969094e+01</td>\n",
              "      <td>1.000000e+00</td>\n",
              "      <td>1.000000e+00</td>\n",
              "    </tr>\n",
              "  </tbody>\n",
              "</table>\n",
              "</div>\n",
              "      <button class=\"colab-df-convert\" onclick=\"convertToInteractive('df-df223509-76bd-4dd9-86f9-f48d753307ca')\"\n",
              "              title=\"Convert this dataframe to an interactive table.\"\n",
              "              style=\"display:none;\">\n",
              "        \n",
              "  <svg xmlns=\"http://www.w3.org/2000/svg\" height=\"24px\"viewBox=\"0 0 24 24\"\n",
              "       width=\"24px\">\n",
              "    <path d=\"M0 0h24v24H0V0z\" fill=\"none\"/>\n",
              "    <path d=\"M18.56 5.44l.94 2.06.94-2.06 2.06-.94-2.06-.94-.94-2.06-.94 2.06-2.06.94zm-11 1L8.5 8.5l.94-2.06 2.06-.94-2.06-.94L8.5 2.5l-.94 2.06-2.06.94zm10 10l.94 2.06.94-2.06 2.06-.94-2.06-.94-.94-2.06-.94 2.06-2.06.94z\"/><path d=\"M17.41 7.96l-1.37-1.37c-.4-.4-.92-.59-1.43-.59-.52 0-1.04.2-1.43.59L10.3 9.45l-7.72 7.72c-.78.78-.78 2.05 0 2.83L4 21.41c.39.39.9.59 1.41.59.51 0 1.02-.2 1.41-.59l7.78-7.78 2.81-2.81c.8-.78.8-2.07 0-2.86zM5.41 20L4 18.59l7.72-7.72 1.47 1.35L5.41 20z\"/>\n",
              "  </svg>\n",
              "      </button>\n",
              "      \n",
              "  <style>\n",
              "    .colab-df-container {\n",
              "      display:flex;\n",
              "      flex-wrap:wrap;\n",
              "      gap: 12px;\n",
              "    }\n",
              "\n",
              "    .colab-df-convert {\n",
              "      background-color: #E8F0FE;\n",
              "      border: none;\n",
              "      border-radius: 50%;\n",
              "      cursor: pointer;\n",
              "      display: none;\n",
              "      fill: #1967D2;\n",
              "      height: 32px;\n",
              "      padding: 0 0 0 0;\n",
              "      width: 32px;\n",
              "    }\n",
              "\n",
              "    .colab-df-convert:hover {\n",
              "      background-color: #E2EBFA;\n",
              "      box-shadow: 0px 1px 2px rgba(60, 64, 67, 0.3), 0px 1px 3px 1px rgba(60, 64, 67, 0.15);\n",
              "      fill: #174EA6;\n",
              "    }\n",
              "\n",
              "    [theme=dark] .colab-df-convert {\n",
              "      background-color: #3B4455;\n",
              "      fill: #D2E3FC;\n",
              "    }\n",
              "\n",
              "    [theme=dark] .colab-df-convert:hover {\n",
              "      background-color: #434B5C;\n",
              "      box-shadow: 0px 1px 3px 1px rgba(0, 0, 0, 0.15);\n",
              "      filter: drop-shadow(0px 1px 2px rgba(0, 0, 0, 0.3));\n",
              "      fill: #FFFFFF;\n",
              "    }\n",
              "  </style>\n",
              "\n",
              "      <script>\n",
              "        const buttonEl =\n",
              "          document.querySelector('#df-df223509-76bd-4dd9-86f9-f48d753307ca button.colab-df-convert');\n",
              "        buttonEl.style.display =\n",
              "          google.colab.kernel.accessAllowed ? 'block' : 'none';\n",
              "\n",
              "        async function convertToInteractive(key) {\n",
              "          const element = document.querySelector('#df-df223509-76bd-4dd9-86f9-f48d753307ca');\n",
              "          const dataTable =\n",
              "            await google.colab.kernel.invokeFunction('convertToInteractive',\n",
              "                                                     [key], {});\n",
              "          if (!dataTable) return;\n",
              "\n",
              "          const docLinkHtml = 'Like what you see? Visit the ' +\n",
              "            '<a target=\"_blank\" href=https://colab.research.google.com/notebooks/data_table.ipynb>data table notebook</a>'\n",
              "            + ' to learn more about interactive tables.';\n",
              "          element.innerHTML = '';\n",
              "          dataTable['output_type'] = 'display_data';\n",
              "          await google.colab.output.renderOutput(dataTable, element);\n",
              "          const docLink = document.createElement('div');\n",
              "          docLink.innerHTML = docLinkHtml;\n",
              "          element.appendChild(docLink);\n",
              "        }\n",
              "      </script>\n",
              "    </div>\n",
              "  </div>\n",
              "  "
            ]
          },
          "metadata": {},
          "execution_count": 49
        }
      ],
      "source": [
        "df2.describe()"
      ]
    },
    {
      "cell_type": "markdown",
      "id": "fc71d66c",
      "metadata": {
        "id": "fc71d66c"
      },
      "source": [
        "# Data visualization"
      ]
    },
    {
      "cell_type": "code",
      "execution_count": 50,
      "id": "f107308a",
      "metadata": {
        "id": "f107308a"
      },
      "outputs": [],
      "source": [
        "import matplotlib.pyplot as plt\n",
        "import seaborn as sns\n",
        "from scipy.stats import norm"
      ]
    },
    {
      "cell_type": "markdown",
      "id": "1142e9dc",
      "metadata": {
        "id": "1142e9dc"
      },
      "source": [
        "> step - maps a unit of time in the real world. In this case 1 step is 1 hour of time. Total steps 744 (30 days simulation).\n",
        "\n",
        "Here we have normalized step."
      ]
    },
    {
      "cell_type": "code",
      "execution_count": 51,
      "id": "ce00e3c1",
      "metadata": {
        "colab": {
          "base_uri": "https://localhost:8080/",
          "height": 441
        },
        "id": "ce00e3c1",
        "outputId": "12f1c233-c736-4aeb-a12d-28899612a1ad"
      },
      "outputs": [
        {
          "output_type": "stream",
          "name": "stderr",
          "text": [
            "/usr/local/lib/python3.7/dist-packages/seaborn/distributions.py:2619: FutureWarning: `distplot` is a deprecated function and will be removed in a future version. Please adapt your code to use either `displot` (a figure-level function with similar flexibility) or `histplot` (an axes-level function for histograms).\n",
            "  warnings.warn(msg, FutureWarning)\n",
            "/usr/local/lib/python3.7/dist-packages/seaborn/distributions.py:2619: FutureWarning: `distplot` is a deprecated function and will be removed in a future version. Please adapt your code to use either `displot` (a figure-level function with similar flexibility) or `histplot` (an axes-level function for histograms).\n",
            "  warnings.warn(msg, FutureWarning)\n"
          ]
        },
        {
          "output_type": "display_data",
          "data": {
            "text/plain": [
              "<Figure size 1152x360 with 2 Axes>"
            ],
            "image/png": "[encoded data removed]"
          },
          "metadata": {
            "needs_background": "light"
          }
        }
      ],
      "source": [
        "plt.rcParams['figure.figsize'] =(16, 5)\n",
        "\n",
        "plt.subplot(1, 2, 1)\n",
        "sns.distplot(df.step, fit=norm)\n",
        "plt.title('Frequency of transactions in each step (df dataset)', fontsize = 12)\n",
        "\n",
        "plt.subplot(1, 2, 2)\n",
        "sns.distplot(df2.step, fit=norm, color='y')\n",
        "plt.title('Frequency of transactions in each step (df2 dataset)', fontsize = 12)\n",
        "\n",
        "plt.show()"
      ]
    },
    {
      "cell_type": "code",
      "execution_count": 52,
      "id": "973f8749",
      "metadata": {
        "colab": {
          "base_uri": "https://localhost:8080/",
          "height": 730
        },
        "id": "973f8749",
        "outputId": "c03c8870-93eb-48d8-86cc-381cb3003ea8"
      },
      "outputs": [
        {
          "output_type": "display_data",
          "data": {
            "text/plain": [
              "<Figure size 1008x864 with 4 Axes>"
            ],
            "image/png": "[encoded data removed]"
          },
          "metadata": {
            "needs_background": "light"
          }
        }
      ],
      "source": [
        "plt.rcParams['figure.figsize'] =(14, 12)\n",
        "\n",
        "plt.subplot(2, 2, 1)\n",
        "sns.violinplot(x='isFraud',y='step',data=df, palette='Pastel1')\n",
        "plt.title('Frequency distribution of fraud/step (df dataset)', fontsize = 12)\n",
        "\n",
        "plt.subplot(2, 2, 2)\n",
        "sns.violinplot(x='isFlaggedFraud',y='step',data=df, palette='Pastel1')\n",
        "plt.title('Frequency distribution of flaggedFraud/step (df dataset)', fontsize = 12)\n",
        "\n",
        "plt.subplot(2, 2, 3)\n",
        "sns.violinplot(x='isFraud',y='step',data=df2, palette='Pastel2')\n",
        "plt.title('Frequency distribution of fraud/step (df2 dataset)', fontsize = 12)\n",
        "\n",
        "plt.subplot(2, 2, 4)\n",
        "sns.violinplot(x='isFlaggedFraud',y='step',data=df2, palette='Pastel2')\n",
        "plt.title('Frequency distribution of flaggedFraud/step (df2 dataset)', fontsize = 12)\n",
        "\n",
        "plt.show()"
      ]
    },
    {
      "cell_type": "code",
      "execution_count": 53,
      "id": "f700e19c",
      "metadata": {
        "colab": {
          "base_uri": "https://localhost:8080/",
          "height": 730
        },
        "id": "f700e19c",
        "outputId": "47cf5c90-5669-4a10-e511-a82cf2238f01"
      },
      "outputs": [
        {
          "output_type": "display_data",
          "data": {
            "text/plain": [
              "<Figure size 1296x864 with 4 Axes>"
            ],
            "image/png": "[encoded data removed]"
          },
          "metadata": {
            "needs_background": "light"
          }
        }
      ],
      "source": [
        "plt.rcParams['figure.figsize'] =(18, 12)\n",
        "\n",
        "plt.subplot(2, 2, 1)\n",
        "sns.violinplot(x='isFraud',y='step',data=df, hue='type', palette='Pastel1')\n",
        "plt.title('Categorical distribution of fraud/step (df dataset)', fontsize = 12)\n",
        "\n",
        "plt.subplot(2, 2, 2)\n",
        "sns.violinplot(x='isFlaggedFraud',y='step',data=df, hue='type', palette='Pastel1')\n",
        "plt.title('Categorical distribution of flaggedFraud/step (df dataset)', fontsize = 12)\n",
        "\n",
        "plt.subplot(2, 2, 3)\n",
        "sns.violinplot(x='isFraud',y='step',data=df2, hue='type', split=True, palette='Pastel2')\n",
        "plt.title('Categorical distribution of fraud/step (df2 dataset)', fontsize = 12)\n",
        "\n",
        "plt.subplot(2, 2, 4)\n",
        "sns.violinplot(x='isFlaggedFraud',y='step',data=df2, hue='type', split=True, palette='Pastel2')\n",
        "plt.title('Categorical distribution of flaggedFraud/step (df2 dataset)')\n",
        "\n",
        "plt.show()"
      ]
    },
    {
      "cell_type": "markdown",
      "id": "34c1aee2",
      "metadata": {
        "id": "34c1aee2"
      },
      "source": [
        "Both transfer and cashout contribute almost equally towards fraud.<br> df2 has better captured the distribution of transactions that contributed towards flaggedfraud."
      ]
    },
    {
      "cell_type": "code",
      "execution_count": 54,
      "id": "c7393d2f",
      "metadata": {
        "colab": {
          "base_uri": "https://localhost:8080/",
          "height": 731
        },
        "id": "c7393d2f",
        "outputId": "d8a5f2a2-0ac4-4057-d226-6e074674a648"
      },
      "outputs": [
        {
          "output_type": "display_data",
          "data": {
            "text/plain": [
              "<Figure size 1296x864 with 4 Axes>"
            ],
            "image/png": "[encoded data removed]"
          },
          "metadata": {
            "needs_background": "light"
          }
        }
      ],
      "source": [
        "plt.rcParams['figure.figsize'] = (18, 12)\n",
        "\n",
        "plt.subplot(2, 2, 1)\n",
        "sns.violinplot(x = 'type', y = 'amount', data=df, hue='isFraud', split=True, palette='Pastel1')\n",
        "plt.title('Categorical distribution of each amount (df dataset)', fontsize = 12)\n",
        "\n",
        "plt.subplot(2, 2, 2)\n",
        "sns.violinplot(x = 'type', y = 'amount', data=df, hue='isFlaggedFraud', split=True, palette='Pastel1')\n",
        "plt.title('Categorical distribution of each amount (df dataset)', fontsize = 12)\n",
        "\n",
        "plt.subplot(2, 2, 3)\n",
        "sns.violinplot(x = 'type', y = 'amount', data=df2, hue='isFraud', split=True, palette='Pastel2')\n",
        "plt.title('Categorical distribution of each amount (df2 dataset)', fontsize = 12)\n",
        "\n",
        "plt.subplot(2, 2, 4)\n",
        "sns.violinplot(x = 'type', y = 'amount', data=df2, hue='isFlaggedFraud', split=True, palette='Pastel2')\n",
        "plt.title('Categorical distribution of each amount (df2 dataset)', fontsize = 12)\n",
        "\n",
        "plt.show()"
      ]
    },
    {
      "cell_type": "markdown",
      "id": "9ef9d883",
      "metadata": {
        "id": "9ef9d883"
      },
      "source": [
        "# Feature engineering"
      ]
    },
    {
      "cell_type": "markdown",
      "id": "c9027a57",
      "metadata": {
        "id": "c9027a57"
      },
      "source": [
        "oldbalance, newbalance and amount are interdependent variables. So, we can combine them into a single a variable."
      ]
    },
    {
      "cell_type": "code",
      "execution_count": 55,
      "id": "8f445230",
      "metadata": {
        "id": "8f445230"
      },
      "outputs": [],
      "source": [
        "df['diffOrg']  = df['oldbalanceOrg']  - df['newbalanceOrig'] + df['amount']\n",
        "df['diffDest'] = df['oldbalanceDest'] - df['newbalanceDest'] + df['amount']\n",
        "\n",
        "df2['diffOrg']  = df2['oldbalanceOrg']  - df2['newbalanceOrig'] + df2['amount']\n",
        "df2['diffDest'] = df2['oldbalanceDest'] - df2['newbalanceDest'] + df2['amount']"
      ]
    },
    {
      "cell_type": "code",
      "execution_count": 56,
      "id": "75a725ad",
      "metadata": {
        "colab": {
          "base_uri": "https://localhost:8080/",
          "height": 731
        },
        "id": "75a725ad",
        "outputId": "bd0558f0-8f9e-4b80-c935-5f849e8cbfdf"
      },
      "outputs": [
        {
          "output_type": "display_data",
          "data": {
            "text/plain": [
              "<Figure size 1296x864 with 4 Axes>"
            ],
            "image/png": "[encoded data removed]"
          },
          "metadata": {
            "needs_background": "light"
          }
        }
      ],
      "source": [
        "plt.rcParams['figure.figsize'] = (18, 12)\n",
        "\n",
        "plt.subplot(2, 2, 1)\n",
        "sns.violinplot(x = 'type', y = 'diffOrg', data=df, hue='isFraud', split=True, palette='Pastel1')\n",
        "plt.title('Categorical distribution of diffOrg (df dataset)', fontsize = 12)\n",
        "\n",
        "plt.subplot(2, 2, 2)\n",
        "sns.violinplot(x = 'type', y = 'diffDest', data=df, hue='isFraud', split=True, palette='Pastel1')\n",
        "plt.title('Categorical distribution of diffDest (df dataset)', fontsize = 12)\n",
        "\n",
        "plt.subplot(2, 2, 3)\n",
        "sns.violinplot(x = 'type', y = 'diffOrg', data=df2, hue='isFraud', split=True, palette='Pastel2')\n",
        "plt.title('Categorical distribution of diffOrg (df2 dataset)', fontsize = 12)\n",
        "\n",
        "plt.subplot(2, 2, 4)\n",
        "sns.violinplot(x = 'type', y = 'diffDest', data=df2, hue='isFraud', split=True, palette='Pastel2')\n",
        "plt.title('Categorical distribution of diffDest (df2 dataset)', fontsize = 12)\n",
        "\n",
        "plt.show()"
      ]
    },
    {
      "cell_type": "code",
      "execution_count": 57,
      "id": "9cb3b94b",
      "metadata": {
        "colab": {
          "base_uri": "https://localhost:8080/",
          "height": 731
        },
        "id": "9cb3b94b",
        "outputId": "5b981a03-4d13-4347-88bb-e48c719e26a5"
      },
      "outputs": [
        {
          "output_type": "display_data",
          "data": {
            "text/plain": [
              "<Figure size 1296x864 with 4 Axes>"
            ],
            "image/png": "[encoded data removed]"
          },
          "metadata": {
            "needs_background": "light"
          }
        }
      ],
      "source": [
        "plt.rcParams['figure.figsize'] = (18, 12)\n",
        "\n",
        "plt.subplot(2, 2, 1)\n",
        "sns.violinplot(x = 'type', y = 'diffOrg', data=df, hue='isFlaggedFraud', split=True, palette='Pastel1')\n",
        "plt.title('Categorical distribution of diffOrg (df dataset)', fontsize = 12)\n",
        "\n",
        "plt.subplot(2, 2, 2)\n",
        "sns.violinplot(x = 'type', y = 'diffDest', data=df, hue='isFlaggedFraud', split=True, palette='Pastel1')\n",
        "plt.title('Categorical distribution of diffDest (df dataset)', fontsize = 12)\n",
        "\n",
        "plt.subplot(2, 2, 3)\n",
        "sns.violinplot(x = 'type', y = 'diffOrg', data=df2, hue='isFlaggedFraud', split=True, palette='Pastel2')\n",
        "plt.title('Categorical distribution of diffOrg (df2 dataset)', fontsize = 12)\n",
        "\n",
        "plt.subplot(2, 2, 4)\n",
        "sns.violinplot(x = 'type', y = 'diffDest', data=df2, hue='isFlaggedFraud', split=True, palette='Pastel2')\n",
        "plt.title('Categorical distribution of diffDest (df2 dataset)', fontsize = 12)\n",
        "\n",
        "plt.show()"
      ]
    },
    {
      "cell_type": "markdown",
      "id": "17a7f975",
      "metadata": {
        "id": "17a7f975"
      },
      "source": [
        "Seems like the new features has some interesting relationships with fraud and flaggedfraud transactions"
      ]
    },
    {
      "cell_type": "markdown",
      "id": "03305c81",
      "metadata": {
        "id": "03305c81"
      },
      "source": [
        "# SMOTE oversampling for imbalanced data"
      ]
    },
    {
      "cell_type": "markdown",
      "id": "82dfe47b",
      "metadata": {
        "id": "82dfe47b"
      },
      "source": [
        "We had noted that the dataset is highly imbalanced."
      ]
    },
    {
      "cell_type": "code",
      "execution_count": 58,
      "id": "ff9dc565",
      "metadata": {
        "colab": {
          "base_uri": "https://localhost:8080/"
        },
        "id": "ff9dc565",
        "outputId": "44c045de-8cf2-4131-8825-d0712b245a76"
      },
      "outputs": [
        {
          "output_type": "stream",
          "name": "stdout",
          "text": [
            "Fraud ratio \n",
            "0    0.998709\n",
            "1    0.001291\n",
            "Name: isFraud, dtype: float64 \n",
            "\n",
            "Flagged fraud ratio \n",
            "0    0.999997\n",
            "1    0.000003\n",
            "Name: isFlaggedFraud, dtype: float64\n"
          ]
        }
      ],
      "source": [
        "print(f'Fraud ratio \\n{fraud_ratio} \\n\\nFlagged fraud ratio \\n{flaggedFraud_ratio}')"
      ]
    },
    {
      "cell_type": "markdown",
      "id": "1dc33c8f",
      "metadata": {
        "id": "1dc33c8f"
      },
      "source": [
        "So to give better results, we can use the SMOTE technique."
      ]
    },
    {
      "cell_type": "code",
      "execution_count": 59,
      "id": "4addbd37",
      "metadata": {
        "id": "4addbd37"
      },
      "outputs": [],
      "source": [
        "from imblearn.over_sampling import SMOTE"
      ]
    },
    {
      "cell_type": "markdown",
      "id": "c239006b",
      "metadata": {
        "id": "c239006b"
      },
      "source": [
        "Preparing datasets"
      ]
    },
    {
      "cell_type": "code",
      "execution_count": 60,
      "id": "64671dad",
      "metadata": {
        "scrolled": true,
        "id": "64671dad"
      },
      "outputs": [],
      "source": [
        "X = df\n",
        "Y = df['isFraud']          # target label\n",
        "X = pd.concat([X, pd.get_dummies(X['type'])], axis = 'columns')       # one-hot columns for transaction type\n",
        "X = X.drop(['isFraud', 'type'], axis=1)\n",
        "\n",
        "X2 = df2\n",
        "Y2 = df2['isFraud']\n",
        "X2 = pd.concat([X2, pd.get_dummies(X2['type'])], axis = 'columns')\n",
        "X2 = X2.drop(['isFraud', 'type'], axis=1)"
      ]
    },
    {
      "cell_type": "code",
      "execution_count": 61,
      "id": "947684db",
      "metadata": {
        "colab": {
          "base_uri": "https://localhost:8080/"
        },
        "id": "947684db",
        "outputId": "d466c1cb-7d92-402b-dc4f-6307c5f736ae"
      },
      "outputs": [
        {
          "output_type": "execute_result",
          "data": {
            "text/plain": [
              "(6362620, 2770409)"
            ]
          },
          "metadata": {},
          "execution_count": 61
        }
      ],
      "source": [
        "len(X), len(X2)"
      ]
    },
    {
      "cell_type": "markdown",
      "source": [
        "SMOTE resampling"
      ],
      "metadata": {
        "id": "REXwOupND8lP"
      },
      "id": "REXwOupND8lP"
    },
    {
      "cell_type": "code",
      "execution_count": 62,
      "id": "c9a3ce21",
      "metadata": {
        "id": "c9a3ce21"
      },
      "outputs": [],
      "source": [
        "X, Y = SMOTE().fit_resample(X, Y)\n",
        "X2, Y2 = SMOTE().fit_resample(X2, Y2)"
      ]
    },
    {
      "cell_type": "code",
      "execution_count": 63,
      "id": "539a92bf",
      "metadata": {
        "colab": {
          "base_uri": "https://localhost:8080/"
        },
        "id": "539a92bf",
        "outputId": "4405c949-965f-4720-925d-d94daebd7a18"
      },
      "outputs": [
        {
          "output_type": "execute_result",
          "data": {
            "text/plain": [
              "(12708814, 5524392)"
            ]
          },
          "metadata": {},
          "execution_count": 63
        }
      ],
      "source": [
        "len(X), len(X2)"
      ]
    },
    {
      "cell_type": "code",
      "source": [
        "list(Y).count(1), list(Y2).count(1)"
      ],
      "metadata": {
        "colab": {
          "base_uri": "https://localhost:8080/"
        },
        "id": "Ih1sATb7SsSG",
        "outputId": "57f23b86-4543-419a-8376-49ba99d5a458"
      },
      "id": "Ih1sATb7SsSG",
      "execution_count": 64,
      "outputs": [
        {
          "output_type": "execute_result",
          "data": {
            "text/plain": [
              "(6354407, 2762196)"
            ]
          },
          "metadata": {},
          "execution_count": 64
        }
      ]
    },
    {
      "cell_type": "code",
      "source": [
        "list(Y).count(0), list(Y2).count(0)"
      ],
      "metadata": {
        "colab": {
          "base_uri": "https://localhost:8080/"
        },
        "id": "tfab7vrrS6vF",
        "outputId": "a5e87c3b-2055-48e5-cacf-17b46fe939eb"
      },
      "id": "tfab7vrrS6vF",
      "execution_count": 65,
      "outputs": [
        {
          "output_type": "execute_result",
          "data": {
            "text/plain": [
              "(6354407, 2762196)"
            ]
          },
          "metadata": {},
          "execution_count": 65
        }
      ]
    },
    {
      "cell_type": "markdown",
      "source": [
        "With smote resampling, now our dataset size has almost doubled and has balanced classes."
      ],
      "metadata": {
        "id": "U3inplStS-v0"
      },
      "id": "U3inplStS-v0"
    },
    {
      "cell_type": "markdown",
      "source": [
        "# Training"
      ],
      "metadata": {
        "id": "zRVY5c3lvmrm"
      },
      "id": "zRVY5c3lvmrm"
    },
    {
      "cell_type": "markdown",
      "source": [
        "## Train, validation and test Split"
      ],
      "metadata": {
        "id": "wQv8t_dTvyl7"
      },
      "id": "wQv8t_dTvyl7"
    },
    {
      "cell_type": "code",
      "source": [
        "from sklearn.model_selection import train_test_split"
      ],
      "metadata": {
        "id": "kqg87dTytErI"
      },
      "id": "kqg87dTytErI",
      "execution_count": 66,
      "outputs": []
    },
    {
      "cell_type": "markdown",
      "source": [
        "Set random state for reproducibility"
      ],
      "metadata": {
        "id": "6waB4toR-JFH"
      },
      "id": "6waB4toR-JFH"
    },
    {
      "cell_type": "code",
      "source": [
        "random_state = 55"
      ],
      "metadata": {
        "id": "pr-h4LAgtRjM"
      },
      "id": "pr-h4LAgtRjM",
      "execution_count": 67,
      "outputs": []
    },
    {
      "cell_type": "markdown",
      "source": [
        "Get list of random permutations"
      ],
      "metadata": {
        "id": "HsBFCNOY-GpV"
      },
      "id": "HsBFCNOY-GpV"
    },
    {
      "cell_type": "code",
      "source": [
        "p = np.random.RandomState(seed=random_state).permutation(len(X))\n",
        "p2 = np.random.RandomState(seed=random_state).permutation(len(X2))"
      ],
      "metadata": {
        "id": "phXi6xB7-Wxy"
      },
      "id": "phXi6xB7-Wxy",
      "execution_count": 68,
      "outputs": []
    },
    {
      "cell_type": "markdown",
      "source": [
        "Random shuffle dataset before splitting"
      ],
      "metadata": {
        "id": "vVgKGftRBNBx"
      },
      "id": "vVgKGftRBNBx"
    },
    {
      "cell_type": "code",
      "source": [
        "X, Y = X.iloc[p], Y.iloc[p]\n",
        "X2, Y2 = X2.iloc[p2], Y2.iloc[p2]"
      ],
      "metadata": {
        "id": "Xe5ovKWw_5kG"
      },
      "id": "Xe5ovKWw_5kG",
      "execution_count": 69,
      "outputs": []
    },
    {
      "cell_type": "markdown",
      "source": [
        "Train, validation, test split\n",
        "\n",
        "Train: 80%, validation:10%, test:10%"
      ],
      "metadata": {
        "id": "vxVNTBzPBTIY"
      },
      "id": "vxVNTBzPBTIY"
    },
    {
      "cell_type": "code",
      "source": [
        "x_train, x_test, y_train, y_test = train_test_split(X, Y, test_size = 0.2, random_state = random_state)\n",
        "x_val, x_test, y_val, y_test = train_test_split(x_test, y_test, test_size = 0.5, random_state = random_state)\n",
        "\n",
        "x2_train, x2_test, y2_train, y2_test = train_test_split(X2, Y2, test_size = 0.2, random_state = random_state)\n",
        "x2_val, x2_test, y2_val, y2_test = train_test_split(x2_test, y2_test, test_size = 0.5, random_state = random_state)"
      ],
      "metadata": {
        "id": "fOW8LlX8wE6r"
      },
      "id": "fOW8LlX8wE6r",
      "execution_count": 70,
      "outputs": []
    },
    {
      "cell_type": "markdown",
      "source": [
        "Before training, let's free up some RAM space."
      ],
      "metadata": {
        "id": "SiVKps8icvGE"
      },
      "id": "SiVKps8icvGE"
    },
    {
      "cell_type": "code",
      "source": [
        "import gc"
      ],
      "metadata": {
        "id": "Dc4YetQocukM"
      },
      "id": "Dc4YetQocukM",
      "execution_count": 71,
      "outputs": []
    },
    {
      "cell_type": "code",
      "source": [
        "del df, df2, df_missing, df_outliers, dff_outliers, X, Y, X2, Y2, cols"
      ],
      "metadata": {
        "id": "E15Orgl8fnkF"
      },
      "id": "E15Orgl8fnkF",
      "execution_count": 72,
      "outputs": []
    },
    {
      "cell_type": "code",
      "source": [
        "gc.collect()"
      ],
      "metadata": {
        "colab": {
          "base_uri": "https://localhost:8080/"
        },
        "id": "rBopjaHxc5i4",
        "outputId": "44055dc2-9747-46d5-d370-9e7c33f9d9bb"
      },
      "id": "rBopjaHxc5i4",
      "execution_count": 73,
      "outputs": [
        {
          "output_type": "execute_result",
          "data": {
            "text/plain": [
              "23812"
            ]
          },
          "metadata": {},
          "execution_count": 73
        }
      ]
    },
    {
      "cell_type": "markdown",
      "source": [
        "## Training the classifier\n"
      ],
      "metadata": {
        "id": "RVRFpWT00sbO"
      },
      "id": "RVRFpWT00sbO"
    },
    {
      "cell_type": "code",
      "source": [
        "from xgboost import XGBClassifier"
      ],
      "metadata": {
        "id": "tQZefgyB006a"
      },
      "id": "tQZefgyB006a",
      "execution_count": 74,
      "outputs": []
    },
    {
      "cell_type": "code",
      "source": [
        "model = XGBClassifier(tree_method = \"gpu_hist\", random_state=random_state)\n",
        "model2 = XGBClassifier(tree_method = \"gpu_hist\", random_state=random_state)"
      ],
      "metadata": {
        "id": "E4z1KLstxGwY"
      },
      "id": "E4z1KLstxGwY",
      "execution_count": 75,
      "outputs": []
    },
    {
      "cell_type": "code",
      "source": [
        "model.fit(x_train, y_train)\n",
        "model2.fit(x2_train, y2_train)"
      ],
      "metadata": {
        "colab": {
          "base_uri": "https://localhost:8080/"
        },
        "id": "xlhxwtSP1e8h",
        "outputId": "691ba461-996c-43cd-cf72-5c51a97706e6"
      },
      "id": "xlhxwtSP1e8h",
      "execution_count": 76,
      "outputs": [
        {
          "output_type": "execute_result",
          "data": {
            "text/plain": [
              "XGBClassifier(random_state=55, tree_method='gpu_hist')"
            ]
          },
          "metadata": {},
          "execution_count": 76
        }
      ]
    },
    {
      "cell_type": "code",
      "source": [
        "gc.collect()"
      ],
      "metadata": {
        "colab": {
          "base_uri": "https://localhost:8080/"
        },
        "id": "2Z7RAnGkeIyv",
        "outputId": "a0bcdc44-2364-45b2-d871-d29d0c25f56b"
      },
      "id": "2Z7RAnGkeIyv",
      "execution_count": 77,
      "outputs": [
        {
          "output_type": "execute_result",
          "data": {
            "text/plain": [
              "65"
            ]
          },
          "metadata": {},
          "execution_count": 77
        }
      ]
    },
    {
      "cell_type": "markdown",
      "source": [
        "# Evaluation"
      ],
      "metadata": {
        "id": "d_Dp55szIX_G"
      },
      "id": "d_Dp55szIX_G"
    },
    {
      "cell_type": "markdown",
      "source": [
        "Let's define a function that returns all evaluation metrics at once."
      ],
      "metadata": {
        "id": "5TdNN5y7i2fE"
      },
      "id": "5TdNN5y7i2fE"
    },
    {
      "cell_type": "code",
      "source": [
        "from sklearn.metrics import classification_report, roc_auc_score, accuracy_score, f1_score\n",
        "\n",
        "def evaluate(trainedmodel, x, y):\n",
        "  '''\n",
        "    To evaluate model performance\n",
        "  '''\n",
        "  y_pred   = trainedmodel.predict(x)\n",
        "  f1       = f1_score(y, y_pred)\n",
        "  report   = classification_report(y, y_pred)\n",
        "  acc      = accuracy_score(y, y_pred)\n",
        "  roc_auc  = roc_auc_score(y, y_pred)\n",
        "\n",
        "  eval = {'y_pred': y_pred, \n",
        "          'f1_score': f1,\n",
        "          'accuracy':acc,\n",
        "          'roc_auc_score': roc_auc\n",
        "          }\n",
        "\n",
        "  return eval, report\n"
      ],
      "metadata": {
        "id": "IuVmxG7XKQPo"
      },
      "id": "IuVmxG7XKQPo",
      "execution_count": 78,
      "outputs": []
    },
    {
      "cell_type": "code",
      "source": [
        "eval_train, report_train = evaluate(model, x_train, y_train)\n",
        "eval_val, report_val = evaluate(model, x_val, y_val)\n",
        "\n",
        "eval2_train, report2_train = evaluate(model2, x2_train, y2_train)\n",
        "eval2_val, report2_val = evaluate(model2, x2_val, y2_val)"
      ],
      "metadata": {
        "id": "4F6dneUbTj-7"
      },
      "id": "4F6dneUbTj-7",
      "execution_count": 79,
      "outputs": []
    },
    {
      "cell_type": "code",
      "source": [
        "import pprint\n",
        "pprint._sorted = lambda x:x"
      ],
      "metadata": {
        "id": "i1ZNFD7sm_4o"
      },
      "id": "i1ZNFD7sm_4o",
      "execution_count": 80,
      "outputs": []
    },
    {
      "cell_type": "code",
      "source": [
        "print('Evaluation metrics on training data (for df): \\n')\n",
        "pprint.pprint(eval_train)\n",
        "print('\\n',report_train)\n",
        "\n",
        "print('\\n\\nEvaluation metrics on val data (for df): \\n')\n",
        "pprint.pprint(eval_val)\n",
        "print('\\n', report_val)"
      ],
      "metadata": {
        "colab": {
          "base_uri": "https://localhost:8080/"
        },
        "id": "7VJkwQ_gXIhi",
        "outputId": "977408a0-8474-4617-9a63-87a790e8349d"
      },
      "id": "7VJkwQ_gXIhi",
      "execution_count": 81,
      "outputs": [
        {
          "output_type": "stream",
          "name": "stdout",
          "text": [
            "Evaluation metrics on training data (for df): \n",
            "\n",
            "{'accuracy': 0.9888765188647131,\n",
            " 'f1_score': 0.9889569339660917,\n",
            " 'roc_auc_score': 0.9888763453855397,\n",
            " 'y_pred': array([1, 1, 1, ..., 0, 0, 1])}\n",
            "\n",
            "               precision    recall  f1-score   support\n",
            "\n",
            "           0       1.00      0.98      0.99   5083404\n",
            "           1       0.98      1.00      0.99   5083647\n",
            "\n",
            "    accuracy                           0.99  10167051\n",
            "   macro avg       0.99      0.99      0.99  10167051\n",
            "weighted avg       0.99      0.99      0.99  10167051\n",
            "\n",
            "\n",
            "\n",
            "Evaluation metrics on val data (for df): \n",
            "\n",
            "{'accuracy': 0.9889108421638217,\n",
            " 'f1_score': 0.9889934466764395,\n",
            " 'roc_auc_score': 0.9889087137490279,\n",
            " 'y_pred': array([0, 0, 1, ..., 0, 1, 0])}\n",
            "\n",
            "               precision    recall  f1-score   support\n",
            "\n",
            "           0       1.00      0.98      0.99    635253\n",
            "           1       0.98      1.00      0.99    635628\n",
            "\n",
            "    accuracy                           0.99   1270881\n",
            "   macro avg       0.99      0.99      0.99   1270881\n",
            "weighted avg       0.99      0.99      0.99   1270881\n",
            "\n"
          ]
        }
      ]
    },
    {
      "cell_type": "code",
      "source": [
        "print('Evaluation metrics on training data (for df2): \\n')\n",
        "pprint.pprint(eval2_train)\n",
        "print('\\n', report2_train)\n",
        "\n",
        "print('\\n\\nEvaluation metrics on val data (for df2): \\n')\n",
        "pprint.pprint(eval2_val)\n",
        "print('\\n', report2_val)"
      ],
      "metadata": {
        "colab": {
          "base_uri": "https://localhost:8080/"
        },
        "id": "tTTSN80DmK3F",
        "outputId": "1e6866db-4630-4db3-e722-8e0ff9693fce"
      },
      "id": "tTTSN80DmK3F",
      "execution_count": 82,
      "outputs": [
        {
          "output_type": "stream",
          "name": "stdout",
          "text": [
            "Evaluation metrics on training data (for df2): \n",
            "\n",
            "{'accuracy': 0.9864335731108835,\n",
            " 'f1_score': 0.9865613877876889,\n",
            " 'roc_auc_score': 0.9864326760500436,\n",
            " 'y_pred': array([0, 1, 1, ..., 0, 1, 0])}\n",
            "\n",
            "               precision    recall  f1-score   support\n",
            "\n",
            "           0       1.00      0.98      0.99   2209546\n",
            "           1       0.98      1.00      0.99   2209967\n",
            "\n",
            "    accuracy                           0.99   4419513\n",
            "   macro avg       0.99      0.99      0.99   4419513\n",
            "weighted avg       0.99      0.99      0.99   4419513\n",
            "\n",
            "\n",
            "\n",
            "Evaluation metrics on val data (for df2): \n",
            "\n",
            "{'accuracy': 0.9866229574667973,\n",
            " 'f1_score': 0.9867605431939517,\n",
            " 'roc_auc_score': 0.9866136044295387,\n",
            " 'y_pred': array([0, 0, 1, ..., 1, 1, 1])}\n",
            "\n",
            "               precision    recall  f1-score   support\n",
            "\n",
            "           0       1.00      0.98      0.99    275945\n",
            "           1       0.98      1.00      0.99    276494\n",
            "\n",
            "    accuracy                           0.99    552439\n",
            "   macro avg       0.99      0.99      0.99    552439\n",
            "weighted avg       0.99      0.99      0.99    552439\n",
            "\n"
          ]
        }
      ]
    },
    {
      "cell_type": "markdown",
      "source": [
        "We have got very impressive metrics on both training and validation sets. However, these results are interesting, because model trained with df has slightly better performance than df2. (Comparing accuracy and f1-scores.)\n",
        "\n",
        "Also, we have very low bias and variance. So, hopefully, we need not implement furthur hyperparameter tuning. <br>\n",
        "\n",
        "$\\implies$ Let's see test performance of the models."
      ],
      "metadata": {
        "id": "aLUGdAWsP5IK"
      },
      "id": "aLUGdAWsP5IK"
    },
    {
      "cell_type": "code",
      "source": [
        "gc.collect()"
      ],
      "metadata": {
        "colab": {
          "base_uri": "https://localhost:8080/"
        },
        "id": "5W7WN5fZoW7P",
        "outputId": "72e4ea18-f831-44b3-b35f-1850380f22a1"
      },
      "id": "5W7WN5fZoW7P",
      "execution_count": 83,
      "outputs": [
        {
          "output_type": "execute_result",
          "data": {
            "text/plain": [
              "204"
            ]
          },
          "metadata": {},
          "execution_count": 83
        }
      ]
    },
    {
      "cell_type": "code",
      "source": [
        "eval_test, report_test = evaluate(model, x_test, y_test)\n",
        "eval2_test, report2_test = evaluate(model2, x2_test, y2_test)"
      ],
      "metadata": {
        "id": "2xdia7NDWOw0"
      },
      "id": "2xdia7NDWOw0",
      "execution_count": 84,
      "outputs": []
    },
    {
      "cell_type": "code",
      "source": [
        "print('Evaluation metrics on test data (for df): \\n')\n",
        "pprint.pprint(eval_test)\n",
        "print('\\n', report_test)\n",
        "\n",
        "print('\\n\\nEvaluation metrics on test data (for df2): \\n')\n",
        "pprint.pprint(eval2_test)\n",
        "print('\\n', report2_test)"
      ],
      "metadata": {
        "colab": {
          "base_uri": "https://localhost:8080/"
        },
        "id": "RU1e3uS1o1or",
        "outputId": "488c778c-b23b-445f-e071-13c9104e5421"
      },
      "id": "RU1e3uS1o1or",
      "execution_count": 89,
      "outputs": [
        {
          "output_type": "stream",
          "name": "stdout",
          "text": [
            "Evaluation metrics on test data (for df): \n",
            "\n",
            "{'accuracy': 0.9889376039632318,\n",
            " 'f1_score': 0.9890120024666136,\n",
            " 'roc_auc_score': 0.9889411303365628,\n",
            " 'y_pred': array([1, 1, 0, ..., 1, 1, 1])}\n",
            "\n",
            "               precision    recall  f1-score   support\n",
            "\n",
            "           0       1.00      0.98      0.99    635750\n",
            "           1       0.98      1.00      0.99    635132\n",
            "\n",
            "    accuracy                           0.99   1270882\n",
            "   macro avg       0.99      0.99      0.99   1270882\n",
            "weighted avg       0.99      0.99      0.99   1270882\n",
            "\n",
            "\n",
            "\n",
            "Evaluation metrics on test data (for df2): \n",
            "\n",
            "{'accuracy': 0.9866809065237854,\n",
            " 'f1_score': 0.9867795026591921,\n",
            " 'roc_auc_score': 0.9866970433041412,\n",
            " 'y_pred': array([1, 0, 0, ..., 0, 1, 0])}\n",
            "\n",
            "               precision    recall  f1-score   support\n",
            "\n",
            "           0       1.00      0.98      0.99    276705\n",
            "           1       0.98      1.00      0.99    275735\n",
            "\n",
            "    accuracy                           0.99    552440\n",
            "   macro avg       0.99      0.99      0.99    552440\n",
            "weighted avg       0.99      0.99      0.99    552440\n",
            "\n"
          ]
        }
      ]
    },
    {
      "cell_type": "markdown",
      "source": [
        "Although very comparable, model has slightly better test performance than model2. (Possibly because of more data.)\n",
        "Both results are impressive and we have got **99% accuracy and f1-score during test** in both cases.\n",
        "\n",
        "However, we can infer that 'model' is the best classifier."
      ],
      "metadata": {
        "id": "FQygiRVWpigV"
      },
      "id": "FQygiRVWpigV"
    },
    {
      "cell_type": "code",
      "source": [
        "best = model"
      ],
      "metadata": {
        "id": "kEmAFC2mpS7v"
      },
      "id": "kEmAFC2mpS7v",
      "execution_count": 86,
      "outputs": []
    },
    {
      "cell_type": "markdown",
      "source": [
        "# Feature importances"
      ],
      "metadata": {
        "id": "Ov1NQpUhvbCr"
      },
      "id": "Ov1NQpUhvbCr"
    },
    {
      "cell_type": "code",
      "source": [
        "from xgboost import plot_importance"
      ],
      "metadata": {
        "id": "0XQdPiuhv4iK"
      },
      "id": "0XQdPiuhv4iK",
      "execution_count": 87,
      "outputs": []
    },
    {
      "cell_type": "code",
      "source": [
        "fig, ax = plt.subplots(1, 3, figsize=(16,5))\n",
        "\n",
        "plot_importance(booster=best, importance_type='weight', title='Weight', show_values=False, height=0.5, ax = ax[0])\n",
        "\n",
        "# plot importances with split mean gain\n",
        "plot_importance(booster=best, importance_type='gain', title='Gain', show_values=False, height=0.5, ax = ax[1])\n",
        "\n",
        "# plot importances with sample coverage\n",
        "plot_importance( booster=best, importance_type='cover', title='Coverage', show_values=False, height=0.5, ax = ax[2])\n",
        "\n",
        "plt.tight_layout()\n",
        "plt.show()\n"
      ],
      "metadata": {
        "colab": {
          "base_uri": "https://localhost:8080/",
          "height": 369
        },
        "id": "93ETPo-3u6LV",
        "outputId": "85cc591b-a25e-448b-8bbb-1f89dde3d23e"
      },
      "id": "93ETPo-3u6LV",
      "execution_count": 88,
      "outputs": [
        {
          "output_type": "display_data",
          "data": {
            "text/plain": [
              "<Figure size 1152x360 with 3 Axes>"
            ],
            "image/png": "[encoded data removed]"
          },
          "metadata": {
            "needs_background": "light"
          }
        }
      ]
    },
    {
      "cell_type": "markdown",
      "source": [
        "From the plot, we can infer that \n",
        "- diffOrg has the most gain, i.e. diffOrg contributed most towards model prediction. oldbalanceOrg, amount, and newbalanceDest follows. <br>\n",
        "$\\implies$ The most important features are diffOrg, oldbalanceOrg, amount and newbalanceDest.\n",
        "- As we look further down the gain plot, we find that PAYMENT contributed more than TRANSFER towards model prediction. This can be attributed towards much greater number of PAYMENT samples in the distribution (than TRANSFER). Also, TRANSFER and PAYMENT has very similar weights. <br>\n",
        "This result doesn't make sense because all PAYMENTs were non-fraud in the original dataset and did not contribute towards target label.\n",
        "- The gain of CASH_IN over diffDest is also not very intuitive, because diffDest has more sample cover than CASH_IN and also has more weight. And CASH_IN is another feature that didn't contribute towards target label.\n",
        "- Even with comparatively high weight for step, it has very less gain. This may be due to the fact that fraud transactions per category has an almost uniform distribution on step - yet, the result is quite unexpected.\n",
        "- The feature isFlaggedFraud, although present in the dataset, seems to be completely ommitted. XGBoost algorithm might have ignored isFlaggedFraud because it had only very less number of positive examples.\n",
        "- It seems justified that CASH_OUT has a low weight, because it has a comparatively high sample coverage, but requires only moderate gain for model prediction."
      ],
      "metadata": {
        "id": "wCgsP0ZPzfsS"
      },
      "id": "wCgsP0ZPzfsS"
    },
    {
      "cell_type": "markdown",
      "source": [
        "# Fraud prevention"
      ],
      "metadata": {
        "id": "kyD87dA6CERt"
      },
      "id": "kyD87dA6CERt"
    },
    {
      "cell_type": "markdown",
      "source": [
        "- When updating the infrastructure for preventing fraud transactions, the company should lookout for anomalies in diffOrg.\n",
        "$$\\text{diffOrg = oldbalanceOrg  - newbalanceOrig + amount}$$\n",
        "- Detecting anomalies in a feature that combines oldbalanceOrg, amount and newbalanceDest, will also be useful for fraud prevention. E.g.\n",
        "$$\\text{suspectRatio} = \\frac{\\text{oldbalanceOrg + amount}}{\\text{newbalanceDest}}$$\n",
        "- Using a different criteria for flagging fraudulent transactions will also be useful."
      ],
      "metadata": {
        "id": "0c4W2p-0Ccwg"
      },
      "id": "0c4W2p-0Ccwg"
    },
    {
      "cell_type": "markdown",
      "source": [
        "After updating the infrastructure, we can retrain the model using new data and compare the model performances to determine whether the updates will be successful towards proactive fraud detection."
      ],
      "metadata": {
        "id": "XoXtnVPXF2cm"
      },
      "id": "XoXtnVPXF2cm"
    }
  ],
  "metadata": {
    "kernelspec": {
      "display_name": "Python 3 (ipykernel)",
      "language": "python",
      "name": "python3"
    },
    "language_info": {
      "codemirror_mode": {
        "name": "ipython",
        "version": 3
      },
      "file_extension": ".py",
      "mimetype": "text/x-python",
      "name": "python",
      "nbconvert_exporter": "python",
      "pygments_lexer": "ipython3",
      "version": "3.9.7"
    },
    "colab": {
      "name": "INSAID Internship Screening Task - Jincy P Janardhanan.ipynb",
      "provenance": [],
      "collapsed_sections": [],
      "include_colab_link": true
    },
    "accelerator": "GPU"
  },
  "nbformat": 4,
  "nbformat_minor": 5
}